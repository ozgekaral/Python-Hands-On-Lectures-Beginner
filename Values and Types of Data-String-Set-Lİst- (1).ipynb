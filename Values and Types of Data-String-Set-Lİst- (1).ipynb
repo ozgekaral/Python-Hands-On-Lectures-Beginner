{
 "cells": [
  {
   "cell_type": "markdown",
   "id": "67cf9a39",
   "metadata": {},
   "source": [
    "## Values ##"
   ]
  },
  {
   "cell_type": "markdown",
   "id": "71868ae6",
   "metadata": {},
   "source": [
    "#### Value is a adress_number on the notebook.It is always defined on the memory of the notebook."
   ]
  },
  {
   "cell_type": "markdown",
   "id": "977eda3b",
   "metadata": {},
   "source": [
    "#### We assigment a new value the same time the notebook create and assigment a new value. ####"
   ]
  },
  {
   "cell_type": "code",
   "execution_count": 47,
   "id": "d9badbd1",
   "metadata": {},
   "outputs": [],
   "source": [
    "a=1"
   ]
  },
  {
   "cell_type": "code",
   "execution_count": 48,
   "id": "ea536ee7",
   "metadata": {},
   "outputs": [
    {
     "data": {
      "text/plain": [
       "1"
      ]
     },
     "execution_count": 48,
     "metadata": {},
     "output_type": "execute_result"
    }
   ],
   "source": [
    "a"
   ]
  },
  {
   "cell_type": "code",
   "execution_count": 49,
   "id": "c22132a8",
   "metadata": {},
   "outputs": [],
   "source": [
    "opinion='we can develop this program '"
   ]
  },
  {
   "cell_type": "code",
   "execution_count": 50,
   "id": "376b16ad",
   "metadata": {},
   "outputs": [
    {
     "data": {
      "text/plain": [
       "'we can develop this program '"
      ]
     },
     "execution_count": 50,
     "metadata": {},
     "output_type": "execute_result"
    }
   ],
   "source": [
    "opinion"
   ]
  },
  {
   "cell_type": "code",
   "execution_count": 51,
   "id": "79f5c7d9",
   "metadata": {},
   "outputs": [],
   "source": [
    "a='new value'"
   ]
  },
  {
   "cell_type": "code",
   "execution_count": 52,
   "id": "ce554f2c",
   "metadata": {},
   "outputs": [
    {
     "data": {
      "text/plain": [
       "'new value'"
      ]
     },
     "execution_count": 52,
     "metadata": {},
     "output_type": "execute_result"
    }
   ],
   "source": [
    "a                                        # We assigment the new value,so our value change but 'a'is the same."
   ]
  },
  {
   "cell_type": "markdown",
   "id": "fa88c1a1",
   "metadata": {},
   "source": [
    "#### We used naming the values with 'snake case' and you can review this method. ####"
   ]
  },
  {
   "cell_type": "markdown",
   "id": "321802fe",
   "metadata": {},
   "source": [
    "### Built-in Data Types in Python ###"
   ]
  },
  {
   "cell_type": "markdown",
   "id": "75d8be61",
   "metadata": {},
   "source": [
    "* Binary Types: memoryview, bytearray, bytes\n",
    "* Boolean Type: bool\n",
    "* Set Types: frozenset, set\n",
    "* Mapping Type: dict\n",
    "* Sequence Types: range, tuple, list\n",
    "* Numeric Types: complex, float, int\n",
    "* Text Type: str"
   ]
  },
  {
   "cell_type": "code",
   "execution_count": 53,
   "id": "e22d007f",
   "metadata": {},
   "outputs": [
    {
     "data": {
      "text/plain": [
       "str"
      ]
     },
     "execution_count": 53,
     "metadata": {},
     "output_type": "execute_result"
    }
   ],
   "source": [
    "a      \n",
    "type(a)               #string'str'"
   ]
  },
  {
   "cell_type": "code",
   "execution_count": 54,
   "id": "41188f09",
   "metadata": {},
   "outputs": [
    {
     "data": {
      "text/plain": [
       "int"
      ]
     },
     "execution_count": 54,
     "metadata": {},
     "output_type": "execute_result"
    }
   ],
   "source": [
    "pi=3                  #integer'int'\n",
    "type(pi)"
   ]
  },
  {
   "cell_type": "code",
   "execution_count": 55,
   "id": "417195de",
   "metadata": {},
   "outputs": [
    {
     "data": {
      "text/plain": [
       "float"
      ]
     },
     "execution_count": 55,
     "metadata": {},
     "output_type": "execute_result"
    }
   ],
   "source": [
    "b=12.5                #float\n",
    "type(b)"
   ]
  },
  {
   "cell_type": "code",
   "execution_count": 1,
   "id": "a0dc76f0",
   "metadata": {},
   "outputs": [
    {
     "data": {
      "text/plain": [
       "list"
      ]
     },
     "execution_count": 1,
     "metadata": {},
     "output_type": "execute_result"
    }
   ],
   "source": [
    "list_1=[1,2,3,4,5]     #list\n",
    "type(list_1)"
   ]
  },
  {
   "cell_type": "code",
   "execution_count": 2,
   "id": "3400f5c7",
   "metadata": {},
   "outputs": [
    {
     "data": {
      "text/plain": [
       "tuple"
      ]
     },
     "execution_count": 2,
     "metadata": {},
     "output_type": "execute_result"
    }
   ],
   "source": [
    "dual=('a','b')\n",
    "type(dual)"
   ]
  },
  {
   "cell_type": "code",
   "execution_count": 5,
   "id": "a57b638a",
   "metadata": {},
   "outputs": [],
   "source": [
    "dic_1={\n",
    "    'adi':'john'\n",
    "}"
   ]
  },
  {
   "cell_type": "code",
   "execution_count": 6,
   "id": "feb486dd",
   "metadata": {},
   "outputs": [
    {
     "data": {
      "text/plain": [
       "dict"
      ]
     },
     "execution_count": 6,
     "metadata": {},
     "output_type": "execute_result"
    }
   ],
   "source": [
    "type(dic_1)"
   ]
  },
  {
   "cell_type": "code",
   "execution_count": 67,
   "id": "87011b8c",
   "metadata": {},
   "outputs": [
    {
     "name": "stdout",
     "output_type": "stream",
     "text": [
      "{1, 2, 3, 4, 5}\n"
     ]
    }
   ],
   "source": [
    "cluster=set([1,2,3,4,5,1,5,2])                    #Take carefull the result\n",
    "type(cluster)\n",
    "print(cluster)"
   ]
  },
  {
   "cell_type": "code",
   "execution_count": 70,
   "id": "83bbd0ae",
   "metadata": {},
   "outputs": [
    {
     "data": {
      "text/plain": [
       "bool"
      ]
     },
     "execution_count": 70,
     "metadata": {},
     "output_type": "execute_result"
    }
   ],
   "source": [
    "x=True\n",
    "y=False\n",
    "type(x)\n",
    "type(y)"
   ]
  },
  {
   "cell_type": "markdown",
   "id": "405b2f6c",
   "metadata": {},
   "source": [
    "### Numerical Operation ###"
   ]
  },
  {
   "cell_type": "code",
   "execution_count": 73,
   "id": "6e482e15",
   "metadata": {},
   "outputs": [],
   "source": [
    "s=14**3"
   ]
  },
  {
   "cell_type": "code",
   "execution_count": 74,
   "id": "34a027f6",
   "metadata": {},
   "outputs": [],
   "source": [
    "z=452/6"
   ]
  },
  {
   "cell_type": "code",
   "execution_count": 75,
   "id": "f168b735",
   "metadata": {},
   "outputs": [
    {
     "data": {
      "text/plain": [
       "2819.3333333333335"
      ]
     },
     "execution_count": 75,
     "metadata": {},
     "output_type": "execute_result"
    }
   ],
   "source": [
    "s+z"
   ]
  },
  {
   "cell_type": "code",
   "execution_count": 78,
   "id": "d8a4b878",
   "metadata": {},
   "outputs": [
    {
     "data": {
      "text/plain": [
       "56693912375278.0"
      ]
     },
     "execution_count": 78,
     "metadata": {},
     "output_type": "execute_result"
    }
   ],
   "source": [
    "(s**4)-(z//4)                 "
   ]
  },
  {
   "cell_type": "code",
   "execution_count": 81,
   "id": "a53be139",
   "metadata": {},
   "outputs": [
    {
     "name": "stdout",
     "output_type": "stream",
     "text": [
      "-1335.0\n"
     ]
    }
   ],
   "source": [
    "print(z%-s//2)"
   ]
  },
  {
   "cell_type": "markdown",
   "id": "102fa7e3",
   "metadata": {},
   "source": [
    "## String ##"
   ]
  },
  {
   "cell_type": "code",
   "execution_count": 7,
   "id": "9c89b2c9",
   "metadata": {},
   "outputs": [],
   "source": [
    "string_1='pink'"
   ]
  },
  {
   "cell_type": "code",
   "execution_count": 8,
   "id": "4653c5d9",
   "metadata": {},
   "outputs": [
    {
     "data": {
      "text/plain": [
       "4"
      ]
     },
     "execution_count": 8,
     "metadata": {},
     "output_type": "execute_result"
    }
   ],
   "source": [
    "len(string_1)"
   ]
  },
  {
   "cell_type": "code",
   "execution_count": 9,
   "id": "15016eb2",
   "metadata": {},
   "outputs": [
    {
     "data": {
      "text/plain": [
       "'p'"
      ]
     },
     "execution_count": 9,
     "metadata": {},
     "output_type": "execute_result"
    }
   ],
   "source": [
    "string_1[0]                                      #We an see characters with 'intex'."
   ]
  },
  {
   "cell_type": "code",
   "execution_count": 10,
   "id": "a96a55a8",
   "metadata": {},
   "outputs": [],
   "source": [
    "a=string_1[0]\n",
    "b=string_1[1]                                      #P-----first character\n",
    "c=string_1[2]                                      #i-----second character\n",
    "d=string_1[3]                                     #n-----third character                                    \n",
    "                                               #k-----forth character"
   ]
  },
  {
   "cell_type": "code",
   "execution_count": 11,
   "id": "04a4bc90",
   "metadata": {},
   "outputs": [
    {
     "data": {
      "text/plain": [
       "'p'"
      ]
     },
     "execution_count": 11,
     "metadata": {},
     "output_type": "execute_result"
    }
   ],
   "source": [
    "a"
   ]
  },
  {
   "cell_type": "code",
   "execution_count": 12,
   "id": "412fb49d",
   "metadata": {},
   "outputs": [
    {
     "data": {
      "text/plain": [
       "'i'"
      ]
     },
     "execution_count": 12,
     "metadata": {},
     "output_type": "execute_result"
    }
   ],
   "source": [
    "b"
   ]
  },
  {
   "cell_type": "code",
   "execution_count": 13,
   "id": "b31f9ae7",
   "metadata": {},
   "outputs": [
    {
     "data": {
      "text/plain": [
       "'n'"
      ]
     },
     "execution_count": 13,
     "metadata": {},
     "output_type": "execute_result"
    }
   ],
   "source": [
    "c"
   ]
  },
  {
   "cell_type": "code",
   "execution_count": 14,
   "id": "ab654bf0",
   "metadata": {},
   "outputs": [
    {
     "data": {
      "text/plain": [
       "'k'"
      ]
     },
     "execution_count": 14,
     "metadata": {},
     "output_type": "execute_result"
    }
   ],
   "source": [
    "d"
   ]
  },
  {
   "cell_type": "code",
   "execution_count": 15,
   "id": "85a2f130",
   "metadata": {},
   "outputs": [
    {
     "data": {
      "text/plain": [
       "'k'"
      ]
     },
     "execution_count": 15,
     "metadata": {},
     "output_type": "execute_result"
    }
   ],
   "source": [
    "last_character=len(string_1)-1\n",
    "string_1[last_character]"
   ]
  },
  {
   "cell_type": "markdown",
   "id": "6e92996b",
   "metadata": {},
   "source": [
    "### String Slicing ###"
   ]
  },
  {
   "cell_type": "markdown",
   "id": "108e86cc",
   "metadata": {},
   "source": [
    "#### A piece of the text is slice. ####"
   ]
  },
  {
   "cell_type": "code",
   "execution_count": 16,
   "id": "a4ababbe",
   "metadata": {},
   "outputs": [
    {
     "data": {
      "text/plain": [
       "'pink'"
      ]
     },
     "execution_count": 16,
     "metadata": {},
     "output_type": "execute_result"
    }
   ],
   "source": [
    "text='pink coat'\n",
    "text[0:4]"
   ]
  },
  {
   "cell_type": "code",
   "execution_count": 17,
   "id": "9e73e286",
   "metadata": {},
   "outputs": [
    {
     "data": {
      "text/plain": [
       "'pink'"
      ]
     },
     "execution_count": 17,
     "metadata": {},
     "output_type": "execute_result"
    }
   ],
   "source": [
    "text[:4]"
   ]
  },
  {
   "cell_type": "code",
   "execution_count": 18,
   "id": "d2bc6cfe",
   "metadata": {},
   "outputs": [
    {
     "data": {
      "text/plain": [
       "' coat'"
      ]
     },
     "execution_count": 18,
     "metadata": {},
     "output_type": "execute_result"
    }
   ],
   "source": [
    "text[4:9]"
   ]
  },
  {
   "cell_type": "code",
   "execution_count": 19,
   "id": "6c622c61",
   "metadata": {},
   "outputs": [
    {
     "data": {
      "text/plain": [
       "' coat'"
      ]
     },
     "execution_count": 19,
     "metadata": {},
     "output_type": "execute_result"
    }
   ],
   "source": [
    "text[4:]"
   ]
  },
  {
   "cell_type": "code",
   "execution_count": 20,
   "id": "aef3d7b1",
   "metadata": {},
   "outputs": [
    {
     "data": {
      "text/plain": [
       "'coat'"
      ]
     },
     "execution_count": 20,
     "metadata": {},
     "output_type": "execute_result"
    }
   ],
   "source": [
    "text[5:]"
   ]
  },
  {
   "cell_type": "markdown",
   "id": "6083a0f8",
   "metadata": {},
   "source": [
    "#### Amount of increase ####"
   ]
  },
  {
   "cell_type": "code",
   "execution_count": 21,
   "id": "fedb4456",
   "metadata": {},
   "outputs": [],
   "source": [
    "numbers='986754321'"
   ]
  },
  {
   "cell_type": "code",
   "execution_count": 22,
   "id": "711c18b4",
   "metadata": {},
   "outputs": [
    {
     "data": {
      "text/plain": [
       "'951'"
      ]
     },
     "execution_count": 22,
     "metadata": {},
     "output_type": "execute_result"
    }
   ],
   "source": [
    "numbers[::4]"
   ]
  },
  {
   "cell_type": "code",
   "execution_count": 23,
   "id": "33119670",
   "metadata": {},
   "outputs": [
    {
     "data": {
      "text/plain": [
       "'9'"
      ]
     },
     "execution_count": 23,
     "metadata": {},
     "output_type": "execute_result"
    }
   ],
   "source": [
    "numbers[0]"
   ]
  },
  {
   "cell_type": "code",
   "execution_count": 24,
   "id": "e8a902ec",
   "metadata": {},
   "outputs": [
    {
     "data": {
      "text/plain": [
       "'8'"
      ]
     },
     "execution_count": 24,
     "metadata": {},
     "output_type": "execute_result"
    }
   ],
   "source": [
    "numbers[1]"
   ]
  },
  {
   "cell_type": "markdown",
   "id": "2027697c",
   "metadata": {},
   "source": [
    "### Negative İndex ###"
   ]
  },
  {
   "cell_type": "markdown",
   "id": "a2678bfd",
   "metadata": {},
   "source": [
    "#### Starting to the right and going through to left.It is  -1 in starting. ####"
   ]
  },
  {
   "cell_type": "code",
   "execution_count": 25,
   "id": "cad130ba",
   "metadata": {},
   "outputs": [
    {
     "data": {
      "text/plain": [
       "'1'"
      ]
     },
     "execution_count": 25,
     "metadata": {},
     "output_type": "execute_result"
    }
   ],
   "source": [
    "numbers[-1]"
   ]
  },
  {
   "cell_type": "code",
   "execution_count": 26,
   "id": "88760386",
   "metadata": {},
   "outputs": [],
   "source": [
    "x=numbers[-1]\n",
    "y=numbers[-2]\n",
    "z=numbers[-3]\n",
    "m=numbers[-4]\n",
    "n=numbers[-5]\n",
    "o=numbers[-6]\n",
    "t=numbers[-7]\n",
    "r=numbers[-8]\n",
    "s=numbers[-9]"
   ]
  },
  {
   "cell_type": "code",
   "execution_count": 27,
   "id": "215b214d",
   "metadata": {},
   "outputs": [
    {
     "data": {
      "text/plain": [
       "'1'"
      ]
     },
     "execution_count": 27,
     "metadata": {},
     "output_type": "execute_result"
    }
   ],
   "source": [
    "x"
   ]
  },
  {
   "cell_type": "code",
   "execution_count": 28,
   "id": "509b1214",
   "metadata": {},
   "outputs": [
    {
     "data": {
      "text/plain": [
       "'2'"
      ]
     },
     "execution_count": 28,
     "metadata": {},
     "output_type": "execute_result"
    }
   ],
   "source": [
    "y"
   ]
  },
  {
   "cell_type": "code",
   "execution_count": 29,
   "id": "9000948f",
   "metadata": {},
   "outputs": [
    {
     "data": {
      "text/plain": [
       "'3'"
      ]
     },
     "execution_count": 29,
     "metadata": {},
     "output_type": "execute_result"
    }
   ],
   "source": [
    "z"
   ]
  },
  {
   "cell_type": "code",
   "execution_count": 30,
   "id": "d9f6e429",
   "metadata": {},
   "outputs": [
    {
     "data": {
      "text/plain": [
       "'4'"
      ]
     },
     "execution_count": 30,
     "metadata": {},
     "output_type": "execute_result"
    }
   ],
   "source": [
    "m"
   ]
  },
  {
   "cell_type": "code",
   "execution_count": 31,
   "id": "c59e589f",
   "metadata": {},
   "outputs": [
    {
     "data": {
      "text/plain": [
       "'5'"
      ]
     },
     "execution_count": 31,
     "metadata": {},
     "output_type": "execute_result"
    }
   ],
   "source": [
    "n"
   ]
  },
  {
   "cell_type": "code",
   "execution_count": 32,
   "id": "7914d0c8",
   "metadata": {},
   "outputs": [
    {
     "data": {
      "text/plain": [
       "'7'"
      ]
     },
     "execution_count": 32,
     "metadata": {},
     "output_type": "execute_result"
    }
   ],
   "source": [
    "o"
   ]
  },
  {
   "cell_type": "code",
   "execution_count": 33,
   "id": "eb2bf3ca",
   "metadata": {},
   "outputs": [
    {
     "data": {
      "text/plain": [
       "'6'"
      ]
     },
     "execution_count": 33,
     "metadata": {},
     "output_type": "execute_result"
    }
   ],
   "source": [
    "t"
   ]
  },
  {
   "cell_type": "code",
   "execution_count": 34,
   "id": "012f5b39",
   "metadata": {},
   "outputs": [
    {
     "data": {
      "text/plain": [
       "'8'"
      ]
     },
     "execution_count": 34,
     "metadata": {},
     "output_type": "execute_result"
    }
   ],
   "source": [
    "r"
   ]
  },
  {
   "cell_type": "code",
   "execution_count": 35,
   "id": "38074e12",
   "metadata": {},
   "outputs": [
    {
     "data": {
      "text/plain": [
       "'9'"
      ]
     },
     "execution_count": 35,
     "metadata": {},
     "output_type": "execute_result"
    }
   ],
   "source": [
    "s"
   ]
  },
  {
   "cell_type": "code",
   "execution_count": 36,
   "id": "f485f55f",
   "metadata": {},
   "outputs": [
    {
     "data": {
      "text/plain": [
       "('6', '5')"
      ]
     },
     "execution_count": 36,
     "metadata": {},
     "output_type": "execute_result"
    }
   ],
   "source": [
    "numbers[-7],numbers[4]"
   ]
  },
  {
   "cell_type": "code",
   "execution_count": 37,
   "id": "454a40c8",
   "metadata": {},
   "outputs": [
    {
     "data": {
      "text/plain": [
       "('5', '5')"
      ]
     },
     "execution_count": 37,
     "metadata": {},
     "output_type": "execute_result"
    }
   ],
   "source": [
    "numbers[-5],numbers[4]"
   ]
  },
  {
   "cell_type": "markdown",
   "id": "c924f7d7",
   "metadata": {},
   "source": [
    "### Negative Slicing ###"
   ]
  },
  {
   "cell_type": "code",
   "execution_count": 38,
   "id": "acf17e93",
   "metadata": {},
   "outputs": [
    {
     "data": {
      "text/plain": [
       "'123457689'"
      ]
     },
     "execution_count": 38,
     "metadata": {},
     "output_type": "execute_result"
    }
   ],
   "source": [
    "numbers[::-1]"
   ]
  },
  {
   "cell_type": "code",
   "execution_count": 39,
   "id": "1c88b6a9",
   "metadata": {},
   "outputs": [
    {
     "data": {
      "text/plain": [
       "'98675432'"
      ]
     },
     "execution_count": 39,
     "metadata": {},
     "output_type": "execute_result"
    }
   ],
   "source": [
    "numbers[:-1]"
   ]
  },
  {
   "cell_type": "code",
   "execution_count": 40,
   "id": "0b50466f",
   "metadata": {},
   "outputs": [
    {
     "data": {
      "text/plain": [
       "'9867543'"
      ]
     },
     "execution_count": 40,
     "metadata": {},
     "output_type": "execute_result"
    }
   ],
   "source": [
    "numbers[:-2:]"
   ]
  },
  {
   "cell_type": "code",
   "execution_count": 41,
   "id": "e4a1dec7",
   "metadata": {},
   "outputs": [
    {
     "data": {
      "text/plain": [
       "'21'"
      ]
     },
     "execution_count": 41,
     "metadata": {},
     "output_type": "execute_result"
    }
   ],
   "source": [
    "numbers[-2::]"
   ]
  },
  {
   "cell_type": "code",
   "execution_count": 42,
   "id": "98f53304",
   "metadata": {},
   "outputs": [
    {
     "data": {
      "text/plain": [
       "'13569'"
      ]
     },
     "execution_count": 42,
     "metadata": {},
     "output_type": "execute_result"
    }
   ],
   "source": [
    "numbers[::-2]"
   ]
  },
  {
   "cell_type": "markdown",
   "id": "3c319484",
   "metadata": {},
   "source": [
    "### String Methods ###"
   ]
  },
  {
   "cell_type": "markdown",
   "id": "6955e80a",
   "metadata": {},
   "source": [
    "* upper() - It makes bigger any text.\n",
    "* low() - It makes smaller any text.\n",
    "* Strip() - Deleting spaces from beginning and end in any text.\n",
    "* lstrip()- Deleting spaces from left\n",
    "* rstrip() - Deleting spaces from right\n",
    "* format() -\n",
    "* find() - Find the a part of the text or any character.If ıt does not find any character,we see '-1' on the screen.It start to find from first index.\n",
    "* capitalize()-Capitalizes the first character of the text.\n",
    "* title() -Capitalizes the all character of the text.\n",
    "* isdigit() - Is the text ınteger? - It answer us 'True or False'-\n",
    "* startswith() - Does the text start with given character.\n",
    "* endswith()- Does the text end with given character.\n",
    "* replace() _ A part of the text or any character replace with another."
   ]
  },
  {
   "cell_type": "code",
   "execution_count": 43,
   "id": "af878c3e",
   "metadata": {},
   "outputs": [
    {
     "data": {
      "text/plain": [
       "'JOHN IS A STUDENT.'"
      ]
     },
     "execution_count": 43,
     "metadata": {},
     "output_type": "execute_result"
    }
   ],
   "source": [
    "'john is a student.'.upper()"
   ]
  },
  {
   "cell_type": "code",
   "execution_count": 44,
   "id": "7344b4ec",
   "metadata": {},
   "outputs": [
    {
     "data": {
      "text/plain": [
       "'john is a student.'"
      ]
     },
     "execution_count": 44,
     "metadata": {},
     "output_type": "execute_result"
    }
   ],
   "source": [
    "'john is a student.'.lower()"
   ]
  },
  {
   "cell_type": "code",
   "execution_count": 45,
   "id": "74c20925",
   "metadata": {},
   "outputs": [
    {
     "data": {
      "text/plain": [
       "'john is a student.'"
      ]
     },
     "execution_count": 45,
     "metadata": {},
     "output_type": "execute_result"
    }
   ],
   "source": [
    "'    john is a student.  '.strip()"
   ]
  },
  {
   "cell_type": "code",
   "execution_count": 46,
   "id": "fd0ac30b",
   "metadata": {},
   "outputs": [
    {
     "data": {
      "text/plain": [
       "'john is a student.'"
      ]
     },
     "execution_count": 46,
     "metadata": {},
     "output_type": "execute_result"
    }
   ],
   "source": [
    "'    john is a student.'.lstrip()"
   ]
  },
  {
   "cell_type": "code",
   "execution_count": 47,
   "id": "8b3586bb",
   "metadata": {},
   "outputs": [
    {
     "data": {
      "text/plain": [
       "'john is a student.'"
      ]
     },
     "execution_count": 47,
     "metadata": {},
     "output_type": "execute_result"
    }
   ],
   "source": [
    "'john is a student.    '.rstrip()"
   ]
  },
  {
   "cell_type": "code",
   "execution_count": 48,
   "id": "5f6c7853",
   "metadata": {},
   "outputs": [],
   "source": [
    "u='john is a student'\n",
    "k='his mother is a teacher'"
   ]
  },
  {
   "cell_type": "code",
   "execution_count": 49,
   "id": "90167166",
   "metadata": {},
   "outputs": [
    {
     "name": "stdout",
     "output_type": "stream",
     "text": [
      "john is a student his mother is a teacher\n"
     ]
    }
   ],
   "source": [
    "print('{0} {1}'.format(u,k))"
   ]
  },
  {
   "cell_type": "code",
   "execution_count": 50,
   "id": "83461c13",
   "metadata": {},
   "outputs": [
    {
     "name": "stdout",
     "output_type": "stream",
     "text": [
      "john is a student and his mother is a teacher\n"
     ]
    }
   ],
   "source": [
    "print('{0} and {1}'.format(u,k))"
   ]
  },
  {
   "cell_type": "code",
   "execution_count": 51,
   "id": "92a6e06b",
   "metadata": {},
   "outputs": [
    {
     "data": {
      "text/plain": [
       "11"
      ]
     },
     "execution_count": 51,
     "metadata": {},
     "output_type": "execute_result"
    }
   ],
   "source": [
    "'john is a student'.find('t',2)"
   ]
  },
  {
   "cell_type": "code",
   "execution_count": 52,
   "id": "2ba51ce9",
   "metadata": {},
   "outputs": [
    {
     "data": {
      "text/plain": [
       "16"
      ]
     },
     "execution_count": 52,
     "metadata": {},
     "output_type": "execute_result"
    }
   ],
   "source": [
    "'john is a student'.find('t',12)"
   ]
  },
  {
   "cell_type": "code",
   "execution_count": 53,
   "id": "f2de4b39",
   "metadata": {},
   "outputs": [
    {
     "data": {
      "text/plain": [
       "-1"
      ]
     },
     "execution_count": 53,
     "metadata": {},
     "output_type": "execute_result"
    }
   ],
   "source": [
    "'john is a student'.find('t',12,16)                 #there is no 't'."
   ]
  },
  {
   "cell_type": "code",
   "execution_count": 54,
   "id": "0c6d8fb5",
   "metadata": {},
   "outputs": [
    {
     "data": {
      "text/plain": [
       "'John is a student'"
      ]
     },
     "execution_count": 54,
     "metadata": {},
     "output_type": "execute_result"
    }
   ],
   "source": [
    "'john is a student'.capitalize()"
   ]
  },
  {
   "cell_type": "code",
   "execution_count": 55,
   "id": "1a0d15ad",
   "metadata": {},
   "outputs": [
    {
     "data": {
      "text/plain": [
       "'John Is A Student'"
      ]
     },
     "execution_count": 55,
     "metadata": {},
     "output_type": "execute_result"
    }
   ],
   "source": [
    "'john is a student'.title()"
   ]
  },
  {
   "cell_type": "code",
   "execution_count": 56,
   "id": "020a0e7b",
   "metadata": {},
   "outputs": [
    {
     "data": {
      "text/plain": [
       "False"
      ]
     },
     "execution_count": 56,
     "metadata": {},
     "output_type": "execute_result"
    }
   ],
   "source": [
    "'john is a student'.isdigit()"
   ]
  },
  {
   "cell_type": "code",
   "execution_count": 57,
   "id": "d23d4b96",
   "metadata": {},
   "outputs": [
    {
     "data": {
      "text/plain": [
       "True"
      ]
     },
     "execution_count": 57,
     "metadata": {},
     "output_type": "execute_result"
    }
   ],
   "source": [
    "'8456'.isdigit()"
   ]
  },
  {
   "cell_type": "code",
   "execution_count": 58,
   "id": "f96a383f",
   "metadata": {},
   "outputs": [
    {
     "data": {
      "text/plain": [
       "False"
      ]
     },
     "execution_count": 58,
     "metadata": {},
     "output_type": "execute_result"
    }
   ],
   "source": [
    "'-2879'.isdigit()"
   ]
  },
  {
   "cell_type": "code",
   "execution_count": 59,
   "id": "7f4312ba",
   "metadata": {},
   "outputs": [
    {
     "data": {
      "text/plain": [
       "True"
      ]
     },
     "execution_count": 59,
     "metadata": {},
     "output_type": "execute_result"
    }
   ],
   "source": [
    "'john is a student'.startswith('j')"
   ]
  },
  {
   "cell_type": "code",
   "execution_count": 60,
   "id": "567f38f3",
   "metadata": {},
   "outputs": [
    {
     "data": {
      "text/plain": [
       "True"
      ]
     },
     "execution_count": 60,
     "metadata": {},
     "output_type": "execute_result"
    }
   ],
   "source": [
    "'john is a student'.startswith('joh')"
   ]
  },
  {
   "cell_type": "code",
   "execution_count": 61,
   "id": "6ec043f3",
   "metadata": {},
   "outputs": [
    {
     "data": {
      "text/plain": [
       "False"
      ]
     },
     "execution_count": 61,
     "metadata": {},
     "output_type": "execute_result"
    }
   ],
   "source": [
    "'john is a student'.startswith('a')"
   ]
  },
  {
   "cell_type": "code",
   "execution_count": 62,
   "id": "faf54142",
   "metadata": {},
   "outputs": [
    {
     "data": {
      "text/plain": [
       "False"
      ]
     },
     "execution_count": 62,
     "metadata": {},
     "output_type": "execute_result"
    }
   ],
   "source": [
    "'john is a student'.endswith('a')"
   ]
  },
  {
   "cell_type": "code",
   "execution_count": 63,
   "id": "c911970a",
   "metadata": {},
   "outputs": [
    {
     "data": {
      "text/plain": [
       "True"
      ]
     },
     "execution_count": 63,
     "metadata": {},
     "output_type": "execute_result"
    }
   ],
   "source": [
    "'john is a student'.endswith('t')"
   ]
  },
  {
   "cell_type": "code",
   "execution_count": 64,
   "id": "e907455a",
   "metadata": {},
   "outputs": [
    {
     "data": {
      "text/plain": [
       "'samuel is a student'"
      ]
     },
     "execution_count": 64,
     "metadata": {},
     "output_type": "execute_result"
    }
   ],
   "source": [
    "'john is a student'.replace('john', 'samuel')"
   ]
  },
  {
   "cell_type": "markdown",
   "id": "0f0a17ca",
   "metadata": {},
   "source": [
    "### 'In' operator ###"
   ]
  },
  {
   "cell_type": "markdown",
   "id": "eff258a2",
   "metadata": {},
   "source": [
    "#### We use to do check a part of text or any character that whether it is or not in other text. ####"
   ]
  },
  {
   "cell_type": "code",
   "execution_count": 65,
   "id": "f6a7af85",
   "metadata": {},
   "outputs": [
    {
     "data": {
      "text/plain": [
       "True"
      ]
     },
     "execution_count": 65,
     "metadata": {},
     "output_type": "execute_result"
    }
   ],
   "source": [
    "'a' in 'john is a student'"
   ]
  },
  {
   "cell_type": "code",
   "execution_count": 66,
   "id": "4270b9ae",
   "metadata": {},
   "outputs": [
    {
     "data": {
      "text/plain": [
       "True"
      ]
     },
     "execution_count": 66,
     "metadata": {},
     "output_type": "execute_result"
    }
   ],
   "source": [
    "'joh' in 'john is a student'"
   ]
  },
  {
   "cell_type": "code",
   "execution_count": 67,
   "id": "4d96d53c",
   "metadata": {},
   "outputs": [
    {
     "data": {
      "text/plain": [
       "False"
      ]
     },
     "execution_count": 67,
     "metadata": {},
     "output_type": "execute_result"
    }
   ],
   "source": [
    "'w' in 'john is a student'"
   ]
  },
  {
   "cell_type": "code",
   "execution_count": 68,
   "id": "e7bc245c",
   "metadata": {},
   "outputs": [
    {
     "name": "stdout",
     "output_type": "stream",
     "text": [
      "john is a student in the school.\n"
     ]
    }
   ],
   "source": [
    "if 'student' in 'john is a student':\n",
    "    print('john is a student'+' in the school.')\n",
    "else:\n",
    "    print('Not'+ 'john is a student')"
   ]
  },
  {
   "cell_type": "code",
   "execution_count": 69,
   "id": "793e6ea4",
   "metadata": {},
   "outputs": [
    {
     "name": "stdout",
     "output_type": "stream",
     "text": [
      "No john is a student\n"
     ]
    }
   ],
   "source": [
    "if 'teacher' in 'john is a student':\n",
    "    print('john is a student'+'in the school.')\n",
    "else:\n",
    "    print('No'+' john is a student')"
   ]
  },
  {
   "cell_type": "markdown",
   "id": "2f409630",
   "metadata": {},
   "source": [
    "### Text Comparison ###"
   ]
  },
  {
   "cell_type": "markdown",
   "id": "a3cba34f",
   "metadata": {},
   "source": [
    "#### We sometime need to comparative two text. ####"
   ]
  },
  {
   "cell_type": "code",
   "execution_count": 70,
   "id": "722a10ba",
   "metadata": {},
   "outputs": [
    {
     "name": "stdout",
     "output_type": "stream",
     "text": [
      "even\n"
     ]
    }
   ],
   "source": [
    "text='John is a student.'\n",
    "if text=='John is a student.':\n",
    "    print('even')\n",
    "else:\n",
    "    print('not even')"
   ]
  },
  {
   "cell_type": "code",
   "execution_count": 71,
   "id": "6de16d83",
   "metadata": {},
   "outputs": [],
   "source": [
    "c='pink'\n",
    "c2='black'\n",
    "c3='purple'"
   ]
  },
  {
   "cell_type": "code",
   "execution_count": 72,
   "id": "4b4612b7",
   "metadata": {},
   "outputs": [
    {
     "name": "stdout",
     "output_type": "stream",
     "text": [
      "c is smaller then c2\n"
     ]
    }
   ],
   "source": [
    "if c<c2:\n",
    "    print('c is bigger then c2')\n",
    "else:                                             #The ASCII character of 'c' is smaller then c1.\n",
    "    print('c is smaller then c2')                 #We use to see the ASCII character of any text ord()"
   ]
  },
  {
   "cell_type": "code",
   "execution_count": 73,
   "id": "e332f51f",
   "metadata": {},
   "outputs": [
    {
     "name": "stdout",
     "output_type": "stream",
     "text": [
      "c is bigger then c3\n"
     ]
    }
   ],
   "source": [
    "if c<c3:\n",
    "    print('c is bigger then c3')\n",
    "else:\n",
    "    print('c is smaller then c3')"
   ]
  },
  {
   "cell_type": "code",
   "execution_count": 74,
   "id": "cb58bb2e",
   "metadata": {},
   "outputs": [
    {
     "data": {
      "text/plain": [
       "65"
      ]
     },
     "execution_count": 74,
     "metadata": {},
     "output_type": "execute_result"
    }
   ],
   "source": [
    "ord('A')                                        #'A' is smaller then 'a' according to ASCII."
   ]
  },
  {
   "cell_type": "code",
   "execution_count": 75,
   "id": "8ed91a8a",
   "metadata": {},
   "outputs": [
    {
     "data": {
      "text/plain": [
       "97"
      ]
     },
     "execution_count": 75,
     "metadata": {},
     "output_type": "execute_result"
    }
   ],
   "source": [
    "ord('a')"
   ]
  },
  {
   "cell_type": "markdown",
   "id": "2542642e",
   "metadata": {},
   "source": [
    "## Set ##"
   ]
  },
  {
   "cell_type": "markdown",
   "id": "6fca1427",
   "metadata": {},
   "source": [
    "#### 'Set' use to keep lot of values in the variable.It is unordered and unindexed and  does not repeat the same character.  ####"
   ]
  },
  {
   "cell_type": "code",
   "execution_count": 76,
   "id": "97ff7be0",
   "metadata": {},
   "outputs": [],
   "source": [
    "cluester={'pink', 'purple', 'orange', 'pink', 'black', 'pink'}"
   ]
  },
  {
   "cell_type": "code",
   "execution_count": 77,
   "id": "a19dc74c",
   "metadata": {},
   "outputs": [
    {
     "data": {
      "text/plain": [
       "{'black', 'orange', 'pink', 'purple'}"
      ]
     },
     "execution_count": 77,
     "metadata": {},
     "output_type": "execute_result"
    }
   ],
   "source": [
    "cluester"
   ]
  },
  {
   "cell_type": "code",
   "execution_count": 78,
   "id": "e1712e79",
   "metadata": {},
   "outputs": [],
   "source": [
    "colour=set({'pink', 'purple','pink','black','pink'})"
   ]
  },
  {
   "cell_type": "code",
   "execution_count": 79,
   "id": "0b0cf4b0",
   "metadata": {},
   "outputs": [
    {
     "data": {
      "text/plain": [
       "{'black', 'pink', 'purple'}"
      ]
     },
     "execution_count": 79,
     "metadata": {},
     "output_type": "execute_result"
    }
   ],
   "source": [
    "colour"
   ]
  },
  {
   "cell_type": "markdown",
   "id": "63e506da",
   "metadata": {},
   "source": [
    "### Set Built-in ###"
   ]
  },
  {
   "cell_type": "markdown",
   "id": "580a0758",
   "metadata": {},
   "source": [
    "#### Intersection ####"
   ]
  },
  {
   "cell_type": "code",
   "execution_count": 80,
   "id": "9d5c5562",
   "metadata": {},
   "outputs": [
    {
     "data": {
      "text/plain": [
       "{'black', 'pink', 'purple'}"
      ]
     },
     "execution_count": 80,
     "metadata": {},
     "output_type": "execute_result"
    }
   ],
   "source": [
    "cluester.intersection(colour)"
   ]
  },
  {
   "cell_type": "markdown",
   "id": "16e2a350",
   "metadata": {},
   "source": [
    "#### Union ####"
   ]
  },
  {
   "cell_type": "code",
   "execution_count": 81,
   "id": "fc313ccb",
   "metadata": {},
   "outputs": [
    {
     "data": {
      "text/plain": [
       "{'black', 'orange', 'pink', 'purple'}"
      ]
     },
     "execution_count": 81,
     "metadata": {},
     "output_type": "execute_result"
    }
   ],
   "source": [
    "cluester.union(colour)"
   ]
  },
  {
   "cell_type": "markdown",
   "id": "d8227806",
   "metadata": {},
   "source": [
    "#### Difference ####"
   ]
  },
  {
   "cell_type": "code",
   "execution_count": 82,
   "id": "0d996aa8",
   "metadata": {},
   "outputs": [
    {
     "data": {
      "text/plain": [
       "{'orange'}"
      ]
     },
     "execution_count": 82,
     "metadata": {},
     "output_type": "execute_result"
    }
   ],
   "source": [
    "cluester.difference(colour)"
   ]
  },
  {
   "cell_type": "markdown",
   "id": "79b9730a",
   "metadata": {},
   "source": [
    "#### Issubset ####"
   ]
  },
  {
   "cell_type": "code",
   "execution_count": 83,
   "id": "51e0a704",
   "metadata": {},
   "outputs": [
    {
     "data": {
      "text/plain": [
       "True"
      ]
     },
     "execution_count": 83,
     "metadata": {},
     "output_type": "execute_result"
    }
   ],
   "source": [
    "colour.issubset(cluester)"
   ]
  },
  {
   "cell_type": "code",
   "execution_count": 84,
   "id": "69c47cd1",
   "metadata": {},
   "outputs": [
    {
     "data": {
      "text/plain": [
       "False"
      ]
     },
     "execution_count": 84,
     "metadata": {},
     "output_type": "execute_result"
    }
   ],
   "source": [
    "cluester.issubset(colour)"
   ]
  },
  {
   "cell_type": "code",
   "execution_count": 85,
   "id": "d2db06f8",
   "metadata": {},
   "outputs": [
    {
     "data": {
      "text/plain": [
       "True"
      ]
     },
     "execution_count": 85,
     "metadata": {},
     "output_type": "execute_result"
    }
   ],
   "source": [
    "{'black'}.issubset(colour)"
   ]
  },
  {
   "cell_type": "code",
   "execution_count": 86,
   "id": "7a423a36",
   "metadata": {},
   "outputs": [
    {
     "data": {
      "text/plain": [
       "True"
      ]
     },
     "execution_count": 86,
     "metadata": {},
     "output_type": "execute_result"
    }
   ],
   "source": [
    "{'black','pink'}.issubset(colour)"
   ]
  },
  {
   "cell_type": "code",
   "execution_count": 87,
   "id": "63d49532",
   "metadata": {},
   "outputs": [
    {
     "data": {
      "text/plain": [
       "False"
      ]
     },
     "execution_count": 87,
     "metadata": {},
     "output_type": "execute_result"
    }
   ],
   "source": [
    "{'black','wirte'}.issubset(colour)"
   ]
  },
  {
   "cell_type": "markdown",
   "id": "8afcec74",
   "metadata": {},
   "source": [
    "#### Issuperset ####"
   ]
  },
  {
   "cell_type": "code",
   "execution_count": 178,
   "id": "1607329a",
   "metadata": {},
   "outputs": [
    {
     "data": {
      "text/plain": [
       "False"
      ]
     },
     "execution_count": 178,
     "metadata": {},
     "output_type": "execute_result"
    }
   ],
   "source": [
    "colour.issuperset(cluester)"
   ]
  },
  {
   "cell_type": "code",
   "execution_count": 179,
   "id": "98999d25",
   "metadata": {},
   "outputs": [
    {
     "data": {
      "text/plain": [
       "True"
      ]
     },
     "execution_count": 179,
     "metadata": {},
     "output_type": "execute_result"
    }
   ],
   "source": [
    "cluester.issuperset(colour)"
   ]
  },
  {
   "cell_type": "markdown",
   "id": "b204b0ab",
   "metadata": {},
   "source": [
    "#### Symmetric_difference ####"
   ]
  },
  {
   "cell_type": "code",
   "execution_count": 181,
   "id": "4ff51d53",
   "metadata": {},
   "outputs": [
    {
     "data": {
      "text/plain": [
       "{'orange'}"
      ]
     },
     "execution_count": 181,
     "metadata": {},
     "output_type": "execute_result"
    }
   ],
   "source": [
    "colour.symmetric_difference(cluester)"
   ]
  },
  {
   "cell_type": "code",
   "execution_count": 182,
   "id": "56fec331",
   "metadata": {},
   "outputs": [
    {
     "data": {
      "text/plain": [
       "{'orange'}"
      ]
     },
     "execution_count": 182,
     "metadata": {},
     "output_type": "execute_result"
    }
   ],
   "source": [
    "cluester.symmetric_difference(colour)"
   ]
  },
  {
   "cell_type": "markdown",
   "id": "5d3dd09a",
   "metadata": {},
   "source": [
    "#### Add ####"
   ]
  },
  {
   "cell_type": "code",
   "execution_count": 183,
   "id": "ca95b751",
   "metadata": {},
   "outputs": [
    {
     "data": {
      "text/plain": [
       "{'black', 'pink', 'purple'}"
      ]
     },
     "execution_count": 183,
     "metadata": {},
     "output_type": "execute_result"
    }
   ],
   "source": [
    "colour                                         # Adding the value in any cluester(set)."
   ]
  },
  {
   "cell_type": "code",
   "execution_count": 185,
   "id": "46b1027b",
   "metadata": {},
   "outputs": [],
   "source": [
    "colour.add('red')"
   ]
  },
  {
   "cell_type": "code",
   "execution_count": 186,
   "id": "b0c87ec1",
   "metadata": {},
   "outputs": [
    {
     "data": {
      "text/plain": [
       "{'black', 'pink', 'purple', 'red'}"
      ]
     },
     "execution_count": 186,
     "metadata": {},
     "output_type": "execute_result"
    }
   ],
   "source": [
    "colour"
   ]
  },
  {
   "cell_type": "markdown",
   "id": "177e1a4f",
   "metadata": {},
   "source": [
    "#### Remove ####"
   ]
  },
  {
   "cell_type": "code",
   "execution_count": 188,
   "id": "3094265d",
   "metadata": {},
   "outputs": [
    {
     "data": {
      "text/plain": [
       "{'black', 'pink', 'purple', 'red'}"
      ]
     },
     "execution_count": 188,
     "metadata": {},
     "output_type": "execute_result"
    }
   ],
   "source": [
    "colour"
   ]
  },
  {
   "cell_type": "code",
   "execution_count": 189,
   "id": "324af3ad",
   "metadata": {},
   "outputs": [],
   "source": [
    "colour.remove('red')"
   ]
  },
  {
   "cell_type": "code",
   "execution_count": 190,
   "id": "09aa5cde",
   "metadata": {},
   "outputs": [
    {
     "data": {
      "text/plain": [
       "{'black', 'pink', 'purple'}"
      ]
     },
     "execution_count": 190,
     "metadata": {},
     "output_type": "execute_result"
    }
   ],
   "source": [
    "colour"
   ]
  },
  {
   "cell_type": "markdown",
   "id": "fc57cf94",
   "metadata": {},
   "source": [
    "#### for ....in ..... ####\n",
    "\n",
    "for q in colour:\n",
    "    print(q)"
   ]
  },
  {
   "cell_type": "markdown",
   "id": "1cb42693",
   "metadata": {},
   "source": [
    "#### Alising ####"
   ]
  },
  {
   "cell_type": "code",
   "execution_count": 197,
   "id": "6a8dac4d",
   "metadata": {},
   "outputs": [],
   "source": [
    "q={1,2,3,4,5,6}"
   ]
  },
  {
   "cell_type": "code",
   "execution_count": 198,
   "id": "b19a8286",
   "metadata": {},
   "outputs": [],
   "source": [
    "b=q"
   ]
  },
  {
   "cell_type": "code",
   "execution_count": 203,
   "id": "f866cc00",
   "metadata": {},
   "outputs": [
    {
     "name": "stdout",
     "output_type": "stream",
     "text": [
      "{1, 2, 3, 4, 5, 6, 'a'}\n",
      "{1, 2, 3, 4, 5, 6, 'a'}\n"
     ]
    }
   ],
   "source": [
    "b.add('a')                                     \n",
    "print(q)\n",
    "print(b)"
   ]
  },
  {
   "cell_type": "markdown",
   "id": "6b4c0740",
   "metadata": {},
   "source": [
    "#### Identical ####"
   ]
  },
  {
   "cell_type": "code",
   "execution_count": 204,
   "id": "0ab191c5",
   "metadata": {},
   "outputs": [
    {
     "data": {
      "text/plain": [
       "True"
      ]
     },
     "execution_count": 204,
     "metadata": {},
     "output_type": "execute_result"
    }
   ],
   "source": [
    "b is q"
   ]
  },
  {
   "cell_type": "markdown",
   "id": "85ef7cd3",
   "metadata": {},
   "source": [
    "#### Equivalent ####"
   ]
  },
  {
   "cell_type": "code",
   "execution_count": 206,
   "id": "2ee17de1",
   "metadata": {},
   "outputs": [
    {
     "data": {
      "text/plain": [
       "True"
      ]
     },
     "execution_count": 206,
     "metadata": {},
     "output_type": "execute_result"
    }
   ],
   "source": [
    "b==q                         #Value of 'b' is same value of 'q' but 'b' is not same 'q'"
   ]
  },
  {
   "cell_type": "markdown",
   "id": "6521f687",
   "metadata": {},
   "source": [
    "#### Update ####"
   ]
  },
  {
   "cell_type": "code",
   "execution_count": 209,
   "id": "b1db1593",
   "metadata": {},
   "outputs": [],
   "source": [
    "b.update('a','b')"
   ]
  },
  {
   "cell_type": "code",
   "execution_count": 210,
   "id": "cc107371",
   "metadata": {},
   "outputs": [
    {
     "data": {
      "text/plain": [
       "{1, 2, 3, 4, 5, 6, 'a', 'b'}"
      ]
     },
     "execution_count": 210,
     "metadata": {},
     "output_type": "execute_result"
    }
   ],
   "source": [
    "b"
   ]
  },
  {
   "cell_type": "code",
   "execution_count": 212,
   "id": "f090f207",
   "metadata": {},
   "outputs": [],
   "source": [
    "j=[10,11,12]"
   ]
  },
  {
   "cell_type": "code",
   "execution_count": 215,
   "id": "7de55304",
   "metadata": {},
   "outputs": [
    {
     "data": {
      "text/plain": [
       "{1, 10, 11, 12, 2, 3, 4, 5, 6, 'a', 'b'}"
      ]
     },
     "execution_count": 215,
     "metadata": {},
     "output_type": "execute_result"
    }
   ],
   "source": [
    "b.update(j)\n",
    "b"
   ]
  },
  {
   "cell_type": "markdown",
   "id": "eae2ef73",
   "metadata": {},
   "source": [
    "## List ##"
   ]
  },
  {
   "cell_type": "markdown",
   "id": "0a9e803b",
   "metadata": {},
   "source": [
    "#### We create any set with '[ ]'. ####"
   ]
  },
  {
   "cell_type": "code",
   "execution_count": 382,
   "id": "5d714d93",
   "metadata": {},
   "outputs": [
    {
     "data": {
      "text/plain": [
       "[10, 20, 30]"
      ]
     },
     "execution_count": 382,
     "metadata": {},
     "output_type": "execute_result"
    }
   ],
   "source": [
    "list1=[10, 20, 30]\n",
    "list1"
   ]
  },
  {
   "cell_type": "code",
   "execution_count": 240,
   "id": "419faf4c",
   "metadata": {},
   "outputs": [
    {
     "data": {
      "text/plain": [
       "['john', 'george', 'north']"
      ]
     },
     "execution_count": 240,
     "metadata": {},
     "output_type": "execute_result"
    }
   ],
   "source": [
    "texting=['john', 'george', 'north']\n",
    "texting"
   ]
  },
  {
   "cell_type": "code",
   "execution_count": 241,
   "id": "5d0f4bc6",
   "metadata": {},
   "outputs": [
    {
     "data": {
      "text/plain": [
       "['john', 20.5, True, False]"
      ]
     },
     "execution_count": 241,
     "metadata": {},
     "output_type": "execute_result"
    }
   ],
   "source": [
    "mix=['john', 20.5, True, False]\n",
    "mix"
   ]
  },
  {
   "cell_type": "code",
   "execution_count": 88,
   "id": "4caa3fc7",
   "metadata": {},
   "outputs": [
    {
     "data": {
      "text/plain": [
       "['george', ['john'], 20.5, True]"
      ]
     },
     "execution_count": 88,
     "metadata": {},
     "output_type": "execute_result"
    }
   ],
   "source": [
    "needed_1=['george', ['john'], 20.5, True]\n",
    "needed_1"
   ]
  },
  {
   "cell_type": "code",
   "execution_count": 89,
   "id": "fb150f3b",
   "metadata": {},
   "outputs": [
    {
     "data": {
      "text/plain": [
       "['computer', ['john'], 20.5, True]"
      ]
     },
     "execution_count": 89,
     "metadata": {},
     "output_type": "execute_result"
    }
   ],
   "source": [
    "needed_1[0]='computer'\n",
    "needed_1"
   ]
  },
  {
   "cell_type": "code",
   "execution_count": 91,
   "id": "f8f4c315",
   "metadata": {},
   "outputs": [
    {
     "name": "stdout",
     "output_type": "stream",
     "text": [
      "computer\n",
      "['john']\n",
      "20.5\n",
      "True\n"
     ]
    }
   ],
   "source": [
    "for n in needed_1:\n",
    "    print(n)"
   ]
  },
  {
   "cell_type": "code",
   "execution_count": 92,
   "id": "b0faa0cd",
   "metadata": {},
   "outputs": [
    {
     "ename": "NameError",
     "evalue": "name 'texting' is not defined",
     "output_type": "error",
     "traceback": [
      "\u001b[1;31m---------------------------------------------------------------------------\u001b[0m",
      "\u001b[1;31mNameError\u001b[0m                                 Traceback (most recent call last)",
      "\u001b[1;32m<ipython-input-92-a6d697fde316>\u001b[0m in \u001b[0;36m<module>\u001b[1;34m\u001b[0m\n\u001b[1;32m----> 1\u001b[1;33m \u001b[1;32mfor\u001b[0m \u001b[0mindex\u001b[0m\u001b[1;33m,\u001b[0m \u001b[0mt\u001b[0m \u001b[1;32min\u001b[0m \u001b[0menumerate\u001b[0m\u001b[1;33m(\u001b[0m\u001b[0mtexting\u001b[0m\u001b[1;33m)\u001b[0m\u001b[1;33m:\u001b[0m                  \u001b[1;31m#enumerate:give the number any string element\u001b[0m\u001b[1;33m\u001b[0m\u001b[0m\n\u001b[0m\u001b[0;32m      2\u001b[0m     \u001b[0mprint\u001b[0m\u001b[1;33m(\u001b[0m\u001b[1;34m'{0}:{1}'\u001b[0m\u001b[1;33m.\u001b[0m\u001b[0mformat\u001b[0m\u001b[1;33m(\u001b[0m\u001b[0mindex\u001b[0m\u001b[1;33m,\u001b[0m \u001b[0mt\u001b[0m\u001b[1;33m)\u001b[0m\u001b[1;33m)\u001b[0m\u001b[1;33m\u001b[0m\u001b[0m\n",
      "\u001b[1;31mNameError\u001b[0m: name 'texting' is not defined"
     ]
    }
   ],
   "source": [
    "for index, t in enumerate(texting):                  #enumerate:give the number any string element\n",
    "    print('{0}:{1}'.format(index, t))"
   ]
  },
  {
   "cell_type": "markdown",
   "id": "013f380c",
   "metadata": {},
   "source": [
    "### Loop Over a List ###"
   ]
  },
  {
   "cell_type": "markdown",
   "id": "8b308cfc",
   "metadata": {},
   "source": [
    "#### To change 'list' itself,we use 'index'.If there is 'index', we use 'enumerate'. ####"
   ]
  },
  {
   "cell_type": "code",
   "execution_count": 93,
   "id": "4512ea20",
   "metadata": {},
   "outputs": [],
   "source": [
    "for index, t in enumerate(list_1):                    #we change integer element.\n",
    "    t=t**2\n",
    "    list_1[index]=t"
   ]
  },
  {
   "cell_type": "code",
   "execution_count": 95,
   "id": "a193f64b",
   "metadata": {
    "scrolled": false
   },
   "outputs": [
    {
     "data": {
      "text/plain": [
       "[1, 4, 9, 16, 25]"
      ]
     },
     "execution_count": 95,
     "metadata": {},
     "output_type": "execute_result"
    }
   ],
   "source": [
    "list_1"
   ]
  },
  {
   "cell_type": "code",
   "execution_count": 96,
   "id": "05de8971",
   "metadata": {},
   "outputs": [
    {
     "ename": "NameError",
     "evalue": "name 'texting' is not defined",
     "output_type": "error",
     "traceback": [
      "\u001b[1;31m---------------------------------------------------------------------------\u001b[0m",
      "\u001b[1;31mNameError\u001b[0m                                 Traceback (most recent call last)",
      "\u001b[1;32m<ipython-input-96-cf256621c0c8>\u001b[0m in \u001b[0;36m<module>\u001b[1;34m\u001b[0m\n\u001b[1;32m----> 1\u001b[1;33m \u001b[1;32mfor\u001b[0m \u001b[0mi\u001b[0m\u001b[1;33m,\u001b[0m \u001b[0mtext\u001b[0m \u001b[1;32min\u001b[0m \u001b[0menumerate\u001b[0m\u001b[1;33m(\u001b[0m\u001b[0mtexting\u001b[0m\u001b[1;33m)\u001b[0m\u001b[1;33m:\u001b[0m\u001b[1;33m\u001b[0m\u001b[0m\n\u001b[0m\u001b[0;32m      2\u001b[0m     \u001b[0mtexting\u001b[0m\u001b[1;33m[\u001b[0m\u001b[0mi\u001b[0m\u001b[1;33m]\u001b[0m\u001b[1;33m=\u001b[0m\u001b[1;34m'Name :'\u001b[0m\u001b[1;33m+\u001b[0m\u001b[0mtext\u001b[0m                        \u001b[1;31m#we change string element.\u001b[0m\u001b[1;33m\u001b[0m\u001b[0m\n",
      "\u001b[1;31mNameError\u001b[0m: name 'texting' is not defined"
     ]
    }
   ],
   "source": [
    "for i, text in enumerate(texting):\n",
    "    texting[i]='Name :'+text                        #we change string element.           "
   ]
  },
  {
   "cell_type": "code",
   "execution_count": 249,
   "id": "a0941954",
   "metadata": {},
   "outputs": [
    {
     "data": {
      "text/plain": [
       "['Name :john', 'Name :george', 'Name :north']"
      ]
     },
     "execution_count": 249,
     "metadata": {},
     "output_type": "execute_result"
    }
   ],
   "source": [
    "texting"
   ]
  },
  {
   "cell_type": "markdown",
   "id": "db7a5178",
   "metadata": {},
   "source": [
    "### List Operation ###"
   ]
  },
  {
   "cell_type": "code",
   "execution_count": null,
   "id": "7e9a9fe7",
   "metadata": {},
   "outputs": [],
   "source": [
    "* '+' - Add any list end to end\n",
    "* '*' - Repeat any list at that given amount."
   ]
  },
  {
   "cell_type": "code",
   "execution_count": 384,
   "id": "79ee340c",
   "metadata": {},
   "outputs": [
    {
     "data": {
      "text/plain": [
       "[10, 20, 30, 'Name :john', 'Name :george', 'Name :north']"
      ]
     },
     "execution_count": 384,
     "metadata": {},
     "output_type": "execute_result"
    }
   ],
   "source": [
    "u=list1+texting\n",
    "u                                                #Notice to upgrade our 'List' and 'Texting'."
   ]
  },
  {
   "cell_type": "code",
   "execution_count": 385,
   "id": "eadd1dfa",
   "metadata": {},
   "outputs": [
    {
     "data": {
      "text/plain": [
       "[10, 20, 30, 10, 20, 30]"
      ]
     },
     "execution_count": 385,
     "metadata": {},
     "output_type": "execute_result"
    }
   ],
   "source": [
    "f=list1*2              \n",
    "f"
   ]
  },
  {
   "cell_type": "markdown",
   "id": "979c281e",
   "metadata": {},
   "source": [
    "### List Slicing ###"
   ]
  },
  {
   "cell_type": "code",
   "execution_count": 258,
   "id": "b4144571",
   "metadata": {},
   "outputs": [
    {
     "data": {
      "text/plain": [
       "['computer', ['john'], 20.5, True]"
      ]
     },
     "execution_count": 258,
     "metadata": {},
     "output_type": "execute_result"
    }
   ],
   "source": [
    "needed"
   ]
  },
  {
   "cell_type": "code",
   "execution_count": 261,
   "id": "abbf0fa2",
   "metadata": {},
   "outputs": [
    {
     "data": {
      "text/plain": [
       "[['john'], 20.5]"
      ]
     },
     "execution_count": 261,
     "metadata": {},
     "output_type": "execute_result"
    }
   ],
   "source": [
    "needed[1:3]                                    #It means second element and third element."
   ]
  },
  {
   "cell_type": "code",
   "execution_count": 263,
   "id": "1b44bee1",
   "metadata": {},
   "outputs": [
    {
     "data": {
      "text/plain": [
       "[900, 100, 400, 900]"
      ]
     },
     "execution_count": 263,
     "metadata": {},
     "output_type": "execute_result"
    }
   ],
   "source": [
    "f[2:6]"
   ]
  },
  {
   "cell_type": "code",
   "execution_count": 264,
   "id": "74774dba",
   "metadata": {},
   "outputs": [
    {
     "data": {
      "text/plain": [
       "[100, 400, 900, 100, 400, 900]"
      ]
     },
     "execution_count": 264,
     "metadata": {},
     "output_type": "execute_result"
    }
   ],
   "source": [
    "f[::]"
   ]
  },
  {
   "cell_type": "code",
   "execution_count": 265,
   "id": "f8f06948",
   "metadata": {},
   "outputs": [
    {
     "data": {
      "text/plain": [
       "[900, 100, 400, 900]"
      ]
     },
     "execution_count": 265,
     "metadata": {},
     "output_type": "execute_result"
    }
   ],
   "source": [
    "f[2:]"
   ]
  },
  {
   "cell_type": "code",
   "execution_count": 274,
   "id": "d66c1ade",
   "metadata": {},
   "outputs": [
    {
     "data": {
      "text/plain": [
       "[100, 400, 900, 100, 400, 900]"
      ]
     },
     "execution_count": 274,
     "metadata": {},
     "output_type": "execute_result"
    }
   ],
   "source": [
    "new_f=f[:]\n",
    "new_f"
   ]
  },
  {
   "cell_type": "code",
   "execution_count": 271,
   "id": "b14c1fdf",
   "metadata": {},
   "outputs": [
    {
     "data": {
      "text/plain": [
       "[100, 400, 1, 2, 3, 900]"
      ]
     },
     "execution_count": 271,
     "metadata": {},
     "output_type": "execute_result"
    }
   ],
   "source": [
    "new_f[2:5]=[1,2,3]\n",
    "new_f"
   ]
  },
  {
   "cell_type": "markdown",
   "id": "56c68076",
   "metadata": {},
   "source": [
    "### Id Method ###"
   ]
  },
  {
   "cell_type": "code",
   "execution_count": 276,
   "id": "3b17a86f",
   "metadata": {},
   "outputs": [
    {
     "data": {
      "text/plain": [
       "2030795982728"
      ]
     },
     "execution_count": 276,
     "metadata": {},
     "output_type": "execute_result"
    }
   ],
   "source": [
    "id(new_f)"
   ]
  },
  {
   "cell_type": "code",
   "execution_count": 277,
   "id": "ae1ead0f",
   "metadata": {},
   "outputs": [
    {
     "data": {
      "text/plain": [
       "2030796031624"
      ]
     },
     "execution_count": 277,
     "metadata": {},
     "output_type": "execute_result"
    }
   ],
   "source": [
    "id(f)"
   ]
  },
  {
   "cell_type": "markdown",
   "id": "9becbf30",
   "metadata": {},
   "source": [
    "### List Built-in ###"
   ]
  },
  {
   "cell_type": "markdown",
   "id": "05c8523c",
   "metadata": {},
   "source": [
    "* append() - Adding a new element to the end.\n",
    "* insert() - Adding a new element with certain intex.\n",
    "* extend() - Adding the list to a new list\n",
    "* sort() - Sorting according to certain want.\n",
    "* sorted() - Sorting according to certain want and gives us as a new list."
   ]
  },
  {
   "cell_type": "code",
   "execution_count": 284,
   "id": "c12a26c8",
   "metadata": {},
   "outputs": [
    {
     "data": {
      "text/plain": [
       "[100, 400, 900, 100, 400, 900]"
      ]
     },
     "execution_count": 284,
     "metadata": {},
     "output_type": "execute_result"
    }
   ],
   "source": [
    "f"
   ]
  },
  {
   "cell_type": "code",
   "execution_count": 286,
   "id": "6270cf05",
   "metadata": {},
   "outputs": [
    {
     "data": {
      "text/plain": [
       "[100, 400, 900, 100, 400, 900, '1']"
      ]
     },
     "execution_count": 286,
     "metadata": {},
     "output_type": "execute_result"
    }
   ],
   "source": [
    "f.append('1')\n",
    "f"
   ]
  },
  {
   "cell_type": "code",
   "execution_count": 288,
   "id": "11cff8d0",
   "metadata": {},
   "outputs": [
    {
     "data": {
      "text/plain": [
       "[100, 400, 900, 100, 400, 900, '1', '1', '1']"
      ]
     },
     "execution_count": 288,
     "metadata": {},
     "output_type": "execute_result"
    }
   ],
   "source": [
    "f.append('1')                                         #Adding one more element\n",
    "f"
   ]
  },
  {
   "cell_type": "code",
   "execution_count": 290,
   "id": "221aa213",
   "metadata": {},
   "outputs": [
    {
     "data": {
      "text/plain": [
       "[100, 400, 900, '4', 100, 400, 900, '1', '1', '1']"
      ]
     },
     "execution_count": 290,
     "metadata": {},
     "output_type": "execute_result"
    }
   ],
   "source": [
    "f.insert(3, '4')\n",
    "f"
   ]
  },
  {
   "cell_type": "code",
   "execution_count": 292,
   "id": "e3a900c3",
   "metadata": {},
   "outputs": [
    {
     "data": {
      "text/plain": [
       "[100,\n",
       " 400,\n",
       " 900,\n",
       " '4',\n",
       " 100,\n",
       " 400,\n",
       " 900,\n",
       " '1',\n",
       " '1',\n",
       " '1',\n",
       " 'computer',\n",
       " ['john'],\n",
       " 20.5,\n",
       " True]"
      ]
     },
     "execution_count": 292,
     "metadata": {},
     "output_type": "execute_result"
    }
   ],
   "source": [
    "f.extend(needed)\n",
    "f"
   ]
  },
  {
   "cell_type": "code",
   "execution_count": 301,
   "id": "00291a86",
   "metadata": {},
   "outputs": [
    {
     "data": {
      "text/plain": [
       "[100, 2, 30, 4000, 5, 600000]"
      ]
     },
     "execution_count": 301,
     "metadata": {},
     "output_type": "execute_result"
    }
   ],
   "source": [
    "number_2=[100, 2, 30, 4000, 5, 600000]\n",
    "number_2"
   ]
  },
  {
   "cell_type": "code",
   "execution_count": 302,
   "id": "17d209f7",
   "metadata": {},
   "outputs": [
    {
     "data": {
      "text/plain": [
       "[2, 5, 30, 100, 4000, 600000]"
      ]
     },
     "execution_count": 302,
     "metadata": {},
     "output_type": "execute_result"
    }
   ],
   "source": [
    "number_2.sort()\n",
    "number_2"
   ]
  },
  {
   "cell_type": "code",
   "execution_count": 310,
   "id": "48fb080d",
   "metadata": {},
   "outputs": [
    {
     "data": {
      "text/plain": [
       "[600000, 4000, 100, 30, 5, 2]"
      ]
     },
     "execution_count": 310,
     "metadata": {},
     "output_type": "execute_result"
    }
   ],
   "source": [
    "number_2.sort(reverse=True)\n",
    "number_2"
   ]
  },
  {
   "cell_type": "code",
   "execution_count": 306,
   "id": "b73d739d",
   "metadata": {},
   "outputs": [
    {
     "data": {
      "text/plain": [
       "['pink', 'purple', 'black', 'brown', 'red', 'write']"
      ]
     },
     "execution_count": 306,
     "metadata": {},
     "output_type": "execute_result"
    }
   ],
   "source": [
    "text_2=['pink', 'purple', 'black', 'brown', 'red', 'write']\n",
    "text_2"
   ]
  },
  {
   "cell_type": "code",
   "execution_count": 307,
   "id": "ae02bced",
   "metadata": {},
   "outputs": [
    {
     "data": {
      "text/plain": [
       "['black', 'brown', 'pink', 'purple', 'red', 'write']"
      ]
     },
     "execution_count": 307,
     "metadata": {},
     "output_type": "execute_result"
    }
   ],
   "source": [
    "text_2.sort()\n",
    "text_2"
   ]
  },
  {
   "cell_type": "code",
   "execution_count": 311,
   "id": "2b561271",
   "metadata": {},
   "outputs": [
    {
     "data": {
      "text/plain": [
       "['write', 'red', 'purple', 'pink', 'brown', 'black']"
      ]
     },
     "execution_count": 311,
     "metadata": {},
     "output_type": "execute_result"
    }
   ],
   "source": [
    "text_2.sort(reverse=True)\n",
    "text_2"
   ]
  },
  {
   "cell_type": "code",
   "execution_count": 322,
   "id": "70ce2e75",
   "metadata": {},
   "outputs": [
    {
     "data": {
      "text/plain": [
       "[2, 5, 30, 100, 4000, 600000]"
      ]
     },
     "execution_count": 322,
     "metadata": {},
     "output_type": "execute_result"
    }
   ],
   "source": [
    "number_3=sorted(number_2)\n",
    "number_3"
   ]
  },
  {
   "cell_type": "code",
   "execution_count": 324,
   "id": "c111ce61",
   "metadata": {},
   "outputs": [
    {
     "data": {
      "text/plain": [
       "[600000, 4000, 100, 30, 5, 2]"
      ]
     },
     "execution_count": 324,
     "metadata": {},
     "output_type": "execute_result"
    }
   ],
   "source": [
    "number_4=sorted(number_3,reverse=True)\n",
    "number_4"
   ]
  },
  {
   "cell_type": "markdown",
   "id": "de031299",
   "metadata": {},
   "source": [
    "### Deleting the element from the list. ###"
   ]
  },
  {
   "cell_type": "markdown",
   "id": "6ae8b694",
   "metadata": {},
   "source": [
    "Deleting the element with lots of different methods.\n",
    "* pop(index)- If we know index of any element\n",
    "* pop() - If we do not know index,it delete element in end of the list.\n",
    "* del - We do not need the deleted element, we use the 'del'.\n",
    "* del--  (slice)   - We want to delete more one element.\n",
    "* remove - If we know the element itself."
   ]
  },
  {
   "cell_type": "code",
   "execution_count": 326,
   "id": "b993cc89",
   "metadata": {},
   "outputs": [
    {
     "data": {
      "text/plain": [
       "30"
      ]
     },
     "execution_count": 326,
     "metadata": {},
     "output_type": "execute_result"
    }
   ],
   "source": [
    "m=number_2.pop(2)\n",
    "m"
   ]
  },
  {
   "cell_type": "code",
   "execution_count": 327,
   "id": "480527fb",
   "metadata": {},
   "outputs": [
    {
     "data": {
      "text/plain": [
       "[600000, 4000, 5, 2]"
      ]
     },
     "execution_count": 327,
     "metadata": {},
     "output_type": "execute_result"
    }
   ],
   "source": [
    "number_2"
   ]
  },
  {
   "cell_type": "code",
   "execution_count": 328,
   "id": "ac339244",
   "metadata": {},
   "outputs": [
    {
     "data": {
      "text/plain": [
       "[2, 5, 30, 100, 4000, 600000]"
      ]
     },
     "execution_count": 328,
     "metadata": {},
     "output_type": "execute_result"
    }
   ],
   "source": [
    "number_3"
   ]
  },
  {
   "cell_type": "code",
   "execution_count": 329,
   "id": "09321d76",
   "metadata": {},
   "outputs": [
    {
     "data": {
      "text/plain": [
       "600000"
      ]
     },
     "execution_count": 329,
     "metadata": {},
     "output_type": "execute_result"
    }
   ],
   "source": [
    "n=number_3.pop()\n",
    "n"
   ]
  },
  {
   "cell_type": "code",
   "execution_count": 330,
   "id": "ab00c34d",
   "metadata": {},
   "outputs": [
    {
     "data": {
      "text/plain": [
       "[2, 5, 30, 100, 4000]"
      ]
     },
     "execution_count": 330,
     "metadata": {},
     "output_type": "execute_result"
    }
   ],
   "source": [
    "number_3"
   ]
  },
  {
   "cell_type": "code",
   "execution_count": 333,
   "id": "d37689d2",
   "metadata": {},
   "outputs": [
    {
     "data": {
      "text/plain": [
       "[2, 100, 4000]"
      ]
     },
     "execution_count": 333,
     "metadata": {},
     "output_type": "execute_result"
    }
   ],
   "source": [
    "del number_3[1]\n",
    "number_3"
   ]
  },
  {
   "cell_type": "code",
   "execution_count": 334,
   "id": "5d8ef8d2",
   "metadata": {},
   "outputs": [
    {
     "data": {
      "text/plain": [
       "[4000]"
      ]
     },
     "execution_count": 334,
     "metadata": {},
     "output_type": "execute_result"
    }
   ],
   "source": [
    "del number_3[0:2]\n",
    "number_3"
   ]
  },
  {
   "cell_type": "code",
   "execution_count": 341,
   "id": "00559261",
   "metadata": {},
   "outputs": [
    {
     "data": {
      "text/plain": [
       "['purple', 'pink', 'brown', 'black']"
      ]
     },
     "execution_count": 341,
     "metadata": {},
     "output_type": "execute_result"
    }
   ],
   "source": [
    "text_2.remove('write')\n",
    "text_2"
   ]
  },
  {
   "cell_type": "markdown",
   "id": "cd40fabe",
   "metadata": {},
   "source": [
    "#### Split ####"
   ]
  },
  {
   "cell_type": "code",
   "execution_count": 391,
   "id": "9a3e7afb",
   "metadata": {},
   "outputs": [
    {
     "data": {
      "text/plain": [
       "'he was born at 1970.'"
      ]
     },
     "execution_count": 391,
     "metadata": {},
     "output_type": "execute_result"
    }
   ],
   "source": [
    "story='he was born at 1970.'\n",
    "story"
   ]
  },
  {
   "cell_type": "code",
   "execution_count": 392,
   "id": "e584c551",
   "metadata": {},
   "outputs": [
    {
     "data": {
      "text/plain": [
       "['he', 'was', 'born', 'at', '1970.']"
      ]
     },
     "execution_count": 392,
     "metadata": {},
     "output_type": "execute_result"
    }
   ],
   "source": [
    "words=story.split()\n",
    "words"
   ]
  },
  {
   "cell_type": "markdown",
   "id": "a54fe254",
   "metadata": {},
   "source": [
    "#### Join ####"
   ]
  },
  {
   "cell_type": "code",
   "execution_count": 397,
   "id": "86b5b80d",
   "metadata": {},
   "outputs": [],
   "source": [
    "word1=['john', 'is', 'a', 'student']"
   ]
  },
  {
   "cell_type": "code",
   "execution_count": 399,
   "id": "f8defa26",
   "metadata": {},
   "outputs": [
    {
     "data": {
      "text/plain": [
       "'john-is-a-student'"
      ]
     },
     "execution_count": 399,
     "metadata": {},
     "output_type": "execute_result"
    }
   ],
   "source": [
    "sentence='-'.join(word1)\n",
    "sentence"
   ]
  },
  {
   "cell_type": "markdown",
   "id": "16bd44c0",
   "metadata": {},
   "source": [
    "### Creating the list with 'range' function. ###"
   ]
  },
  {
   "cell_type": "code",
   "execution_count": 407,
   "id": "31911b3b",
   "metadata": {},
   "outputs": [
    {
     "data": {
      "text/plain": [
       "range(15, 500, 11)"
      ]
     },
     "execution_count": 407,
     "metadata": {},
     "output_type": "execute_result"
    }
   ],
   "source": [
    "range(15,500,11)                 #range"
   ]
  },
  {
   "cell_type": "code",
   "execution_count": 408,
   "id": "26e3ccfa",
   "metadata": {},
   "outputs": [
    {
     "name": "stdout",
     "output_type": "stream",
     "text": [
      "15\n",
      "26\n",
      "37\n",
      "48\n",
      "59\n",
      "70\n",
      "81\n",
      "92\n",
      "103\n",
      "114\n",
      "125\n",
      "136\n",
      "147\n",
      "158\n",
      "169\n",
      "180\n",
      "191\n",
      "202\n",
      "213\n",
      "224\n",
      "235\n",
      "246\n",
      "257\n",
      "268\n",
      "279\n",
      "290\n",
      "301\n",
      "312\n",
      "323\n",
      "334\n",
      "345\n",
      "356\n",
      "367\n",
      "378\n",
      "389\n",
      "400\n",
      "411\n",
      "422\n",
      "433\n",
      "444\n",
      "455\n",
      "466\n",
      "477\n",
      "488\n",
      "499\n"
     ]
    }
   ],
   "source": [
    "for i in range(15,500,11):       #list\n",
    "    print(i)"
   ]
  },
  {
   "cell_type": "code",
   "execution_count": null,
   "id": "50a38b25",
   "metadata": {},
   "outputs": [],
   "source": [
    "list(range(15,300,11))                         #list"
   ]
  },
  {
   "cell_type": "markdown",
   "id": "304d329b",
   "metadata": {},
   "source": [
    "### Object and Value ###"
   ]
  },
  {
   "cell_type": "code",
   "execution_count": 423,
   "id": "11922654",
   "metadata": {},
   "outputs": [],
   "source": [
    "a='john'"
   ]
  },
  {
   "cell_type": "code",
   "execution_count": 424,
   "id": "467ec83c",
   "metadata": {},
   "outputs": [],
   "source": [
    "b='john'"
   ]
  },
  {
   "cell_type": "code",
   "execution_count": 425,
   "id": "0c99ef07",
   "metadata": {},
   "outputs": [
    {
     "data": {
      "text/plain": [
       "2030796027584"
      ]
     },
     "execution_count": 425,
     "metadata": {},
     "output_type": "execute_result"
    }
   ],
   "source": [
    "id(a)"
   ]
  },
  {
   "cell_type": "code",
   "execution_count": 426,
   "id": "bd4931f9",
   "metadata": {},
   "outputs": [
    {
     "data": {
      "text/plain": [
       "2030796027584"
      ]
     },
     "execution_count": 426,
     "metadata": {},
     "output_type": "execute_result"
    }
   ],
   "source": [
    "id(b)                                             #because str is immutable."
   ]
  },
  {
   "cell_type": "code",
   "execution_count": 427,
   "id": "4109ac3d",
   "metadata": {},
   "outputs": [
    {
     "data": {
      "text/plain": [
       "True"
      ]
     },
     "execution_count": 427,
     "metadata": {},
     "output_type": "execute_result"
    }
   ],
   "source": [
    "a==b"
   ]
  },
  {
   "cell_type": "code",
   "execution_count": 428,
   "id": "514eb39e",
   "metadata": {},
   "outputs": [],
   "source": [
    "b='johns'"
   ]
  },
  {
   "cell_type": "code",
   "execution_count": 429,
   "id": "64d7c27f",
   "metadata": {},
   "outputs": [
    {
     "data": {
      "text/plain": [
       "2030796220264"
      ]
     },
     "execution_count": 429,
     "metadata": {},
     "output_type": "execute_result"
    }
   ],
   "source": [
    "id(b)"
   ]
  },
  {
   "cell_type": "code",
   "execution_count": 430,
   "id": "ac433933",
   "metadata": {},
   "outputs": [
    {
     "data": {
      "text/plain": [
       "False"
      ]
     },
     "execution_count": 430,
     "metadata": {},
     "output_type": "execute_result"
    }
   ],
   "source": [
    "a==b                                 #'str' id and values is same until change the values"
   ]
  },
  {
   "cell_type": "code",
   "execution_count": 434,
   "id": "fcacc3f0",
   "metadata": {},
   "outputs": [],
   "source": [
    "z=[1,2,3,4,5]"
   ]
  },
  {
   "cell_type": "code",
   "execution_count": 435,
   "id": "7d52d7df",
   "metadata": {},
   "outputs": [],
   "source": [
    "x=[1,2,3,4,5]"
   ]
  },
  {
   "cell_type": "code",
   "execution_count": 439,
   "id": "57ba5e0f",
   "metadata": {},
   "outputs": [
    {
     "data": {
      "text/plain": [
       "2030796150600"
      ]
     },
     "execution_count": 439,
     "metadata": {},
     "output_type": "execute_result"
    }
   ],
   "source": [
    "id(z)                                #'id' look at adress"
   ]
  },
  {
   "cell_type": "code",
   "execution_count": 440,
   "id": "16a44459",
   "metadata": {},
   "outputs": [
    {
     "data": {
      "text/plain": [
       "2030796177032"
      ]
     },
     "execution_count": 440,
     "metadata": {},
     "output_type": "execute_result"
    }
   ],
   "source": [
    "id(x)                                #In 'list',values are same but id is different."
   ]
  },
  {
   "cell_type": "code",
   "execution_count": 441,
   "id": "4113a440",
   "metadata": {},
   "outputs": [
    {
     "data": {
      "text/plain": [
       "True"
      ]
     },
     "execution_count": 441,
     "metadata": {},
     "output_type": "execute_result"
    }
   ],
   "source": [
    "z==x                                 #'==' look at values"
   ]
  },
  {
   "cell_type": "markdown",
   "id": "d0d41ead",
   "metadata": {},
   "source": [
    "* '==' is equivalent control =value control\n",
    "* 'id()=id()' is identical control = object control"
   ]
  },
  {
   "cell_type": "markdown",
   "id": "372e2225",
   "metadata": {},
   "source": [
    "#### is - (identical control) ####"
   ]
  },
  {
   "cell_type": "code",
   "execution_count": 443,
   "id": "03a1c427",
   "metadata": {},
   "outputs": [],
   "source": [
    "k=[0,1]"
   ]
  },
  {
   "cell_type": "code",
   "execution_count": 444,
   "id": "0e71e8f7",
   "metadata": {},
   "outputs": [],
   "source": [
    "l=[0,1]"
   ]
  },
  {
   "cell_type": "code",
   "execution_count": 445,
   "id": "1f199d01",
   "metadata": {},
   "outputs": [
    {
     "data": {
      "text/plain": [
       "False"
      ]
     },
     "execution_count": 445,
     "metadata": {},
     "output_type": "execute_result"
    }
   ],
   "source": [
    "k is l                #object control"
   ]
  },
  {
   "cell_type": "code",
   "execution_count": 446,
   "id": "cfaaaa57",
   "metadata": {},
   "outputs": [
    {
     "data": {
      "text/plain": [
       "True"
      ]
     },
     "execution_count": 446,
     "metadata": {},
     "output_type": "execute_result"
    }
   ],
   "source": [
    "k==l                  #value control"
   ]
  },
  {
   "cell_type": "code",
   "execution_count": 447,
   "id": "bd57e90a",
   "metadata": {},
   "outputs": [],
   "source": [
    "s1='monday'"
   ]
  },
  {
   "cell_type": "code",
   "execution_count": 448,
   "id": "68f4e60a",
   "metadata": {},
   "outputs": [],
   "source": [
    "s2='monday'"
   ]
  },
  {
   "cell_type": "code",
   "execution_count": 449,
   "id": "4126b930",
   "metadata": {},
   "outputs": [
    {
     "data": {
      "text/plain": [
       "True"
      ]
     },
     "execution_count": 449,
     "metadata": {},
     "output_type": "execute_result"
    }
   ],
   "source": [
    "s1 is s2            #object control - for it is immutable"
   ]
  },
  {
   "cell_type": "code",
   "execution_count": 451,
   "id": "34403494",
   "metadata": {},
   "outputs": [
    {
     "data": {
      "text/plain": [
       "True"
      ]
     },
     "execution_count": 451,
     "metadata": {},
     "output_type": "execute_result"
    }
   ],
   "source": [
    "s1==s2              #value control"
   ]
  },
  {
   "cell_type": "markdown",
   "id": "01fbcc11",
   "metadata": {},
   "source": [
    "#### Alising ####"
   ]
  },
  {
   "cell_type": "markdown",
   "id": "0739e46a",
   "metadata": {},
   "source": [
    "* Primitive Type :int, float,string,boolean\n",
    "* Non-Primitive Type :list,dict,tupe"
   ]
  },
  {
   "cell_type": "markdown",
   "id": "208cdf23",
   "metadata": {},
   "source": [
    "Primitive Type"
   ]
  },
  {
   "cell_type": "code",
   "execution_count": 453,
   "id": "f0048e6e",
   "metadata": {},
   "outputs": [],
   "source": [
    "x=55\n",
    "y=x"
   ]
  },
  {
   "cell_type": "code",
   "execution_count": 454,
   "id": "80610dfd",
   "metadata": {},
   "outputs": [
    {
     "data": {
      "text/plain": [
       "True"
      ]
     },
     "execution_count": 454,
     "metadata": {},
     "output_type": "execute_result"
    }
   ],
   "source": [
    "x is y"
   ]
  },
  {
   "cell_type": "code",
   "execution_count": 455,
   "id": "34401d38",
   "metadata": {},
   "outputs": [
    {
     "data": {
      "text/plain": [
       "True"
      ]
     },
     "execution_count": 455,
     "metadata": {},
     "output_type": "execute_result"
    }
   ],
   "source": [
    "x==y"
   ]
  },
  {
   "cell_type": "code",
   "execution_count": 456,
   "id": "ce644e4e",
   "metadata": {},
   "outputs": [],
   "source": [
    "y=12"
   ]
  },
  {
   "cell_type": "code",
   "execution_count": 457,
   "id": "20798833",
   "metadata": {},
   "outputs": [
    {
     "data": {
      "text/plain": [
       "False"
      ]
     },
     "execution_count": 457,
     "metadata": {},
     "output_type": "execute_result"
    }
   ],
   "source": [
    "x is y"
   ]
  },
  {
   "cell_type": "code",
   "execution_count": 458,
   "id": "34bfc99e",
   "metadata": {},
   "outputs": [
    {
     "data": {
      "text/plain": [
       "False"
      ]
     },
     "execution_count": 458,
     "metadata": {},
     "output_type": "execute_result"
    }
   ],
   "source": [
    "x==y"
   ]
  },
  {
   "cell_type": "markdown",
   "id": "5a3a80c2",
   "metadata": {},
   "source": [
    "Non-Primitive Type"
   ]
  },
  {
   "cell_type": "code",
   "execution_count": 460,
   "id": "b787e39d",
   "metadata": {},
   "outputs": [],
   "source": [
    "q=[0,1,2,3,4,5,6,7]\n",
    "w=q"
   ]
  },
  {
   "cell_type": "code",
   "execution_count": 461,
   "id": "01084f4a",
   "metadata": {},
   "outputs": [
    {
     "data": {
      "text/plain": [
       "True"
      ]
     },
     "execution_count": 461,
     "metadata": {},
     "output_type": "execute_result"
    }
   ],
   "source": [
    "q is w"
   ]
  },
  {
   "cell_type": "code",
   "execution_count": 462,
   "id": "aee5c2f2",
   "metadata": {},
   "outputs": [
    {
     "data": {
      "text/plain": [
       "True"
      ]
     },
     "execution_count": 462,
     "metadata": {},
     "output_type": "execute_result"
    }
   ],
   "source": [
    "q==w"
   ]
  },
  {
   "cell_type": "code",
   "execution_count": 463,
   "id": "b1640111",
   "metadata": {},
   "outputs": [],
   "source": [
    "w=[80,10,40]                              #alising"
   ]
  },
  {
   "cell_type": "code",
   "execution_count": 464,
   "id": "4c6aa7f6",
   "metadata": {},
   "outputs": [
    {
     "data": {
      "text/plain": [
       "False"
      ]
     },
     "execution_count": 464,
     "metadata": {},
     "output_type": "execute_result"
    }
   ],
   "source": [
    "q is w"
   ]
  },
  {
   "cell_type": "code",
   "execution_count": 465,
   "id": "1dfc50ec",
   "metadata": {},
   "outputs": [
    {
     "data": {
      "text/plain": [
       "False"
      ]
     },
     "execution_count": 465,
     "metadata": {},
     "output_type": "execute_result"
    }
   ],
   "source": [
    "q==w"
   ]
  },
  {
   "cell_type": "code",
   "execution_count": 469,
   "id": "8a9e490b",
   "metadata": {},
   "outputs": [],
   "source": [
    "q=[0,1,2,3,4,5,6,7]\n",
    "w=q"
   ]
  },
  {
   "cell_type": "code",
   "execution_count": 470,
   "id": "8c625a1a",
   "metadata": {},
   "outputs": [],
   "source": [
    "w[0]=1                                               #we mutate a part of the list."
   ]
  },
  {
   "cell_type": "code",
   "execution_count": 473,
   "id": "99514377",
   "metadata": {},
   "outputs": [
    {
     "data": {
      "text/plain": [
       "[1, 1, 2, 3, 4, 5, 6, 7]"
      ]
     },
     "execution_count": 473,
     "metadata": {},
     "output_type": "execute_result"
    }
   ],
   "source": [
    "w"
   ]
  },
  {
   "cell_type": "code",
   "execution_count": 471,
   "id": "daaabc2f",
   "metadata": {},
   "outputs": [
    {
     "data": {
      "text/plain": [
       "True"
      ]
     },
     "execution_count": 471,
     "metadata": {},
     "output_type": "execute_result"
    }
   ],
   "source": [
    "q==w"
   ]
  },
  {
   "cell_type": "code",
   "execution_count": 472,
   "id": "7b4fe44c",
   "metadata": {},
   "outputs": [
    {
     "data": {
      "text/plain": [
       "True"
      ]
     },
     "execution_count": 472,
     "metadata": {},
     "output_type": "execute_result"
    }
   ],
   "source": [
    "q is w"
   ]
  },
  {
   "cell_type": "code",
   "execution_count": 474,
   "id": "f40fe45e",
   "metadata": {},
   "outputs": [
    {
     "data": {
      "text/plain": [
       "[1, 1, 2, 3, 4, 5, 6, 7]"
      ]
     },
     "execution_count": 474,
     "metadata": {},
     "output_type": "execute_result"
    }
   ],
   "source": [
    "q                                                       #Both list changed because of alising."
   ]
  },
  {
   "cell_type": "markdown",
   "id": "d7343c66",
   "metadata": {},
   "source": [
    "### List as Function Argument ###"
   ]
  },
  {
   "cell_type": "code",
   "execution_count": 496,
   "id": "c81ab2c9",
   "metadata": {},
   "outputs": [
    {
     "data": {
      "text/plain": [
       "['monday', 'tuesday', 'friday']"
      ]
     },
     "execution_count": 496,
     "metadata": {},
     "output_type": "execute_result"
    }
   ],
   "source": [
    "days=['monday','tuesday','friday']\n",
    "days"
   ]
  },
  {
   "cell_type": "code",
   "execution_count": 497,
   "id": "46236c0b",
   "metadata": {},
   "outputs": [
    {
     "name": "stdout",
     "output_type": "stream",
     "text": [
      "['sunday', 'monday', 'saturday', 'tuesday', 'friday']\n"
     ]
    }
   ],
   "source": [
    "def finally_days(new_days):\n",
    "    new_days.insert(0, 'sunday')\n",
    "    new_days.insert(2, 'saturday')\n",
    "finally_days(days)                          #list is non primitive type,when it is as parameter,list change.-PASS BY REFERANS\n",
    "print(days)"
   ]
  },
  {
   "cell_type": "markdown",
   "id": "80f37cc5",
   "metadata": {},
   "source": [
    "### Matrix Application = Needed List ###"
   ]
  },
  {
   "cell_type": "code",
   "execution_count": 520,
   "id": "02e3d8b8",
   "metadata": {},
   "outputs": [
    {
     "data": {
      "text/plain": [
       "[[1, 2, 3], ['A', 'B', 'C'], [9, 8, 7]]"
      ]
     },
     "execution_count": 520,
     "metadata": {},
     "output_type": "execute_result"
    }
   ],
   "source": [
    "MAT=[[1,2,3],['A','B','C'],[9,8,7]]\n",
    "MAT"
   ]
  },
  {
   "cell_type": "code",
   "execution_count": 521,
   "id": "ce4b6c4b",
   "metadata": {},
   "outputs": [
    {
     "data": {
      "text/plain": [
       "[[1, 2, 3], ['A', 'B', 'C'], [9, 8, 7]]"
      ]
     },
     "execution_count": 521,
     "metadata": {},
     "output_type": "execute_result"
    }
   ],
   "source": [
    "MATR=[\n",
    "    [1,2,3],\n",
    "    ['A','B','C'],\n",
    "    [9,8,7]\n",
    "]\n",
    "MATR"
   ]
  },
  {
   "cell_type": "code",
   "execution_count": 522,
   "id": "c259b047",
   "metadata": {},
   "outputs": [
    {
     "data": {
      "text/plain": [
       "[1, 2, 3]"
      ]
     },
     "execution_count": 522,
     "metadata": {},
     "output_type": "execute_result"
    }
   ],
   "source": [
    "MAT[0]"
   ]
  },
  {
   "cell_type": "code",
   "execution_count": 523,
   "id": "e9e02888",
   "metadata": {},
   "outputs": [
    {
     "data": {
      "text/plain": [
       "['A', 'B', 'C']"
      ]
     },
     "execution_count": 523,
     "metadata": {},
     "output_type": "execute_result"
    }
   ],
   "source": [
    "MAT[1]"
   ]
  },
  {
   "cell_type": "code",
   "execution_count": 527,
   "id": "b4845f38",
   "metadata": {},
   "outputs": [
    {
     "data": {
      "text/plain": [
       "[[2, 4, 6],\n",
       " ['AA', 'BB', 'CC'],\n",
       " [18, 16, 14],\n",
       " [1, 2, 3],\n",
       " ['A', 'B', 'C'],\n",
       " [9, 8, 7]]"
      ]
     },
     "execution_count": 527,
     "metadata": {},
     "output_type": "execute_result"
    }
   ],
   "source": [
    "S=MAT+MATR\n",
    "S"
   ]
  },
  {
   "cell_type": "code",
   "execution_count": 528,
   "id": "f3cd2e48",
   "metadata": {},
   "outputs": [],
   "source": [
    "S=[\n",
    "    [0,0,0],\n",
    "    [0,0,0],\n",
    "    [0,0,0],\n",
    "]"
   ]
  },
  {
   "cell_type": "code",
   "execution_count": 529,
   "id": "2fb1ff6f",
   "metadata": {},
   "outputs": [
    {
     "name": "stdout",
     "output_type": "stream",
     "text": [
      "[[3, 6, 9], ['AAA', 'BBB', 'CCC'], [27, 24, 21]]\n"
     ]
    }
   ],
   "source": [
    "for i in range(len(MAT)):\n",
    "    for j in range(len(MATR)):\n",
    "        S[i][j]=MAT[i][j]+MATR[i][j]\n",
    "print(S)"
   ]
  }
 ],
 "metadata": {
  "kernelspec": {
   "display_name": "Python 3",
   "language": "python",
   "name": "python3"
  },
  "language_info": {
   "codemirror_mode": {
    "name": "ipython",
    "version": 3
   },
   "file_extension": ".py",
   "mimetype": "text/x-python",
   "name": "python",
   "nbconvert_exporter": "python",
   "pygments_lexer": "ipython3",
   "version": "3.7.0"
  }
 },
 "nbformat": 4,
 "nbformat_minor": 5
}
