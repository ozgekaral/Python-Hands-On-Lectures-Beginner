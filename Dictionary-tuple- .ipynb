{
 "cells": [
  {
   "cell_type": "markdown",
   "id": "3e848d2d",
   "metadata": {},
   "source": [
    "## DICTIONARY ##"
   ]
  },
  {
   "cell_type": "markdown",
   "id": "b66c4b9d",
   "metadata": {},
   "source": [
    "* {key:value}    \n",
    "* key=index value=output -------Key Value Pair\n",
    "* Key is a unique value-Any key does not have more one value."
   ]
  },
  {
   "cell_type": "markdown",
   "id": "8036618e",
   "metadata": {},
   "source": [
    "#### Create the dictionary ####"
   ]
  },
  {
   "cell_type": "code",
   "execution_count": 3,
   "id": "3c3ea7a2",
   "metadata": {},
   "outputs": [],
   "source": [
    "a={'name': 'john',\n",
    "   'class':'4',\n",
    "   'school':'harward Unıversity'\n",
    "  }"
   ]
  },
  {
   "cell_type": "code",
   "execution_count": 4,
   "id": "67e3dcd0",
   "metadata": {},
   "outputs": [
    {
     "data": {
      "text/plain": [
       "{'name': 'john', 'class': '4', 'school': 'harward Unıversity'}"
      ]
     },
     "execution_count": 4,
     "metadata": {},
     "output_type": "execute_result"
    }
   ],
   "source": [
    "a"
   ]
  },
  {
   "cell_type": "code",
   "execution_count": 5,
   "id": "7456613f",
   "metadata": {},
   "outputs": [
    {
     "data": {
      "text/plain": [
       "dict"
      ]
     },
     "execution_count": 5,
     "metadata": {},
     "output_type": "execute_result"
    }
   ],
   "source": [
    "type(a)"
   ]
  },
  {
   "cell_type": "code",
   "execution_count": 6,
   "id": "954643fe",
   "metadata": {},
   "outputs": [],
   "source": [
    "b=dict({'name': 'john',\n",
    "   'class':'4',\n",
    "   'school':'harward Unıversity'\n",
    "  })"
   ]
  },
  {
   "cell_type": "code",
   "execution_count": 7,
   "id": "68a89397",
   "metadata": {},
   "outputs": [
    {
     "data": {
      "text/plain": [
       "{'name': 'john', 'class': '4', 'school': 'harward Unıversity'}"
      ]
     },
     "execution_count": 7,
     "metadata": {},
     "output_type": "execute_result"
    }
   ],
   "source": [
    "b"
   ]
  },
  {
   "cell_type": "code",
   "execution_count": 8,
   "id": "9663cc3e",
   "metadata": {},
   "outputs": [
    {
     "data": {
      "text/plain": [
       "dict"
      ]
     },
     "execution_count": 8,
     "metadata": {},
     "output_type": "execute_result"
    }
   ],
   "source": [
    "type(b)"
   ]
  },
  {
   "cell_type": "code",
   "execution_count": 9,
   "id": "860a4a61",
   "metadata": {},
   "outputs": [
    {
     "data": {
      "text/plain": [
       "'john'"
      ]
     },
     "execution_count": 9,
     "metadata": {},
     "output_type": "execute_result"
    }
   ],
   "source": [
    "a['name']              *We find the element with index[key] in dictionary but in list,we find the element with 'index[number]''"
   ]
  },
  {
   "cell_type": "markdown",
   "id": "a38905f4",
   "metadata": {},
   "source": [
    "#### Adding or change the element and delete it   ####"
   ]
  },
  {
   "cell_type": "code",
   "execution_count": 22,
   "id": "36dfa854",
   "metadata": {},
   "outputs": [
    {
     "data": {
      "text/plain": [
       "{'one': 'bir'}"
      ]
     },
     "execution_count": 22,
     "metadata": {},
     "output_type": "execute_result"
    }
   ],
   "source": [
    "ingtrdic={'one':'bir'}\n",
    "ingtrdic"
   ]
  },
  {
   "cell_type": "code",
   "execution_count": 24,
   "id": "6ce9e21f",
   "metadata": {},
   "outputs": [
    {
     "data": {
      "text/plain": [
       "{'one': 'bir', 'two': 'iki'}"
      ]
     },
     "execution_count": 24,
     "metadata": {},
     "output_type": "execute_result"
    }
   ],
   "source": [
    "ingtrdic['two']='iki'                         #adding the element\n",
    "ingtrdic"
   ]
  },
  {
   "cell_type": "code",
   "execution_count": 30,
   "id": "3cea3966",
   "metadata": {},
   "outputs": [
    {
     "data": {
      "text/plain": [
       "{'one': 'bir', 'two': 'iki', 'three': 'fefef'}"
      ]
     },
     "execution_count": 30,
     "metadata": {},
     "output_type": "execute_result"
    }
   ],
   "source": [
    "ingtrdic['three']='fefef'\n",
    "ingtrdic"
   ]
  },
  {
   "cell_type": "code",
   "execution_count": 31,
   "id": "a00cb8ce",
   "metadata": {},
   "outputs": [],
   "source": [
    "ingtrdic['three']='üç'"
   ]
  },
  {
   "cell_type": "code",
   "execution_count": 32,
   "id": "dc66f90c",
   "metadata": {},
   "outputs": [
    {
     "data": {
      "text/plain": [
       "{'one': 'bir', 'two': 'iki', 'three': 'üç'}"
      ]
     },
     "execution_count": 32,
     "metadata": {},
     "output_type": "execute_result"
    }
   ],
   "source": [
    "ingtrdic                                       #we correct the value element"
   ]
  },
  {
   "cell_type": "code",
   "execution_count": 50,
   "id": "cadbcfb6",
   "metadata": {},
   "outputs": [
    {
     "data": {
      "text/plain": [
       "{'one': 'bir',\n",
       " 'two': 'iki',\n",
       " 'three': 'üç',\n",
       " 'fourr': 'dört',\n",
       " 'six': 'altı',\n",
       " 'seven': 'yedi'}"
      ]
     },
     "execution_count": 50,
     "metadata": {},
     "output_type": "execute_result"
    }
   ],
   "source": [
    "ingtrdic['fourr']='dört'         #we delete the wrong key to correct the key and then create the real key.\n",
    "ingtrdic"
   ]
  },
  {
   "cell_type": "code",
   "execution_count": 53,
   "id": "22536fa9",
   "metadata": {},
   "outputs": [
    {
     "data": {
      "text/plain": [
       "'dört'"
      ]
     },
     "execution_count": 53,
     "metadata": {},
     "output_type": "execute_result"
    }
   ],
   "source": [
    "ingtrdic.pop('fourr')           #'pop' give us the deleted value."
   ]
  },
  {
   "cell_type": "code",
   "execution_count": 54,
   "id": "f7b15043",
   "metadata": {},
   "outputs": [
    {
     "data": {
      "text/plain": [
       "{'one': 'bir', 'two': 'iki', 'three': 'üç', 'six': 'altı', 'seven': 'yedi'}"
      ]
     },
     "execution_count": 54,
     "metadata": {},
     "output_type": "execute_result"
    }
   ],
   "source": [
    "ingtrdic"
   ]
  },
  {
   "cell_type": "code",
   "execution_count": 57,
   "id": "09d33cbb",
   "metadata": {},
   "outputs": [],
   "source": [
    "del ingtrdic['seven']          #'del' does not give us any deleted value."
   ]
  },
  {
   "cell_type": "code",
   "execution_count": 58,
   "id": "6b57a301",
   "metadata": {},
   "outputs": [
    {
     "data": {
      "text/plain": [
       "{'one': 'bir', 'two': 'iki', 'three': 'üç', 'six': 'altı'}"
      ]
     },
     "execution_count": 58,
     "metadata": {},
     "output_type": "execute_result"
    }
   ],
   "source": [
    "ingtrdic"
   ]
  },
  {
   "cell_type": "markdown",
   "id": "55af9794",
   "metadata": {},
   "source": [
    "### Update ###"
   ]
  },
  {
   "cell_type": "code",
   "execution_count": 38,
   "id": "5bdaf9a8",
   "metadata": {},
   "outputs": [
    {
     "data": {
      "text/plain": [
       "{'one': 'bir', 'two': 'iki', 'three': 'üç', 'fourr': 'dört'}"
      ]
     },
     "execution_count": 38,
     "metadata": {},
     "output_type": "execute_result"
    }
   ],
   "source": [
    "ingtrdic"
   ]
  },
  {
   "cell_type": "code",
   "execution_count": 46,
   "id": "7e59638c",
   "metadata": {},
   "outputs": [],
   "source": [
    "adding={'six':'altı','seven':'yedi'}"
   ]
  },
  {
   "cell_type": "code",
   "execution_count": 47,
   "id": "b75cfbfd",
   "metadata": {},
   "outputs": [
    {
     "data": {
      "text/plain": [
       "{'one': 'bir',\n",
       " 'two': 'iki',\n",
       " 'three': 'üç',\n",
       " 'fourr': 'dört',\n",
       " 'six': 'altı',\n",
       " 'seven': 'yedi'}"
      ]
     },
     "execution_count": 47,
     "metadata": {},
     "output_type": "execute_result"
    }
   ],
   "source": [
    "ingtrdic.update(adding)\n",
    "ingtrdic"
   ]
  },
  {
   "cell_type": "markdown",
   "id": "e0bfa5c2",
   "metadata": {},
   "source": [
    "#### Read Elements from a Dictionary ####\n"
   ]
  },
  {
   "cell_type": "code",
   "execution_count": 59,
   "id": "b6901dd0",
   "metadata": {},
   "outputs": [
    {
     "data": {
      "text/plain": [
       "'bir'"
      ]
     },
     "execution_count": 59,
     "metadata": {},
     "output_type": "execute_result"
    }
   ],
   "source": [
    "ingtrdic['one']"
   ]
  },
  {
   "cell_type": "code",
   "execution_count": 62,
   "id": "3e673117",
   "metadata": {},
   "outputs": [
    {
     "data": {
      "text/plain": [
       "dict_items([('one', 'bir'), ('two', 'iki'), ('three', 'üç'), ('six', 'altı')])"
      ]
     },
     "execution_count": 62,
     "metadata": {},
     "output_type": "execute_result"
    }
   ],
   "source": [
    "ingtrdic.items()"
   ]
  },
  {
   "cell_type": "code",
   "execution_count": 63,
   "id": "be936bc4",
   "metadata": {},
   "outputs": [
    {
     "data": {
      "text/plain": [
       "dict_keys(['one', 'two', 'three', 'six'])"
      ]
     },
     "execution_count": 63,
     "metadata": {},
     "output_type": "execute_result"
    }
   ],
   "source": [
    "ingtrdic.keys()"
   ]
  },
  {
   "cell_type": "code",
   "execution_count": 64,
   "id": "10b8ecc6",
   "metadata": {},
   "outputs": [
    {
     "data": {
      "text/plain": [
       "dict_values(['bir', 'iki', 'üç', 'altı'])"
      ]
     },
     "execution_count": 64,
     "metadata": {},
     "output_type": "execute_result"
    }
   ],
   "source": [
    "ingtrdic.values()"
   ]
  },
  {
   "cell_type": "code",
   "execution_count": 70,
   "id": "1b045532",
   "metadata": {},
   "outputs": [
    {
     "name": "stdout",
     "output_type": "stream",
     "text": [
      "one bir\n",
      "two iki\n",
      "three üç\n",
      "six altı\n"
     ]
    }
   ],
   "source": [
    "for key,value in ingtrdic.items():\n",
    "    print(key,value)"
   ]
  },
  {
   "cell_type": "code",
   "execution_count": 71,
   "id": "13bbb992",
   "metadata": {},
   "outputs": [
    {
     "name": "stdout",
     "output_type": "stream",
     "text": [
      "bir\n",
      "iki\n",
      "üç\n",
      "altı\n"
     ]
    }
   ],
   "source": [
    "for key,value in ingtrdic.items():\n",
    "    print(value)"
   ]
  },
  {
   "cell_type": "code",
   "execution_count": 72,
   "id": "d197aa05",
   "metadata": {},
   "outputs": [
    {
     "data": {
      "text/plain": [
       "'bir'"
      ]
     },
     "execution_count": 72,
     "metadata": {},
     "output_type": "execute_result"
    }
   ],
   "source": [
    "ingtrdic.get('one')"
   ]
  },
  {
   "cell_type": "code",
   "execution_count": 74,
   "id": "8ea8086f",
   "metadata": {},
   "outputs": [
    {
     "data": {
      "text/plain": [
       "'bir'"
      ]
     },
     "execution_count": 74,
     "metadata": {},
     "output_type": "execute_result"
    }
   ],
   "source": [
    "ingtrdic['one']"
   ]
  },
  {
   "cell_type": "code",
   "execution_count": 73,
   "id": "a71fca69",
   "metadata": {},
   "outputs": [],
   "source": [
    "ingtrdic.get('ten')                            #Get give us the error"
   ]
  },
  {
   "cell_type": "markdown",
   "id": "01cddd5d",
   "metadata": {},
   "source": [
    "#### Len ####"
   ]
  },
  {
   "cell_type": "code",
   "execution_count": 75,
   "id": "bf631003",
   "metadata": {},
   "outputs": [
    {
     "data": {
      "text/plain": [
       "4"
      ]
     },
     "execution_count": 75,
     "metadata": {},
     "output_type": "execute_result"
    }
   ],
   "source": [
    "len(ingtrdic)"
   ]
  },
  {
   "cell_type": "markdown",
   "id": "7cc63ceb",
   "metadata": {},
   "source": [
    "#### In ####"
   ]
  },
  {
   "cell_type": "code",
   "execution_count": 77,
   "id": "73e8704e",
   "metadata": {},
   "outputs": [
    {
     "data": {
      "text/plain": [
       "True"
      ]
     },
     "execution_count": 77,
     "metadata": {},
     "output_type": "execute_result"
    }
   ],
   "source": [
    "'one' in ingtrdic"
   ]
  },
  {
   "cell_type": "code",
   "execution_count": 80,
   "id": "4ec45702",
   "metadata": {},
   "outputs": [
    {
     "data": {
      "text/plain": [
       "True"
      ]
     },
     "execution_count": 80,
     "metadata": {},
     "output_type": "execute_result"
    }
   ],
   "source": [
    "'bir' in ingtrdic.values()"
   ]
  },
  {
   "cell_type": "code",
   "execution_count": 81,
   "id": "5f416934",
   "metadata": {},
   "outputs": [
    {
     "data": {
      "text/plain": [
       "True"
      ]
     },
     "execution_count": 81,
     "metadata": {},
     "output_type": "execute_result"
    }
   ],
   "source": [
    "'one' in ingtrdic.keys()"
   ]
  },
  {
   "cell_type": "code",
   "execution_count": 82,
   "id": "db3fb027",
   "metadata": {},
   "outputs": [
    {
     "data": {
      "text/plain": [
       "False"
      ]
     },
     "execution_count": 82,
     "metadata": {},
     "output_type": "execute_result"
    }
   ],
   "source": [
    "'sixty' in ingtrdic.keys()"
   ]
  },
  {
   "cell_type": "markdown",
   "id": "7c7f0f14",
   "metadata": {},
   "source": [
    "#### Loop Over Dictionary ####"
   ]
  },
  {
   "cell_type": "code",
   "execution_count": 87,
   "id": "9feaaa6c",
   "metadata": {},
   "outputs": [
    {
     "name": "stdout",
     "output_type": "stream",
     "text": [
      "('one', 'bir')\n",
      "('two', 'iki')\n",
      "('three', 'üç')\n",
      "('six', 'altı')\n"
     ]
    }
   ],
   "source": [
    "for dictionary in ingtrdic.items():\n",
    "    print(dictionary)\n",
    "    "
   ]
  },
  {
   "cell_type": "code",
   "execution_count": 90,
   "id": "94af186f",
   "metadata": {},
   "outputs": [
    {
     "name": "stdout",
     "output_type": "stream",
     "text": [
      "one --- bir\n",
      "two --- iki\n",
      "three --- üç\n",
      "six --- altı\n"
     ]
    }
   ],
   "source": [
    "for ingnumber, trnumber in ingtrdic.items():\n",
    "    print(ingnumber,'---',trnumber)"
   ]
  },
  {
   "cell_type": "code",
   "execution_count": 91,
   "id": "dad7629c",
   "metadata": {},
   "outputs": [
    {
     "name": "stdout",
     "output_type": "stream",
     "text": [
      "* one\n",
      "* two\n",
      "* three\n",
      "* six\n"
     ]
    }
   ],
   "source": [
    "for entry in ingtrdic.keys():\n",
    "    print('*',entry)"
   ]
  },
  {
   "cell_type": "code",
   "execution_count": 92,
   "id": "341d4bb3",
   "metadata": {},
   "outputs": [
    {
     "name": "stdout",
     "output_type": "stream",
     "text": [
      "- bir\n",
      "- iki\n",
      "- üç\n",
      "- altı\n"
     ]
    }
   ],
   "source": [
    "for output in ingtrdic.values():\n",
    "    print('-',output)"
   ]
  },
  {
   "cell_type": "code",
   "execution_count": 93,
   "id": "0e51a95c",
   "metadata": {},
   "outputs": [
    {
     "name": "stdout",
     "output_type": "stream",
     "text": [
      "one bir\n",
      "two iki\n",
      "three üç\n",
      "six altı\n"
     ]
    }
   ],
   "source": [
    "for entry, output in ingtrdic.items():\n",
    "    print(entry,output)"
   ]
  },
  {
   "cell_type": "markdown",
   "id": "34b19cf4",
   "metadata": {},
   "source": [
    "### List and Dictionary ###"
   ]
  },
  {
   "cell_type": "code",
   "execution_count": 96,
   "id": "5d3c8ede",
   "metadata": {},
   "outputs": [],
   "source": [
    "texting='john is a student but Maria is a teacher'        #create a text"
   ]
  },
  {
   "cell_type": "code",
   "execution_count": 107,
   "id": "397cd94a",
   "metadata": {},
   "outputs": [],
   "source": [
    "texting='john is a student but Maria is a teacher'\n",
    "#create a function to count the character.\n",
    "def count_character(texting):\n",
    "#create dictionary that keep the numbers and characters.\n",
    "    characters=dict()\n",
    "#Ask any character in this text\n",
    "    for character in texting:\n",
    "#Ask them that are numbers or characters\n",
    "        if character.isalpha():\n",
    "#define both two situation\n",
    "            if character in characters.keys():\n",
    "                characters[character]+=1\n",
    "            else:\n",
    "                characters[character]=1\n",
    "    return characters"
   ]
  },
  {
   "cell_type": "code",
   "execution_count": 109,
   "id": "bbb37a34",
   "metadata": {},
   "outputs": [
    {
     "data": {
      "text/plain": [
       "{'j': 1,\n",
       " 'o': 1,\n",
       " 'h': 2,\n",
       " 'n': 2,\n",
       " 'i': 3,\n",
       " 's': 3,\n",
       " 'a': 5,\n",
       " 't': 4,\n",
       " 'u': 2,\n",
       " 'd': 1,\n",
       " 'e': 3,\n",
       " 'b': 1,\n",
       " 'M': 1,\n",
       " 'r': 2,\n",
       " 'c': 1}"
      ]
     },
     "execution_count": 109,
     "metadata": {},
     "output_type": "execute_result"
    }
   ],
   "source": [
    "character_dic=count_character(texting)\n",
    "character_dic                                #define as a new name the function"
   ]
  },
  {
   "cell_type": "code",
   "execution_count": 116,
   "id": "4161f671",
   "metadata": {},
   "outputs": [],
   "source": [
    "def listt_characters(texting):\n",
    "    dictionaryy=count_character(texting)\n",
    "    characters=dict()\n",
    "    for key in dictionaryy:\n",
    "        values=dictionaryy[key]\n",
    "        if values not in characters:\n",
    "            characters[values]=[key]\n",
    "        else:\n",
    "            characters[values].append(key)\n",
    "    return characters\n",
    "        "
   ]
  },
  {
   "cell_type": "code",
   "execution_count": 117,
   "id": "60ec772b",
   "metadata": {},
   "outputs": [
    {
     "data": {
      "text/plain": [
       "{1: ['j', 'o', 'd', 'b', 'M', 'c'],\n",
       " 2: ['h', 'n', 'u', 'r'],\n",
       " 3: ['i', 's', 'e'],\n",
       " 5: ['a'],\n",
       " 4: ['t']}"
      ]
     },
     "execution_count": 117,
     "metadata": {},
     "output_type": "execute_result"
    }
   ],
   "source": [
    "characters=listt_characters(texting)\n",
    "characters"
   ]
  },
  {
   "cell_type": "markdown",
   "id": "6dae15a4",
   "metadata": {},
   "source": [
    "### TUPLE ###"
   ]
  },
  {
   "cell_type": "code",
   "execution_count": 120,
   "id": "6fca02f4",
   "metadata": {},
   "outputs": [],
   "source": [
    "x='A','B'"
   ]
  },
  {
   "cell_type": "code",
   "execution_count": 121,
   "id": "8f1d73ec",
   "metadata": {},
   "outputs": [
    {
     "data": {
      "text/plain": [
       "tuple"
      ]
     },
     "execution_count": 121,
     "metadata": {},
     "output_type": "execute_result"
    }
   ],
   "source": [
    "type(x)"
   ]
  },
  {
   "cell_type": "code",
   "execution_count": 122,
   "id": "1ce61c15",
   "metadata": {},
   "outputs": [],
   "source": [
    "t='A'"
   ]
  },
  {
   "cell_type": "code",
   "execution_count": 123,
   "id": "27143dfc",
   "metadata": {},
   "outputs": [
    {
     "data": {
      "text/plain": [
       "str"
      ]
     },
     "execution_count": 123,
     "metadata": {},
     "output_type": "execute_result"
    }
   ],
   "source": [
    "type(t)"
   ]
  },
  {
   "cell_type": "code",
   "execution_count": 124,
   "id": "2ad8d75f",
   "metadata": {},
   "outputs": [],
   "source": [
    "t='A',"
   ]
  },
  {
   "cell_type": "code",
   "execution_count": 125,
   "id": "ad946df4",
   "metadata": {},
   "outputs": [
    {
     "data": {
      "text/plain": [
       "tuple"
      ]
     },
     "execution_count": 125,
     "metadata": {},
     "output_type": "execute_result"
    }
   ],
   "source": [
    "type(t)"
   ]
  },
  {
   "cell_type": "code",
   "execution_count": 126,
   "id": "cfda602f",
   "metadata": {},
   "outputs": [
    {
     "data": {
      "text/plain": [
       "('b',)"
      ]
     },
     "execution_count": 126,
     "metadata": {},
     "output_type": "execute_result"
    }
   ],
   "source": [
    "tt=tuple('b')                 #with constructor\n",
    "tt"
   ]
  },
  {
   "cell_type": "code",
   "execution_count": 130,
   "id": "ffe9a55c",
   "metadata": {},
   "outputs": [
    {
     "data": {
      "text/plain": [
       "('python',)"
      ]
     },
     "execution_count": 130,
     "metadata": {},
     "output_type": "execute_result"
    }
   ],
   "source": [
    "multi='python',\n",
    "multi"
   ]
  },
  {
   "cell_type": "code",
   "execution_count": 131,
   "id": "f24d20e5",
   "metadata": {},
   "outputs": [
    {
     "data": {
      "text/plain": [
       "tuple"
      ]
     },
     "execution_count": 131,
     "metadata": {},
     "output_type": "execute_result"
    }
   ],
   "source": [
    "type(multi)"
   ]
  },
  {
   "cell_type": "code",
   "execution_count": 133,
   "id": "002122b6",
   "metadata": {},
   "outputs": [
    {
     "data": {
      "text/plain": [
       "('p', 'y', 't', 'h', 'o', 'n')"
      ]
     },
     "execution_count": 133,
     "metadata": {},
     "output_type": "execute_result"
    }
   ],
   "source": [
    "multi2=tuple('python')                         #İf there are 'stinrg' and 'list ' it spell them.\n",
    "multi2"
   ]
  },
  {
   "cell_type": "code",
   "execution_count": 135,
   "id": "8a88433f",
   "metadata": {},
   "outputs": [
    {
     "data": {
      "text/plain": [
       "tuple"
      ]
     },
     "execution_count": 135,
     "metadata": {},
     "output_type": "execute_result"
    }
   ],
   "source": [
    "type(multi)"
   ]
  },
  {
   "cell_type": "markdown",
   "id": "9a0efbbf",
   "metadata": {},
   "source": [
    "#### The operatıons of 'list' also include 'tuple' operatıons. ####"
   ]
  },
  {
   "cell_type": "markdown",
   "id": "7ffb8f35",
   "metadata": {},
   "source": [
    "#### index ####"
   ]
  },
  {
   "cell_type": "code",
   "execution_count": 136,
   "id": "cd93e897",
   "metadata": {},
   "outputs": [
    {
     "data": {
      "text/plain": [
       "'p'"
      ]
     },
     "execution_count": 136,
     "metadata": {},
     "output_type": "execute_result"
    }
   ],
   "source": [
    "multi2[0]"
   ]
  },
  {
   "cell_type": "code",
   "execution_count": 139,
   "id": "29bc65cd",
   "metadata": {},
   "outputs": [
    {
     "data": {
      "text/plain": [
       "('p', 'y', 't')"
      ]
     },
     "execution_count": 139,
     "metadata": {},
     "output_type": "execute_result"
    }
   ],
   "source": [
    "multi2[0:3]"
   ]
  },
  {
   "cell_type": "markdown",
   "id": "937e1f6d",
   "metadata": {},
   "source": [
    "#### slice ####"
   ]
  },
  {
   "cell_type": "code",
   "execution_count": 141,
   "id": "99e647da",
   "metadata": {},
   "outputs": [
    {
     "data": {
      "text/plain": [
       "'john'"
      ]
     },
     "execution_count": 141,
     "metadata": {},
     "output_type": "execute_result"
    }
   ],
   "source": [
    "texting[0:4]"
   ]
  },
  {
   "cell_type": "code",
   "execution_count": 142,
   "id": "320770d3",
   "metadata": {},
   "outputs": [
    {
     "data": {
      "text/plain": [
       "' is'"
      ]
     },
     "execution_count": 142,
     "metadata": {},
     "output_type": "execute_result"
    }
   ],
   "source": [
    "texting[4:7]"
   ]
  },
  {
   "cell_type": "code",
   "execution_count": 149,
   "id": "b5f2171e",
   "metadata": {},
   "outputs": [
    {
     "data": {
      "text/plain": [
       "'rehcaet a si airaM tub tneduts a si nhoj'"
      ]
     },
     "execution_count": 149,
     "metadata": {},
     "output_type": "execute_result"
    }
   ],
   "source": [
    "texting[::-1]"
   ]
  },
  {
   "cell_type": "code",
   "execution_count": 154,
   "id": "6ef4d5bf",
   "metadata": {},
   "outputs": [
    {
     "data": {
      "text/plain": [
       "(9, 8, 8, 7, 6)"
      ]
     },
     "execution_count": 154,
     "metadata": {},
     "output_type": "execute_result"
    }
   ],
   "source": [
    "multi3=tuple([9,8,8,7,6])\n",
    "multi3"
   ]
  },
  {
   "cell_type": "code",
   "execution_count": 155,
   "id": "9671ed2e",
   "metadata": {},
   "outputs": [
    {
     "data": {
      "text/plain": [
       "tuple"
      ]
     },
     "execution_count": 155,
     "metadata": {},
     "output_type": "execute_result"
    }
   ],
   "source": [
    "type(multi3)"
   ]
  },
  {
   "cell_type": "markdown",
   "id": "74bbe64d",
   "metadata": {},
   "source": [
    "#### We do not change any element with 'index 'in tuple ####"
   ]
  },
  {
   "cell_type": "code",
   "execution_count": 157,
   "id": "3e8f79d9",
   "metadata": {},
   "outputs": [
    {
     "data": {
      "text/plain": [
       "(9, 8, 7, 6, 5)"
      ]
     },
     "execution_count": 157,
     "metadata": {},
     "output_type": "execute_result"
    }
   ],
   "source": [
    "multi3=tuple([9,8,7,6,5])\n",
    "multi3"
   ]
  },
  {
   "cell_type": "markdown",
   "id": "22286d89",
   "metadata": {},
   "source": [
    "#### compare ####"
   ]
  },
  {
   "cell_type": "code",
   "execution_count": 159,
   "id": "a178c2bd",
   "metadata": {},
   "outputs": [
    {
     "data": {
      "text/plain": [
       "False"
      ]
     },
     "execution_count": 159,
     "metadata": {},
     "output_type": "execute_result"
    }
   ],
   "source": [
    "(1,2,3,4)>(4,5,6,7)"
   ]
  },
  {
   "cell_type": "code",
   "execution_count": 160,
   "id": "fb621f67",
   "metadata": {},
   "outputs": [
    {
     "data": {
      "text/plain": [
       "True"
      ]
     },
     "execution_count": 160,
     "metadata": {},
     "output_type": "execute_result"
    }
   ],
   "source": [
    "(1,100,8512)<(2,3,4)"
   ]
  },
  {
   "cell_type": "markdown",
   "id": "e7eade52",
   "metadata": {},
   "source": [
    "#### swap ####"
   ]
  },
  {
   "cell_type": "code",
   "execution_count": 161,
   "id": "81f1ebd1",
   "metadata": {},
   "outputs": [],
   "source": [
    "a=101\n",
    "b=1000\n",
    "a,b=b,a"
   ]
  },
  {
   "cell_type": "code",
   "execution_count": 162,
   "id": "6977e2d2",
   "metadata": {},
   "outputs": [
    {
     "name": "stdout",
     "output_type": "stream",
     "text": [
      "1000\n",
      "101\n"
     ]
    }
   ],
   "source": [
    "print(a)\n",
    "print(b)"
   ]
  },
  {
   "cell_type": "code",
   "execution_count": 166,
   "id": "8b722906",
   "metadata": {},
   "outputs": [
    {
     "name": "stdout",
     "output_type": "stream",
     "text": [
      "a: 500\n",
      "b: 600\n"
     ]
    }
   ],
   "source": [
    "a,b = 500,600\n",
    "print('a:',a)\n",
    "print('b:',b)"
   ]
  },
  {
   "cell_type": "markdown",
   "id": "09126df3",
   "metadata": {},
   "source": [
    "#### Tuple Assignment ####"
   ]
  },
  {
   "cell_type": "markdown",
   "id": "91c4e91b",
   "metadata": {},
   "source": [
    "#### In general,the function give us a value and we want to give us more one value.In that time we create a tuple. ####"
   ]
  },
  {
   "cell_type": "code",
   "execution_count": 173,
   "id": "5549d1df",
   "metadata": {},
   "outputs": [
    {
     "data": {
      "text/plain": [
       "(13, 7)"
      ]
     },
     "execution_count": 173,
     "metadata": {},
     "output_type": "execute_result"
    }
   ],
   "source": [
    "conclusion = divmod(150,11)\n",
    "conclusion"
   ]
  },
  {
   "cell_type": "code",
   "execution_count": 174,
   "id": "ddfcc6ef",
   "metadata": {},
   "outputs": [],
   "source": [
    "def operation (*arqs):\n",
    "    print(arqs)"
   ]
  },
  {
   "cell_type": "code",
   "execution_count": 175,
   "id": "23106584",
   "metadata": {},
   "outputs": [
    {
     "name": "stdout",
     "output_type": "stream",
     "text": [
      "(5, 48, 101, 58, 54)\n"
     ]
    }
   ],
   "source": [
    "operation(5,48,101,58,54)"
   ]
  },
  {
   "cell_type": "code",
   "execution_count": 185,
   "id": "e21fc007",
   "metadata": {},
   "outputs": [],
   "source": [
    "def operations (*arqs):\n",
    "    sum1=sum(arqs)\n",
    "    multi=2               #direct value\n",
    "    for a in arqs:\n",
    "        multi*=a\n",
    "    return(sum1, multi)"
   ]
  },
  {
   "cell_type": "code",
   "execution_count": 186,
   "id": "b7165784",
   "metadata": {},
   "outputs": [
    {
     "name": "stdout",
     "output_type": "stream",
     "text": [
      "95\n",
      "42120\n"
     ]
    }
   ],
   "source": [
    "sum1, multi = operations(15,54,26)\n",
    "print(sum1)\n",
    "print(multi)"
   ]
  },
  {
   "cell_type": "markdown",
   "id": "5b47fe4b",
   "metadata": {},
   "source": [
    "#### Zıp function ####"
   ]
  },
  {
   "cell_type": "code",
   "execution_count": 188,
   "id": "37ffb129",
   "metadata": {},
   "outputs": [
    {
     "name": "stdout",
     "output_type": "stream",
     "text": [
      "<zip object at 0x000001CD529FD788>\n"
     ]
    }
   ],
   "source": [
    "task='xyzt'\n",
    "number2=[1,2,3,4]\n",
    "z=zip(task,number2)\n",
    "print(z)"
   ]
  },
  {
   "cell_type": "code",
   "execution_count": 189,
   "id": "79b17030",
   "metadata": {},
   "outputs": [
    {
     "name": "stdout",
     "output_type": "stream",
     "text": [
      "('x', 1)\n",
      "('y', 2)\n",
      "('z', 3)\n",
      "('t', 4)\n"
     ]
    }
   ],
   "source": [
    "for dis in z:\n",
    "    print(dis)"
   ]
  },
  {
   "cell_type": "code",
   "execution_count": 193,
   "id": "39dee7a5",
   "metadata": {},
   "outputs": [
    {
     "data": {
      "text/plain": [
       "[]"
      ]
     },
     "execution_count": 193,
     "metadata": {},
     "output_type": "execute_result"
    }
   ],
   "source": [
    "z_list=list(z)\n",
    "z_list                            #The conclusion is empty to be not endless loop.        "
   ]
  },
  {
   "cell_type": "code",
   "execution_count": 217,
   "id": "06333f52",
   "metadata": {},
   "outputs": [
    {
     "name": "stdout",
     "output_type": "stream",
     "text": [
      "<zip object at 0x000001CD52A31F48>\n"
     ]
    }
   ],
   "source": [
    "d1=['a','b','c']\n",
    "d2=[10,20,30,40,50,60,70,80,90]\n",
    "z1=zip(d1,d2)\n",
    "print(z1)"
   ]
  },
  {
   "cell_type": "code",
   "execution_count": 218,
   "id": "8a9b8b07",
   "metadata": {},
   "outputs": [
    {
     "data": {
      "text/plain": [
       "[('a', 10), ('b', 20), ('c', 30)]"
      ]
     },
     "execution_count": 218,
     "metadata": {},
     "output_type": "execute_result"
    }
   ],
   "source": [
    "list_zip = list(z1)\n",
    "list_zip"
   ]
  },
  {
   "cell_type": "markdown",
   "id": "fe5bdb71",
   "metadata": {},
   "source": [
    "### Dictionary and Tuple ###"
   ]
  },
  {
   "cell_type": "code",
   "execution_count": 238,
   "id": "7edaacff",
   "metadata": {},
   "outputs": [
    {
     "name": "stdout",
     "output_type": "stream",
     "text": [
      "{'X': 88, 'Y': 89, 'Z': 90, 'W': 87}\n"
     ]
    }
   ],
   "source": [
    "dic={'X':ord('X'),\n",
    "      'Y':ord('Y'),\n",
    "      'Z':ord('Z'),\n",
    "      'W':ord('W'),\n",
    "     }\n",
    "print(dic)"
   ]
  },
  {
   "cell_type": "code",
   "execution_count": 239,
   "id": "9307000d",
   "metadata": {},
   "outputs": [
    {
     "data": {
      "text/plain": [
       "dict_items([('X', 88), ('Y', 89), ('Z', 90), ('W', 87)])"
      ]
     },
     "execution_count": 239,
     "metadata": {},
     "output_type": "execute_result"
    }
   ],
   "source": [
    "dic.items()                     #like a tuple list "
   ]
  },
  {
   "cell_type": "code",
   "execution_count": 240,
   "id": "d414b008",
   "metadata": {},
   "outputs": [
    {
     "name": "stdout",
     "output_type": "stream",
     "text": [
      "X 88\n",
      "Y 89\n",
      "Z 90\n",
      "W 87\n"
     ]
    }
   ],
   "source": [
    "for key,value in dict.items():\n",
    "    print(key,value)                          #dictionay does not have 'index'"
   ]
  },
  {
   "cell_type": "code",
   "execution_count": 241,
   "id": "b15be81e",
   "metadata": {},
   "outputs": [
    {
     "name": "stdout",
     "output_type": "stream",
     "text": [
      "[('monday', 1), ('tuesday', 2), ('wednesday', 3)]\n"
     ]
    }
   ],
   "source": [
    "days=[('monday',1),('tuesday',2),('wednesday',3)]               #the list contain tuple.\n",
    "print(days)                                                     #we change the dictionary with 'dict'"
   ]
  },
  {
   "cell_type": "markdown",
   "id": "7184ec7d",
   "metadata": {},
   "source": [
    "#### İndex with 'zip' and 'range' #### "
   ]
  },
  {
   "cell_type": "markdown",
   "id": "0749939b",
   "metadata": {},
   "source": [
    "#### solution-1 ####"
   ]
  },
  {
   "cell_type": "code",
   "execution_count": 242,
   "id": "913aad4a",
   "metadata": {},
   "outputs": [
    {
     "name": "stdout",
     "output_type": "stream",
     "text": [
      "<zip object at 0x000001CD52A39A08>\n"
     ]
    }
   ],
   "source": [
    "day=['monday','tuesday','wednesday','thursday','friday','saturday','sunday']\n",
    "numbers=range(1,8)\n",
    "day_num=zip(numbers,day)\n",
    "print(day_num)"
   ]
  },
  {
   "cell_type": "markdown",
   "id": "d3e20d09",
   "metadata": {},
   "source": [
    "#### day=dict(day) with be dictionary ####"
   ]
  },
  {
   "cell_type": "markdown",
   "id": "c6dbc720",
   "metadata": {},
   "source": [
    "#### solution - 2 ####"
   ]
  },
  {
   "cell_type": "code",
   "execution_count": null,
   "id": "f5b0d96f",
   "metadata": {},
   "outputs": [],
   "source": [
    "# day_num=dict(zip(numbers,day))         #It make the progress"
   ]
  },
  {
   "cell_type": "markdown",
   "id": "58c30906",
   "metadata": {},
   "source": [
    "#### Sample ####"
   ]
  },
  {
   "cell_type": "code",
   "execution_count": 251,
   "id": "dc0b351f",
   "metadata": {},
   "outputs": [],
   "source": [
    "name=['john','george','khan']\n",
    "secondname=['yo','ko','zo']\n",
    "degree=['50','100','40']"
   ]
  },
  {
   "cell_type": "code",
   "execution_count": 252,
   "id": "c493cb19",
   "metadata": {},
   "outputs": [
    {
     "data": {
      "text/plain": [
       "{('john', 'yo'): '50', ('george', 'ko'): '100', ('khan', 'zo'): '40'}"
      ]
     },
     "execution_count": 252,
     "metadata": {},
     "output_type": "execute_result"
    }
   ],
   "source": [
    "student_degree = {}\n",
    "for name,secondname,degree in zip(name,secondname,degree):\n",
    "    student_degree[(name,secondname)]=degree\n",
    "student_degree"
   ]
  },
  {
   "cell_type": "markdown",
   "id": "f453fb43",
   "metadata": {},
   "source": [
    "#### Lambda function as a key ####"
   ]
  },
  {
   "cell_type": "code",
   "execution_count": 268,
   "id": "bd6eeb3a",
   "metadata": {},
   "outputs": [],
   "source": [
    "colour_cluester=('pink','purple','darkbrown','red')"
   ]
  },
  {
   "cell_type": "code",
   "execution_count": 269,
   "id": "9f3a0aed",
   "metadata": {},
   "outputs": [],
   "source": [
    "def colour(e):\n",
    "    return len(e)"
   ]
  },
  {
   "cell_type": "code",
   "execution_count": 270,
   "id": "c90a1541",
   "metadata": {},
   "outputs": [
    {
     "data": {
      "text/plain": [
       "4"
      ]
     },
     "execution_count": 270,
     "metadata": {},
     "output_type": "execute_result"
    }
   ],
   "source": [
    "colour('pink')"
   ]
  },
  {
   "cell_type": "code",
   "execution_count": 271,
   "id": "d3f8c1c3",
   "metadata": {},
   "outputs": [
    {
     "data": {
      "text/plain": [
       "9"
      ]
     },
     "execution_count": 271,
     "metadata": {},
     "output_type": "execute_result"
    }
   ],
   "source": [
    "colour('darkbrown')"
   ]
  },
  {
   "cell_type": "markdown",
   "id": "b260a081",
   "metadata": {},
   "source": [
    "#### We use the function as parameter. ####"
   ]
  },
  {
   "cell_type": "code",
   "execution_count": 272,
   "id": "d8ea7041",
   "metadata": {},
   "outputs": [
    {
     "data": {
      "text/plain": [
       "['red', 'pink', 'purple', 'darkbrown']"
      ]
     },
     "execution_count": 272,
     "metadata": {},
     "output_type": "execute_result"
    }
   ],
   "source": [
    "sorted(colour_cluester,key=colour)         #'shorted' create the list from tuple but 'sort'  does not makes the same progress."
   ]
  },
  {
   "cell_type": "code",
   "execution_count": 273,
   "id": "7f98a8ab",
   "metadata": {},
   "outputs": [
    {
     "data": {
      "text/plain": [
       "['pink', 'purple', 'darkbrown', 'red']"
      ]
     },
     "execution_count": 273,
     "metadata": {},
     "output_type": "execute_result"
    }
   ],
   "source": [
    "colour_cluesterlist=list(colour_cluester)                                #To we use 'sort',we create as list.\n",
    "colour_cluesterlist"
   ]
  },
  {
   "cell_type": "code",
   "execution_count": 274,
   "id": "38465d41",
   "metadata": {},
   "outputs": [
    {
     "data": {
      "text/plain": [
       "['red', 'pink', 'purple', 'darkbrown']"
      ]
     },
     "execution_count": 274,
     "metadata": {},
     "output_type": "execute_result"
    }
   ],
   "source": [
    "colour_cluesterlist.sort(key=colour)\n",
    "colour_cluesterlist"
   ]
  },
  {
   "cell_type": "markdown",
   "id": "fd8a0856",
   "metadata": {},
   "source": [
    "#### with 'lambda function' ####"
   ]
  },
  {
   "cell_type": "code",
   "execution_count": 276,
   "id": "e43cb15f",
   "metadata": {},
   "outputs": [
    {
     "data": {
      "text/plain": [
       "['red', 'pink', 'purple', 'darkbrown']"
      ]
     },
     "execution_count": 276,
     "metadata": {},
     "output_type": "execute_result"
    }
   ],
   "source": [
    "sorted(colour_cluester, key=lambda x : len(x))"
   ]
  },
  {
   "cell_type": "code",
   "execution_count": 278,
   "id": "a500a8dd",
   "metadata": {},
   "outputs": [
    {
     "data": {
      "text/plain": [
       "['red', 'pink', 'purple', 'darkbrown']"
      ]
     },
     "execution_count": 278,
     "metadata": {},
     "output_type": "execute_result"
    }
   ],
   "source": [
    "colour_cluesterlist=list(colour_cluester)\n",
    "colour_cluesterlist.sort(key=lambda x : len(x))\n",
    "colour_cluesterlist"
   ]
  },
  {
   "cell_type": "code",
   "execution_count": null,
   "id": "f5758aa4",
   "metadata": {},
   "outputs": [],
   "source": []
  }
 ],
 "metadata": {
  "kernelspec": {
   "display_name": "Python 3",
   "language": "python",
   "name": "python3"
  },
  "language_info": {
   "codemirror_mode": {
    "name": "ipython",
    "version": 3
   },
   "file_extension": ".py",
   "mimetype": "text/x-python",
   "name": "python",
   "nbconvert_exporter": "python",
   "pygments_lexer": "ipython3",
   "version": "3.7.0"
  }
 },
 "nbformat": 4,
 "nbformat_minor": 5
}
