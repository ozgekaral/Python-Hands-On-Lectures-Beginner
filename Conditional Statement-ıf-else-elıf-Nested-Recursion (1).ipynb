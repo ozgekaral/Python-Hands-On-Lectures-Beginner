{
 "cells": [
  {
   "cell_type": "markdown",
   "id": "36ca2fa6",
   "metadata": {},
   "source": [
    "## Conditional Statement ##"
   ]
  },
  {
   "cell_type": "markdown",
   "id": "e23a4b5f",
   "metadata": {},
   "source": [
    "#### The result of the statement is True or False.The conditional statement do check with logical operators.The operators are '==', '!='', '<', '>', '<=','>=' . ####"
   ]
  },
  {
   "cell_type": "code",
   "execution_count": 166,
   "id": "286c1918",
   "metadata": {},
   "outputs": [],
   "source": [
    "a=48218//4\n",
    "b=1255%2                                #Look at the sample and review how to write 'conditional operators'."
   ]
  },
  {
   "cell_type": "code",
   "execution_count": 167,
   "id": "c17835dc",
   "metadata": {},
   "outputs": [
    {
     "name": "stdout",
     "output_type": "stream",
     "text": [
      "False\n",
      "True\n",
      "False\n",
      "True\n",
      "False\n",
      "True\n"
     ]
    }
   ],
   "source": [
    "print(a==b)\n",
    "print(a!=b)\n",
    "print(a<b)\n",
    "print(a>b)\n",
    "print(a<=b)\n",
    "print(a>=b)"
   ]
  },
  {
   "cell_type": "markdown",
   "id": "c44a321d",
   "metadata": {},
   "source": [
    "#### Let's look at the logical operators below and try to understand them. ####"
   ]
  },
  {
   "cell_type": "markdown",
   "id": "04cb16bb",
   "metadata": {},
   "source": [
    "* And : If both values are True,the result is True and one of the values is false as a result the result is false."
   ]
  },
  {
   "cell_type": "markdown",
   "id": "5549674e",
   "metadata": {},
   "source": [
    "* Or : If one of the values is True,the result is True."
   ]
  },
  {
   "cell_type": "code",
   "execution_count": 180,
   "id": "d601b860",
   "metadata": {},
   "outputs": [],
   "source": [
    "x=47==47\n",
    "y=81==45"
   ]
  },
  {
   "cell_type": "code",
   "execution_count": 181,
   "id": "44493d86",
   "metadata": {},
   "outputs": [
    {
     "data": {
      "text/plain": [
       "False"
      ]
     },
     "execution_count": 181,
     "metadata": {},
     "output_type": "execute_result"
    }
   ],
   "source": [
    "x and y"
   ]
  },
  {
   "cell_type": "code",
   "execution_count": 182,
   "id": "d9f19d54",
   "metadata": {},
   "outputs": [
    {
     "data": {
      "text/plain": [
       "True"
      ]
     },
     "execution_count": 182,
     "metadata": {},
     "output_type": "execute_result"
    }
   ],
   "source": [
    "y or x"
   ]
  },
  {
   "cell_type": "code",
   "execution_count": 183,
   "id": "44c7cc08",
   "metadata": {},
   "outputs": [
    {
     "data": {
      "text/plain": [
       "False"
      ]
     },
     "execution_count": 183,
     "metadata": {},
     "output_type": "execute_result"
    }
   ],
   "source": [
    "x and y == 2                          # x=0 TRUE\n",
    "                                       # y=1 False"
   ]
  },
  {
   "cell_type": "markdown",
   "id": "fa5d1668",
   "metadata": {},
   "source": [
    "### IF ,ELSE ,ELIF ###"
   ]
  },
  {
   "cell_type": "markdown",
   "id": "84bb32a7",
   "metadata": {},
   "source": [
    "### If you want to run different code according to certain conditions.Here's you can use the ıf,else and elıf. ###"
   ]
  },
  {
   "cell_type": "markdown",
   "id": "a9e5c727",
   "metadata": {},
   "source": [
    "Ex: If 'a' number is bigger than 85,written it on the screen."
   ]
  },
  {
   "cell_type": "code",
   "execution_count": 184,
   "id": "73d4404a",
   "metadata": {},
   "outputs": [
    {
     "name": "stdout",
     "output_type": "stream",
     "text": [
      "a is smaller than 85.\n"
     ]
    }
   ],
   "source": [
    "if a<85:\n",
    "    print('a is bigger than 85.')\n",
    "else:\n",
    "    print('a is smaller than 85.')"
   ]
  },
  {
   "cell_type": "markdown",
   "id": "11734d0f",
   "metadata": {},
   "source": [
    "Ex:If 'a number is smaller than and is not even '"
   ]
  },
  {
   "cell_type": "code",
   "execution_count": 185,
   "id": "3c5a172e",
   "metadata": {},
   "outputs": [
    {
     "name": "stdout",
     "output_type": "stream",
     "text": [
      "none\n"
     ]
    }
   ],
   "source": [
    "if a<85 and a!=105:\n",
    "    print('a is smaller than 85 and is not even')\n",
    "print('none')"
   ]
  },
  {
   "cell_type": "code",
   "execution_count": 186,
   "id": "ae419dfe",
   "metadata": {},
   "outputs": [
    {
     "name": "stdout",
     "output_type": "stream",
     "text": [
      "a is smaller than 85 and is not even\n",
      "none\n"
     ]
    }
   ],
   "source": [
    "if a<85 or a!=105:\n",
    "    print('a is smaller than 85 and is not even')\n",
    "print('none')"
   ]
  },
  {
   "cell_type": "code",
   "execution_count": 187,
   "id": "f6749748",
   "metadata": {},
   "outputs": [
    {
     "name": "stdout",
     "output_type": "stream",
     "text": [
      "odd\n"
     ]
    }
   ],
   "source": [
    "if a%2==0:\n",
    "    print('odd')\n",
    "else:\n",
    "    print('even')"
   ]
  },
  {
   "cell_type": "markdown",
   "id": "71fda943",
   "metadata": {},
   "source": [
    "### If we do check more than two conditiıns at that time we use the 'elif'. ###"
   ]
  },
  {
   "cell_type": "markdown",
   "id": "edd21cf0",
   "metadata": {},
   "source": [
    "#### Ex :Let's analysis which to any value is 'positive','negative' or 'neutral' ####q"
   ]
  },
  {
   "cell_type": "code",
   "execution_count": 188,
   "id": "d558b45c",
   "metadata": {},
   "outputs": [],
   "source": [
    "x=454"
   ]
  },
  {
   "cell_type": "code",
   "execution_count": 189,
   "id": "dc43ae3e",
   "metadata": {},
   "outputs": [
    {
     "name": "stdout",
     "output_type": "stream",
     "text": [
      "positive\n"
     ]
    }
   ],
   "source": [
    "if x>0:\n",
    "    print('positive')\n",
    "elif x==0:\n",
    "    print('neutral')\n",
    "else:\n",
    "    print('negative')"
   ]
  },
  {
   "cell_type": "code",
   "execution_count": 190,
   "id": "5234d0cb",
   "metadata": {},
   "outputs": [],
   "source": [
    "x=('45')"
   ]
  },
  {
   "cell_type": "markdown",
   "id": "6058fb29",
   "metadata": {},
   "source": [
    "if x>0:\n",
    "    print('positive')                          \n",
    "elif x==0:\n",
    "    print('neutral')                  # We must change the type of the value there,'x=int(x)' as 'x' happen integer.\n",
    "else:\n",
    "    print('negative')"
   ]
  },
  {
   "cell_type": "code",
   "execution_count": 192,
   "id": "d3a6ebfa",
   "metadata": {},
   "outputs": [],
   "source": [
    "x=int(x)"
   ]
  },
  {
   "cell_type": "code",
   "execution_count": 193,
   "id": "1dc7cfb5",
   "metadata": {},
   "outputs": [
    {
     "name": "stdout",
     "output_type": "stream",
     "text": [
      "positive\n"
     ]
    }
   ],
   "source": [
    "if x>0:\n",
    "    print('positive')\n",
    "elif x==0:\n",
    "    print('neutral')\n",
    "else:\n",
    "    print('negative')"
   ]
  },
  {
   "cell_type": "code",
   "execution_count": 194,
   "id": "244a01af",
   "metadata": {},
   "outputs": [],
   "source": [
    "def con():\n",
    "    n=45**2//4\n",
    "    if n>0:\n",
    "        print('positive')\n",
    "    elif n==0:\n",
    "        print('neutral')\n",
    "    else:\n",
    "        print('negative')"
   ]
  },
  {
   "cell_type": "code",
   "execution_count": 195,
   "id": "5f07b0af",
   "metadata": {},
   "outputs": [
    {
     "name": "stdout",
     "output_type": "stream",
     "text": [
      "positive\n"
     ]
    }
   ],
   "source": [
    "con()"
   ]
  },
  {
   "cell_type": "code",
   "execution_count": 196,
   "id": "43b82e2d",
   "metadata": {},
   "outputs": [],
   "source": [
    "def con2():\n",
    "    i=input('enter any number:  ')\n",
    "\n",
    "    if i>0:\n",
    "        print('possitive')     #'İ' is str,look at this sample-it failed- so we must change as int with 'int(anyvalue)'\n",
    "    elif i==0:\n",
    "        print('neutral')\n",
    "    else:\n",
    "        print('negative')"
   ]
  },
  {
   "cell_type": "code",
   "execution_count": null,
   "id": "7238111d",
   "metadata": {},
   "outputs": [],
   "source": [
    "con2()"
   ]
  },
  {
   "cell_type": "code",
   "execution_count": null,
   "id": "afea3b95",
   "metadata": {},
   "outputs": [],
   "source": [
    "def con2():\n",
    "    i=input('enter any number:  ')\n",
    "    i=int(i)\n",
    "    if i>0:\n",
    "        print('possitive')\n",
    "    elif i==0:\n",
    "        print('neutral')\n",
    "    else:\n",
    "        print('negative')"
   ]
  },
  {
   "cell_type": "code",
   "execution_count": null,
   "id": "af286b9e",
   "metadata": {},
   "outputs": [],
   "source": [
    "con2()                                      #Calling the function"
   ]
  },
  {
   "cell_type": "code",
   "execution_count": null,
   "id": "78955e4a",
   "metadata": {},
   "outputs": [],
   "source": [
    "con2()"
   ]
  },
  {
   "cell_type": "markdown",
   "id": "d1c2650a",
   "metadata": {},
   "source": [
    "#### Define the function that find the days of the week according the given numbers. ####"
   ]
  },
  {
   "cell_type": "code",
   "execution_count": null,
   "id": "7d7fe6ca",
   "metadata": {},
   "outputs": [],
   "source": [
    "def daysoftheweek():\n",
    "    d=input('Enter the number day:  ')\n",
    "    d=int(d)\n",
    "    if d<=7:\n",
    "        print(d)\n",
    "    elif d>0:\n",
    "        print('please enter the number then 8')\n",
    "    else:\n",
    "        print('none')\n",
    "    if d==1:\n",
    "        print('monday')\n",
    "    elif d==2:\n",
    "        print('tuesday')\n",
    "    elif d==3:\n",
    "        print('wednesday')\n",
    "    elif d==4:\n",
    "        print('thursday')\n",
    "    elif d==5:\n",
    "        print('friday')\n",
    "    elif d==6:\n",
    "        print('saturday')\n",
    "    else:\n",
    "        d=('sunday')"
   ]
  },
  {
   "cell_type": "code",
   "execution_count": null,
   "id": "4f88c19d",
   "metadata": {},
   "outputs": [],
   "source": [
    "daysoftheweek()"
   ]
  },
  {
   "cell_type": "code",
   "execution_count": null,
   "id": "4975ae2d",
   "metadata": {},
   "outputs": [],
   "source": [
    "daysoftheweek()                           # We enter the number that bigger than 7 that happen case.It give us warning."
   ]
  },
  {
   "cell_type": "markdown",
   "id": "0e652993",
   "metadata": {},
   "source": [
    "### 'not' Operator ###"
   ]
  },
  {
   "cell_type": "markdown",
   "id": "231f00b5",
   "metadata": {},
   "source": [
    "### Nested Condition Statement ####"
   ]
  },
  {
   "cell_type": "code",
   "execution_count": null,
   "id": "f60e2b3e",
   "metadata": {},
   "outputs": [],
   "source": [
    "if not a==5:\n",
    "    print('a is not even.')\n",
    "else:\n",
    "    print('a is even')"
   ]
  },
  {
   "cell_type": "markdown",
   "id": "99c2fd78",
   "metadata": {},
   "source": [
    "#### If the condition is true and there is another contiditon in previous condition, it enter to the inside contidion.This is a nested contidion for us. ####"
   ]
  },
  {
   "cell_type": "code",
   "execution_count": null,
   "id": "116981c7",
   "metadata": {},
   "outputs": [],
   "source": [
    "if x==y:\n",
    "    print('x = Y')                            \n",
    "else:\n",
    "    if x>y:\n",
    "        print('x is bigger than y')\n",
    "    else:\n",
    "        print('x is smaller than y')"
   ]
  },
  {
   "cell_type": "markdown",
   "id": "68d313de",
   "metadata": {},
   "source": [
    "### Recursion ###"
   ]
  },
  {
   "cell_type": "markdown",
   "id": "187ffdeb",
   "metadata": {},
   "source": [
    "#### A function can call another function at same time a function can call itself. ####"
   ]
  },
  {
   "cell_type": "code",
   "execution_count": 16,
   "id": "eb7c4aa4",
   "metadata": {},
   "outputs": [],
   "source": [
    "def back_number(n):\n",
    "    if n<=0:\n",
    "        print('end')\n",
    "    else:\n",
    "        print(n)\n",
    "        back_number(n-1)             #back_number(n) is a function and back_number(n-1) is "
   ]
  },
  {
   "cell_type": "code",
   "execution_count": 17,
   "id": "dca0f4f1",
   "metadata": {},
   "outputs": [
    {
     "name": "stdout",
     "output_type": "stream",
     "text": [
      "4\n",
      "3\n",
      "2\n",
      "1\n",
      "end\n"
     ]
    }
   ],
   "source": [
    "back_number(4)"
   ]
  },
  {
   "cell_type": "markdown",
   "id": "e34e0cb1",
   "metadata": {},
   "source": [
    "#### If we do not define a stop condition ,what happen,please look at below ####"
   ]
  },
  {
   "cell_type": "markdown",
   "id": "c2529d33",
   "metadata": {},
   "source": [
    "def back_numbers(n):                     #It is not true\n",
    "    print(n)\n",
    "    back_numbers(n-1)"
   ]
  },
  {
   "cell_type": "markdown",
   "id": "6bc83cf7",
   "metadata": {},
   "source": [
    "back_numbers(10)"
   ]
  },
  {
   "cell_type": "code",
   "execution_count": 20,
   "id": "add55e50",
   "metadata": {},
   "outputs": [],
   "source": [
    "def write_text(metin, n):\n",
    "    if n<=0:\n",
    "        return\n",
    "    else:\n",
    "        print(metin)\n",
    "        write_text(metin, n-1)"
   ]
  },
  {
   "cell_type": "code",
   "execution_count": 21,
   "id": "289ca8be",
   "metadata": {},
   "outputs": [
    {
     "name": "stdout",
     "output_type": "stream",
     "text": [
      "python\n",
      "python\n",
      "python\n",
      "python\n",
      "python\n",
      "python\n",
      "python\n",
      "python\n",
      "python\n"
     ]
    }
   ],
   "source": [
    "write_text('python', 9)"
   ]
  }
 ],
 "metadata": {
  "kernelspec": {
   "display_name": "Python 3",
   "language": "python",
   "name": "python3"
  },
  "language_info": {
   "codemirror_mode": {
    "name": "ipython",
    "version": 3
   },
   "file_extension": ".py",
   "mimetype": "text/x-python",
   "name": "python",
   "nbconvert_exporter": "python",
   "pygments_lexer": "ipython3",
   "version": "3.7.0"
  }
 },
 "nbformat": 4,
 "nbformat_minor": 5
}
