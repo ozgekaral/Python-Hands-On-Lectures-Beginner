{
 "cells": [
  {
   "cell_type": "markdown",
   "id": "c85e5a56",
   "metadata": {},
   "source": [
    "## LOOPS ##"
   ]
  },
  {
   "cell_type": "markdown",
   "id": "73674bbb",
   "metadata": {},
   "source": [
    "#### Loops are structures again and again according to certain operation,rule and range. ####"
   ]
  },
  {
   "cell_type": "markdown",
   "id": "4dd93368",
   "metadata": {},
   "source": [
    "#### Loops are created with 'for and while' keywords. ####"
   ]
  },
  {
   "cell_type": "code",
   "execution_count": 4,
   "id": "d1009f90",
   "metadata": {},
   "outputs": [
    {
     "name": "stdout",
     "output_type": "stream",
     "text": [
      "10\n",
      "9\n",
      "8\n",
      "7\n",
      "6\n",
      "5\n",
      "4\n",
      "3\n",
      "2\n",
      "1\n"
     ]
    }
   ],
   "source": [
    "n=10\n",
    "while n>0:\n",
    "    print(n)\n",
    "    n=n-1"
   ]
  },
  {
   "cell_type": "code",
   "execution_count": 5,
   "id": "398a8db9",
   "metadata": {},
   "outputs": [
    {
     "name": "stdout",
     "output_type": "stream",
     "text": [
      "15\n",
      "14\n",
      "13\n",
      "12\n",
      "11\n",
      "10\n",
      "9\n",
      "8\n",
      "7\n",
      "6\n",
      "5\n",
      "4\n",
      "3\n",
      "2\n",
      "1\n",
      "0\n"
     ]
    }
   ],
   "source": [
    "n=15\n",
    "while n>0:\n",
    "    print(n)                     #You pay attention that ıt contain '0'.\n",
    "    n=n-1                        #There is '0' due to writing 'print(n)' after 'n=n-1.\n",
    "print(n)                         #'n=n-1'is a stop condition."
   ]
  },
  {
   "cell_type": "code",
   "execution_count": 1,
   "id": "54dc8a68",
   "metadata": {},
   "outputs": [],
   "source": [
    "# a=15\n",
    "# while a>0:\n",
    "  #print(a)                  #We change 'a>0' or 'a=a+1 because this definatıons do not stop the loop.\n",
    "    #a=a+1"
   ]
  },
  {
   "cell_type": "markdown",
   "id": "1b99acda",
   "metadata": {},
   "source": [
    "#### What are the squares of numbers from 5 to 125. ####"
   ]
  },
  {
   "cell_type": "code",
   "execution_count": 2,
   "id": "89a83102",
   "metadata": {},
   "outputs": [
    {
     "name": "stdout",
     "output_type": "stream",
     "text": [
      "4\n",
      "16\n",
      "36\n",
      "64\n",
      "100\n"
     ]
    }
   ],
   "source": [
    "k=1\n",
    "while k<=10:\n",
    "    if k % 2 == 0:\n",
    "        print(k**2)\n",
    "    k=k+1"
   ]
  },
  {
   "cell_type": "markdown",
   "id": "2098f9e8",
   "metadata": {},
   "source": [
    "#### What are odd numbers smaller than 10. ####"
   ]
  },
  {
   "cell_type": "code",
   "execution_count": 3,
   "id": "3ec1eaa3",
   "metadata": {},
   "outputs": [
    {
     "name": "stdout",
     "output_type": "stream",
     "text": [
      "1\n",
      "9\n",
      "25\n",
      "49\n",
      "81\n"
     ]
    }
   ],
   "source": [
    "k=1\n",
    "while k<=10:\n",
    "    if k%2==1:\n",
    "        print(k**2)\n",
    "    k=k+1"
   ]
  },
  {
   "cell_type": "markdown",
   "id": "75d74eaa",
   "metadata": {},
   "source": [
    "#### What are numbers divisible 2 by 5 and then what are the square of them. ####"
   ]
  },
  {
   "cell_type": "code",
   "execution_count": 4,
   "id": "920d68ec",
   "metadata": {},
   "outputs": [
    {
     "name": "stdout",
     "output_type": "stream",
     "text": [
      "100\n",
      "400\n"
     ]
    }
   ],
   "source": [
    "k=1\n",
    "while k<=20:\n",
    "    if k%2==0 and k%5==0:\n",
    "        print(k**2)\n",
    "    k+=1"
   ]
  },
  {
   "cell_type": "markdown",
   "id": "8853ec88",
   "metadata": {},
   "source": [
    "### FOR LOOP ###"
   ]
  },
  {
   "cell_type": "code",
   "execution_count": 5,
   "id": "50f4733f",
   "metadata": {},
   "outputs": [
    {
     "name": "stdout",
     "output_type": "stream",
     "text": [
      "0\n",
      "1\n",
      "2\n",
      "3\n",
      "4\n",
      "5\n",
      "6\n",
      "7\n",
      "8\n",
      "9\n"
     ]
    }
   ],
   "source": [
    "for i in range(10):\n",
    "    print(i)"
   ]
  },
  {
   "cell_type": "markdown",
   "id": "4ca34e76",
   "metadata": {},
   "source": [
    "#### You write the number in twos from 2 to 10. ####"
   ]
  },
  {
   "cell_type": "code",
   "execution_count": 6,
   "id": "c381a543",
   "metadata": {},
   "outputs": [
    {
     "name": "stdout",
     "output_type": "stream",
     "text": [
      "2\n",
      "4\n",
      "6\n",
      "8\n"
     ]
    }
   ],
   "source": [
    "for a in range(2, 10, 2):\n",
    "    print(a)"
   ]
  },
  {
   "cell_type": "markdown",
   "id": "3fb2936a",
   "metadata": {},
   "source": [
    "#### You ask anyone and then factorize that number. ####"
   ]
  },
  {
   "cell_type": "code",
   "execution_count": 8,
   "id": "ec4252c2",
   "metadata": {},
   "outputs": [
    {
     "name": "stdout",
     "output_type": "stream",
     "text": [
      "enter a number5\n"
     ]
    }
   ],
   "source": [
    "number=int(input('enter a number'))\n",
    "for i in range(2, number):\n",
    "    if number%i==0:\n",
    "        print(i)"
   ]
  },
  {
   "cell_type": "markdown",
   "id": "5884a868",
   "metadata": {},
   "source": [
    "#### Let's we write the number back in twos from 20 to 1. ####"
   ]
  },
  {
   "cell_type": "code",
   "execution_count": 9,
   "id": "18e301c0",
   "metadata": {},
   "outputs": [
    {
     "name": "stdout",
     "output_type": "stream",
     "text": [
      "20\n",
      "18\n",
      "16\n",
      "14\n",
      "12\n",
      "10\n",
      "8\n",
      "6\n",
      "4\n",
      "2\n"
     ]
    }
   ],
   "source": [
    "for i in range(20, 1, -2):\n",
    "    print(i)"
   ]
  },
  {
   "cell_type": "code",
   "execution_count": 10,
   "id": "ea5d008c",
   "metadata": {},
   "outputs": [
    {
     "name": "stdout",
     "output_type": "stream",
     "text": [
      "19\n",
      "17\n",
      "15\n",
      "13\n",
      "11\n",
      "9\n",
      "7\n",
      "5\n",
      "3\n"
     ]
    }
   ],
   "source": [
    "for i in range(20, 1, -1):\n",
    "    if  i%2==1:\n",
    "        print(i)"
   ]
  },
  {
   "cell_type": "markdown",
   "id": "861ff294",
   "metadata": {},
   "source": [
    "#### What are numbers divisible 2 by 5. ####"
   ]
  },
  {
   "cell_type": "code",
   "execution_count": 11,
   "id": "d188d706",
   "metadata": {},
   "outputs": [
    {
     "name": "stdout",
     "output_type": "stream",
     "text": [
      "20\n",
      "10\n"
     ]
    }
   ],
   "source": [
    "for i in range(20, 1, -1):\n",
    "    if i%2==0 and i%5==0:\n",
    "        print(i)"
   ]
  },
  {
   "cell_type": "markdown",
   "id": "360e368c",
   "metadata": {},
   "source": [
    "#### May run on the text with 'for loop' ####"
   ]
  },
  {
   "cell_type": "code",
   "execution_count": 12,
   "id": "5535fb3f",
   "metadata": {},
   "outputs": [
    {
     "name": "stdout",
     "output_type": "stream",
     "text": [
      "m\n",
      "a\n",
      "c\n",
      "h\n",
      "i\n",
      "n\n",
      "e\n"
     ]
    }
   ],
   "source": [
    "text='machine'\n",
    "for t in text:\n",
    "    print(t) "
   ]
  },
  {
   "cell_type": "markdown",
   "id": "193fcf45",
   "metadata": {},
   "source": [
    "#### We ask someone to write a text and add it '-'symbol. ####"
   ]
  },
  {
   "cell_type": "code",
   "execution_count": 14,
   "id": "0881d189",
   "metadata": {},
   "outputs": [
    {
     "name": "stdout",
     "output_type": "stream",
     "text": [
      "wirte a new text12\n",
      "1-2-\n"
     ]
    }
   ],
   "source": [
    "text=input('wirte a new text')\n",
    "new_text=''\n",
    "for t in text:\n",
    "    new_text+=t+'-'\n",
    "print(new_text)"
   ]
  },
  {
   "cell_type": "code",
   "execution_count": 15,
   "id": "4f4f2395",
   "metadata": {},
   "outputs": [
    {
     "name": "stdout",
     "output_type": "stream",
     "text": [
      "m/a/c/h/i/n/e/ /l/e/a/r/n/i/n/g/\n"
     ]
    }
   ],
   "source": [
    "text='machine learning'\n",
    "new_text=''\n",
    "for t in text:\n",
    "    new_text+=t+'/'\n",
    "print(new_text)"
   ]
  },
  {
   "cell_type": "markdown",
   "id": "a7d82706",
   "metadata": {},
   "source": [
    "### Len Function ###"
   ]
  },
  {
   "cell_type": "markdown",
   "id": "6af96114",
   "metadata": {},
   "source": [
    "#### In some data structures,to calculate for length we use the 'len' function. ####"
   ]
  },
  {
   "cell_type": "code",
   "execution_count": 16,
   "id": "1a507fd5",
   "metadata": {},
   "outputs": [
    {
     "data": {
      "text/plain": [
       "16"
      ]
     },
     "execution_count": 16,
     "metadata": {},
     "output_type": "execute_result"
    }
   ],
   "source": [
    "len('machine learning')               #string"
   ]
  },
  {
   "cell_type": "code",
   "execution_count": 17,
   "id": "4ebf4645",
   "metadata": {},
   "outputs": [
    {
     "data": {
      "text/plain": [
       "4"
      ]
     },
     "execution_count": 17,
     "metadata": {},
     "output_type": "execute_result"
    }
   ],
   "source": [
    "len({1, 5, 15, 4})   "
   ]
  },
  {
   "cell_type": "code",
   "execution_count": 19,
   "id": "7e9d790a",
   "metadata": {},
   "outputs": [
    {
     "name": "stdout",
     "output_type": "stream",
     "text": [
      "please write a textHELLO AI\n",
      "8\n"
     ]
    }
   ],
   "source": [
    "text=input('please write a text')\n",
    "lenght=len(text)\n",
    "print(lenght)"
   ]
  },
  {
   "cell_type": "markdown",
   "id": "53a8139a",
   "metadata": {},
   "source": [
    "### Enumerate Function ###"
   ]
  },
  {
   "cell_type": "markdown",
   "id": "b951422f",
   "metadata": {},
   "source": [
    "#### While we are in 'for',we sometimes need current intex. ####"
   ]
  },
  {
   "cell_type": "code",
   "execution_count": 20,
   "id": "5a8ec33d",
   "metadata": {},
   "outputs": [
    {
     "name": "stdout",
     "output_type": "stream",
     "text": [
      "0\n",
      "1\n",
      "2\n",
      "3\n",
      "4\n",
      "5\n",
      "6\n"
     ]
    }
   ],
   "source": [
    "for intex, t in enumerate('machine'):\n",
    "    print(intex)        #Our text consist sixteen character.The latest character is named as one missing number of total number."
   ]
  },
  {
   "cell_type": "markdown",
   "id": "64e9e029",
   "metadata": {},
   "source": [
    "#### We delete that we think unnecessary character. ####"
   ]
  },
  {
   "cell_type": "code",
   "execution_count": 22,
   "id": "3bf785d6",
   "metadata": {},
   "outputs": [
    {
     "name": "stdout",
     "output_type": "stream",
     "text": [
      "write a textHELLO-AI\n",
      "H-E-L-L-O---A-I\n"
     ]
    }
   ],
   "source": [
    "text=input('write a text')\n",
    "new_text=''\n",
    "for intex, t in enumerate(text):\n",
    "    new_text +=t\n",
    "    if intex<len(text)-1:\n",
    "        new_text+='-'\n",
    "print(new_text)"
   ]
  },
  {
   "cell_type": "markdown",
   "id": "2dee197b",
   "metadata": {},
   "source": [
    "#### You write the number in fives from 2 to 10 and what is the sixth number. ####"
   ]
  },
  {
   "cell_type": "code",
   "execution_count": 23,
   "id": "3b087623",
   "metadata": {},
   "outputs": [
    {
     "name": "stdout",
     "output_type": "stream",
     "text": [
      "10\n",
      "15\n",
      "20\n",
      "25\n",
      "30\n",
      "35\n",
      "40\n",
      "45\n",
      "50\n",
      "55\n",
      "60\n",
      "65\n",
      "70\n",
      "75\n",
      "80\n",
      "85\n",
      "90\n",
      "95\n"
     ]
    }
   ],
   "source": [
    "for s in range(10, 100, 5):\n",
    "    print(s)"
   ]
  },
  {
   "cell_type": "code",
   "execution_count": 24,
   "id": "92a02ffc",
   "metadata": {},
   "outputs": [
    {
     "name": "stdout",
     "output_type": "stream",
     "text": [
      "35\n"
     ]
    }
   ],
   "source": [
    "for index, t, in enumerate(range(10, 100, 5)):      \n",
    "    if index==5:\n",
    "        print(t)"
   ]
  },
  {
   "cell_type": "markdown",
   "id": "bf01851c",
   "metadata": {},
   "source": [
    "### Nested Loops ###"
   ]
  },
  {
   "cell_type": "code",
   "execution_count": 27,
   "id": "0c2800b8",
   "metadata": {},
   "outputs": [
    {
     "name": "stdout",
     "output_type": "stream",
     "text": [
      "**********\n",
      "**********\n",
      "**********\n",
      "**********\n",
      "**********\n",
      "**********\n",
      "**********\n",
      "**********\n",
      "**********\n",
      "**********\n"
     ]
    }
   ],
   "source": [
    "for row in range(10):\n",
    "    star=''\n",
    "    for column in range(10):\n",
    "        star +='*'\n",
    "    print(star)"
   ]
  },
  {
   "cell_type": "markdown",
   "id": "ce0394f7",
   "metadata": {},
   "source": [
    "### Break Keyword ###"
   ]
  },
  {
   "cell_type": "markdown",
   "id": "98533fa8",
   "metadata": {},
   "source": [
    "#### Sometimes we need to exit the loop incompletely,in that time may use 'break' keyword. ####"
   ]
  },
  {
   "cell_type": "markdown",
   "id": "e7227859",
   "metadata": {},
   "source": [
    "#### We ask someone to write a text and then write the alphabet of the text ıf there is ' ', it break into the loop. ####"
   ]
  },
  {
   "cell_type": "code",
   "execution_count": null,
   "id": "44716c2b",
   "metadata": {},
   "outputs": [],
   "source": [
    "text=input('write a text:  ')\n",
    "for t in text:\n",
    "    if t==' ':\n",
    "        break\n",
    "    print(t)"
   ]
  },
  {
   "cell_type": "markdown",
   "id": "97315faa",
   "metadata": {},
   "source": [
    "#### We write the number from 10 to 30 that be multiple 7.If there is any number,at that time it exit this loop. ####"
   ]
  },
  {
   "cell_type": "code",
   "execution_count": null,
   "id": "96bf48f2",
   "metadata": {},
   "outputs": [],
   "source": [
    "for x in range(10, 30):\n",
    "    if x%11==0:\n",
    "        print(x)\n",
    "        break"
   ]
  },
  {
   "cell_type": "markdown",
   "id": "103bf0e5",
   "metadata": {},
   "source": [
    "### Continue Keyword ###"
   ]
  },
  {
   "cell_type": "markdown",
   "id": "7b61e55d",
   "metadata": {},
   "source": [
    "#### Sometimes ın any loop,if the condition is true,with 'continue' keyword pass the this iteration and need to run next iteration. ####"
   ]
  },
  {
   "cell_type": "markdown",
   "id": "40b78095",
   "metadata": {},
   "source": [
    "#### You write to be even numbers from 1 to 10 with 'continue'. ####"
   ]
  },
  {
   "cell_type": "code",
   "execution_count": null,
   "id": "33abba0f",
   "metadata": {},
   "outputs": [],
   "source": [
    "for z in range(1, 11):\n",
    "    if z%2==1:\n",
    "        continue\n",
    "    print(z)"
   ]
  },
  {
   "cell_type": "markdown",
   "id": "0ddebd6c",
   "metadata": {},
   "source": [
    "#### We ask someone to write a text and then write the alphabet of the text ıf there is ' ', pass it and continue. ####"
   ]
  },
  {
   "cell_type": "code",
   "execution_count": null,
   "id": "64c1e5c2",
   "metadata": {},
   "outputs": [],
   "source": [
    "text=input('write a text')\n",
    "for m in text:\n",
    "    if m==' ':\n",
    "        continue\n",
    "    print(m)"
   ]
  },
  {
   "cell_type": "markdown",
   "id": "40a6f814",
   "metadata": {},
   "source": [
    "### For-Else Loop ###"
   ]
  },
  {
   "cell_type": "markdown",
   "id": "6bb975aa",
   "metadata": {},
   "source": [
    "#### Sometimes we have to do check any 'for'loop correctly,in that time we use 'for-else' ####"
   ]
  },
  {
   "cell_type": "markdown",
   "id": "9d2a0ab3",
   "metadata": {},
   "source": [
    "#### We write the number from 10 to 30 that be multiple 7.If the loop runs correctly, you wirte it on screen.  ####"
   ]
  },
  {
   "cell_type": "code",
   "execution_count": null,
   "id": "67d97b21",
   "metadata": {},
   "outputs": [],
   "source": [
    "for s in range(2, 101):\n",
    "    if s%7==0:\n",
    "        break\n",
    "        print(s)\n",
    "else:\n",
    "    print('correctly')\n",
    "print(s)"
   ]
  },
  {
   "cell_type": "code",
   "execution_count": null,
   "id": "e30efe54",
   "metadata": {},
   "outputs": [],
   "source": []
  }
 ],
 "metadata": {
  "kernelspec": {
   "display_name": "Python 3",
   "language": "python",
   "name": "python3"
  },
  "language_info": {
   "codemirror_mode": {
    "name": "ipython",
    "version": 3
   },
   "file_extension": ".py",
   "mimetype": "text/x-python",
   "name": "python",
   "nbconvert_exporter": "python",
   "pygments_lexer": "ipython3",
   "version": "3.7.0"
  }
 },
 "nbformat": 4,
 "nbformat_minor": 5
}
