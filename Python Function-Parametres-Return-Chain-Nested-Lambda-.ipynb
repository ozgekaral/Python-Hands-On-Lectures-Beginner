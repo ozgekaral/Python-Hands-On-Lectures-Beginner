{
 "cells": [
  {
   "cell_type": "markdown",
   "id": "47583362",
   "metadata": {},
   "source": [
    "## FUNCTIONS ##"
   ]
  },
  {
   "cell_type": "markdown",
   "id": "2980d01b",
   "metadata": {},
   "source": [
    "#### A specail piece of code was written to perform a certain functıon.Functions are able to run when you calling.Functions prevent to write code again.  ####"
   ]
  },
  {
   "cell_type": "code",
   "execution_count": 266,
   "id": "112a195f",
   "metadata": {},
   "outputs": [],
   "source": [
    "number='32,80'       # We define a function 'number'"
   ]
  },
  {
   "cell_type": "code",
   "execution_count": 195,
   "id": "a4815d35",
   "metadata": {},
   "outputs": [
    {
     "data": {
      "text/plain": [
       "str"
      ]
     },
     "execution_count": 195,
     "metadata": {},
     "output_type": "execute_result"
    }
   ],
   "source": [
    "type(number)        #Type is defined funtion on Python"
   ]
  },
  {
   "cell_type": "code",
   "execution_count": 196,
   "id": "2566886f",
   "metadata": {},
   "outputs": [
    {
     "data": {
      "text/plain": [
       "'32,80'"
      ]
     },
     "execution_count": 196,
     "metadata": {},
     "output_type": "execute_result"
    }
   ],
   "source": [
    "str(number)         #str is defined funtion on Python"
   ]
  },
  {
   "cell_type": "markdown",
   "id": "f0e35215",
   "metadata": {},
   "source": [
    "### Math Function ###"
   ]
  },
  {
   "cell_type": "markdown",
   "id": "cba4e51a",
   "metadata": {},
   "source": [
    "#### We use to math the module, We write'import' to active on the Python. ####"
   ]
  },
  {
   "cell_type": "code",
   "execution_count": 197,
   "id": "c71b465e",
   "metadata": {},
   "outputs": [],
   "source": [
    "import math"
   ]
  },
  {
   "cell_type": "markdown",
   "id": "1c9a35af",
   "metadata": {},
   "source": [
    "#### There is 'help' feature to inform us about defined the modules. ####"
   ]
  },
  {
   "cell_type": "code",
   "execution_count": 198,
   "id": "0343c8cf",
   "metadata": {},
   "outputs": [
    {
     "name": "stdout",
     "output_type": "stream",
     "text": [
      "Help on built-in module math:\n",
      "\n",
      "NAME\n",
      "    math\n",
      "\n",
      "DESCRIPTION\n",
      "    This module is always available.  It provides access to the\n",
      "    mathematical functions defined by the C standard.\n",
      "\n",
      "FUNCTIONS\n",
      "    acos(x, /)\n",
      "        Return the arc cosine (measured in radians) of x.\n",
      "    \n",
      "    acosh(x, /)\n",
      "        Return the inverse hyperbolic cosine of x.\n",
      "    \n",
      "    asin(x, /)\n",
      "        Return the arc sine (measured in radians) of x.\n",
      "    \n",
      "    asinh(x, /)\n",
      "        Return the inverse hyperbolic sine of x.\n",
      "    \n",
      "    atan(x, /)\n",
      "        Return the arc tangent (measured in radians) of x.\n",
      "    \n",
      "    atan2(y, x, /)\n",
      "        Return the arc tangent (measured in radians) of y/x.\n",
      "        \n",
      "        Unlike atan(y/x), the signs of both x and y are considered.\n",
      "    \n",
      "    atanh(x, /)\n",
      "        Return the inverse hyperbolic tangent of x.\n",
      "    \n",
      "    ceil(x, /)\n",
      "        Return the ceiling of x as an Integral.\n",
      "        \n",
      "        This is the smallest integer >= x.\n",
      "    \n",
      "    copysign(x, y, /)\n",
      "        Return a float with the magnitude (absolute value) of x but the sign of y.\n",
      "        \n",
      "        On platforms that support signed zeros, copysign(1.0, -0.0)\n",
      "        returns -1.0.\n",
      "    \n",
      "    cos(x, /)\n",
      "        Return the cosine of x (measured in radians).\n",
      "    \n",
      "    cosh(x, /)\n",
      "        Return the hyperbolic cosine of x.\n",
      "    \n",
      "    degrees(x, /)\n",
      "        Convert angle x from radians to degrees.\n",
      "    \n",
      "    erf(x, /)\n",
      "        Error function at x.\n",
      "    \n",
      "    erfc(x, /)\n",
      "        Complementary error function at x.\n",
      "    \n",
      "    exp(x, /)\n",
      "        Return e raised to the power of x.\n",
      "    \n",
      "    expm1(x, /)\n",
      "        Return exp(x)-1.\n",
      "        \n",
      "        This function avoids the loss of precision involved in the direct evaluation of exp(x)-1 for small x.\n",
      "    \n",
      "    fabs(x, /)\n",
      "        Return the absolute value of the float x.\n",
      "    \n",
      "    factorial(x, /)\n",
      "        Find x!.\n",
      "        \n",
      "        Raise a ValueError if x is negative or non-integral.\n",
      "    \n",
      "    floor(x, /)\n",
      "        Return the floor of x as an Integral.\n",
      "        \n",
      "        This is the largest integer <= x.\n",
      "    \n",
      "    fmod(x, y, /)\n",
      "        Return fmod(x, y), according to platform C.\n",
      "        \n",
      "        x % y may differ.\n",
      "    \n",
      "    frexp(x, /)\n",
      "        Return the mantissa and exponent of x, as pair (m, e).\n",
      "        \n",
      "        m is a float and e is an int, such that x = m * 2.**e.\n",
      "        If x is 0, m and e are both 0.  Else 0.5 <= abs(m) < 1.0.\n",
      "    \n",
      "    fsum(seq, /)\n",
      "        Return an accurate floating point sum of values in the iterable seq.\n",
      "        \n",
      "        Assumes IEEE-754 floating point arithmetic.\n",
      "    \n",
      "    gamma(x, /)\n",
      "        Gamma function at x.\n",
      "    \n",
      "    gcd(x, y, /)\n",
      "        greatest common divisor of x and y\n",
      "    \n",
      "    hypot(x, y, /)\n",
      "        Return the Euclidean distance, sqrt(x*x + y*y).\n",
      "    \n",
      "    isclose(a, b, *, rel_tol=1e-09, abs_tol=0.0)\n",
      "        Determine whether two floating point numbers are close in value.\n",
      "        \n",
      "          rel_tol\n",
      "            maximum difference for being considered \"close\", relative to the\n",
      "            magnitude of the input values\n",
      "          abs_tol\n",
      "            maximum difference for being considered \"close\", regardless of the\n",
      "            magnitude of the input values\n",
      "        \n",
      "        Return True if a is close in value to b, and False otherwise.\n",
      "        \n",
      "        For the values to be considered close, the difference between them\n",
      "        must be smaller than at least one of the tolerances.\n",
      "        \n",
      "        -inf, inf and NaN behave similarly to the IEEE 754 Standard.  That\n",
      "        is, NaN is not close to anything, even itself.  inf and -inf are\n",
      "        only close to themselves.\n",
      "    \n",
      "    isfinite(x, /)\n",
      "        Return True if x is neither an infinity nor a NaN, and False otherwise.\n",
      "    \n",
      "    isinf(x, /)\n",
      "        Return True if x is a positive or negative infinity, and False otherwise.\n",
      "    \n",
      "    isnan(x, /)\n",
      "        Return True if x is a NaN (not a number), and False otherwise.\n",
      "    \n",
      "    ldexp(x, i, /)\n",
      "        Return x * (2**i).\n",
      "        \n",
      "        This is essentially the inverse of frexp().\n",
      "    \n",
      "    lgamma(x, /)\n",
      "        Natural logarithm of absolute value of Gamma function at x.\n",
      "    \n",
      "    log(...)\n",
      "        log(x, [base=math.e])\n",
      "        Return the logarithm of x to the given base.\n",
      "        \n",
      "        If the base not specified, returns the natural logarithm (base e) of x.\n",
      "    \n",
      "    log10(x, /)\n",
      "        Return the base 10 logarithm of x.\n",
      "    \n",
      "    log1p(x, /)\n",
      "        Return the natural logarithm of 1+x (base e).\n",
      "        \n",
      "        The result is computed in a way which is accurate for x near zero.\n",
      "    \n",
      "    log2(x, /)\n",
      "        Return the base 2 logarithm of x.\n",
      "    \n",
      "    modf(x, /)\n",
      "        Return the fractional and integer parts of x.\n",
      "        \n",
      "        Both results carry the sign of x and are floats.\n",
      "    \n",
      "    pow(x, y, /)\n",
      "        Return x**y (x to the power of y).\n",
      "    \n",
      "    radians(x, /)\n",
      "        Convert angle x from degrees to radians.\n",
      "    \n",
      "    remainder(x, y, /)\n",
      "        Difference between x and the closest integer multiple of y.\n",
      "        \n",
      "        Return x - n*y where n*y is the closest integer multiple of y.\n",
      "        In the case where x is exactly halfway between two multiples of\n",
      "        y, the nearest even value of n is used. The result is always exact.\n",
      "    \n",
      "    sin(x, /)\n",
      "        Return the sine of x (measured in radians).\n",
      "    \n",
      "    sinh(x, /)\n",
      "        Return the hyperbolic sine of x.\n",
      "    \n",
      "    sqrt(x, /)\n",
      "        Return the square root of x.\n",
      "    \n",
      "    tan(x, /)\n",
      "        Return the tangent of x (measured in radians).\n",
      "    \n",
      "    tanh(x, /)\n",
      "        Return the hyperbolic tangent of x.\n",
      "    \n",
      "    trunc(x, /)\n",
      "        Truncates the Real x to the nearest Integral toward 0.\n",
      "        \n",
      "        Uses the __trunc__ magic method.\n",
      "\n",
      "DATA\n",
      "    e = 2.718281828459045\n",
      "    inf = inf\n",
      "    nan = nan\n",
      "    pi = 3.141592653589793\n",
      "    tau = 6.283185307179586\n",
      "\n",
      "FILE\n",
      "    (built-in)\n",
      "\n",
      "\n"
     ]
    }
   ],
   "source": [
    "help(math)"
   ]
  },
  {
   "cell_type": "markdown",
   "id": "b4b7283e",
   "metadata": {},
   "source": [
    "#### We import any function in the module with '.' .####"
   ]
  },
  {
   "cell_type": "code",
   "execution_count": 199,
   "id": "b253a334",
   "metadata": {},
   "outputs": [
    {
     "data": {
      "text/plain": [
       "<function math.sin(x, /)>"
      ]
     },
     "execution_count": 199,
     "metadata": {},
     "output_type": "execute_result"
    }
   ],
   "source": [
    "math.sin"
   ]
  },
  {
   "cell_type": "code",
   "execution_count": 200,
   "id": "9abc8bf6",
   "metadata": {},
   "outputs": [
    {
     "data": {
      "text/plain": [
       "3.141592653589793"
      ]
     },
     "execution_count": 200,
     "metadata": {},
     "output_type": "execute_result"
    }
   ],
   "source": [
    "math.pi"
   ]
  },
  {
   "cell_type": "markdown",
   "id": "6f3b7304",
   "metadata": {},
   "source": [
    "#### What meter is perimeter of the circle that is the radian 10. ####"
   ]
  },
  {
   "cell_type": "code",
   "execution_count": 201,
   "id": "27f8e461",
   "metadata": {},
   "outputs": [],
   "source": [
    "r=10\n",
    "perimeter=2*math.pi*r"
   ]
  },
  {
   "cell_type": "code",
   "execution_count": 202,
   "id": "c799f748",
   "metadata": {},
   "outputs": [
    {
     "name": "stdout",
     "output_type": "stream",
     "text": [
      "62.83185307179586\n"
     ]
    }
   ],
   "source": [
    "print(perimeter)"
   ]
  },
  {
   "cell_type": "markdown",
   "id": "ad80354b",
   "metadata": {},
   "source": [
    "#### Let's calculate the sınux of 30 degree. ####"
   ]
  },
  {
   "cell_type": "code",
   "execution_count": 203,
   "id": "df787f42",
   "metadata": {},
   "outputs": [],
   "source": [
    "degree=30\n",
    "radians=math.radians(degree)"
   ]
  },
  {
   "cell_type": "code",
   "execution_count": 204,
   "id": "9872f870",
   "metadata": {},
   "outputs": [
    {
     "name": "stdout",
     "output_type": "stream",
     "text": [
      "0.5235987755982988\n"
     ]
    }
   ],
   "source": [
    "print(radians)"
   ]
  },
  {
   "cell_type": "code",
   "execution_count": 205,
   "id": "6a5c57d2",
   "metadata": {},
   "outputs": [
    {
     "name": "stdout",
     "output_type": "stream",
     "text": [
      "0.49999999999999994\n"
     ]
    }
   ],
   "source": [
    "sin=math.sin(radians)\n",
    "print(sin)"
   ]
  },
  {
   "cell_type": "code",
   "execution_count": 206,
   "id": "b4d64784",
   "metadata": {},
   "outputs": [
    {
     "name": "stdout",
     "output_type": "stream",
     "text": [
      "0.8660254037844387\n"
     ]
    }
   ],
   "source": [
    "cos=math.cos(radians)\n",
    "print(cos)"
   ]
  },
  {
   "cell_type": "markdown",
   "id": "29690220",
   "metadata": {},
   "source": [
    "#### Let's calculate the area of the cycle ####"
   ]
  },
  {
   "cell_type": "code",
   "execution_count": 207,
   "id": "9e4f00f8",
   "metadata": {},
   "outputs": [],
   "source": [
    "area=2*math.pi*r**2"
   ]
  },
  {
   "cell_type": "code",
   "execution_count": 208,
   "id": "a72b0a6c",
   "metadata": {},
   "outputs": [
    {
     "name": "stdout",
     "output_type": "stream",
     "text": [
      "628.3185307179587\n"
     ]
    }
   ],
   "source": [
    "print(area)"
   ]
  },
  {
   "cell_type": "markdown",
   "id": "8d53ea7e",
   "metadata": {},
   "source": [
    "### Function Chain ###"
   ]
  },
  {
   "cell_type": "markdown",
   "id": "66ed7ecd",
   "metadata": {},
   "source": [
    "#### If we want to calculate in one step,must be chain these functions. ####"
   ]
  },
  {
   "cell_type": "markdown",
   "id": "99b621db",
   "metadata": {},
   "source": [
    "#### Step 1 :Defining functions ####"
   ]
  },
  {
   "cell_type": "code",
   "execution_count": 209,
   "id": "220d1e3c",
   "metadata": {},
   "outputs": [],
   "source": [
    "def function_names():\n",
    "    print('first function')"
   ]
  },
  {
   "cell_type": "markdown",
   "id": "0a823760",
   "metadata": {},
   "source": [
    "#### Step 2:Calling functions ####"
   ]
  },
  {
   "cell_type": "code",
   "execution_count": 210,
   "id": "fc5e4eb0",
   "metadata": {},
   "outputs": [
    {
     "name": "stdout",
     "output_type": "stream",
     "text": [
      "first function\n"
     ]
    }
   ],
   "source": [
    "function_names()"
   ]
  },
  {
   "cell_type": "markdown",
   "id": "07d024b6",
   "metadata": {},
   "source": [
    "#### The knowledge of the students ####"
   ]
  },
  {
   "cell_type": "code",
   "execution_count": 211,
   "id": "1ec9d0b5",
   "metadata": {},
   "outputs": [
    {
     "name": "stdout",
     "output_type": "stream",
     "text": [
      "name:john Kernel\n",
      "age:15\n",
      "school:Newyork Univercity\n"
     ]
    }
   ],
   "source": [
    "print('name:john Kernel')\n",
    "print('age:15')\n",
    "print('school:Newyork Univercity')"
   ]
  },
  {
   "cell_type": "markdown",
   "id": "88b6d93f",
   "metadata": {},
   "source": [
    "#### Step 1.1:Defining functions without parametres ####"
   ]
  },
  {
   "cell_type": "code",
   "execution_count": 212,
   "id": "c9bc153d",
   "metadata": {},
   "outputs": [],
   "source": [
    "def student_name():\n",
    "    print('name:john Kernel')\n",
    "def student_age():\n",
    "    print('age:15')\n",
    "def student_school():\n",
    "    print('school:Newyork Univercity')"
   ]
  },
  {
   "cell_type": "markdown",
   "id": "09e2424a",
   "metadata": {},
   "source": [
    "#### Step 2.2:Calling functions ####"
   ]
  },
  {
   "cell_type": "code",
   "execution_count": 213,
   "id": "7794b311",
   "metadata": {},
   "outputs": [
    {
     "name": "stdout",
     "output_type": "stream",
     "text": [
      "name:john Kernel\n",
      "age:15\n",
      "school:Newyork Univercity\n"
     ]
    }
   ],
   "source": [
    "student_name()\n",
    "student_age()\n",
    "student_school()"
   ]
  },
  {
   "cell_type": "markdown",
   "id": "8bfef302",
   "metadata": {},
   "source": [
    "#### Step 3:Let's write all the knowledge the students ####"
   ]
  },
  {
   "cell_type": "code",
   "execution_count": 214,
   "id": "98a39656",
   "metadata": {},
   "outputs": [],
   "source": [
    "def student_knowledges():\n",
    "    student_name()\n",
    "    student_age()\n",
    "    student_school() "
   ]
  },
  {
   "cell_type": "code",
   "execution_count": 215,
   "id": "b8407681",
   "metadata": {},
   "outputs": [
    {
     "name": "stdout",
     "output_type": "stream",
     "text": [
      "name:john Kernel\n",
      "age:15\n",
      "school:Newyork Univercity\n"
     ]
    }
   ],
   "source": [
    "student_knowledges()"
   ]
  },
  {
   "cell_type": "code",
   "execution_count": 216,
   "id": "743b7c95",
   "metadata": {},
   "outputs": [
    {
     "data": {
      "text/plain": [
       "function"
      ]
     },
     "execution_count": 216,
     "metadata": {},
     "output_type": "execute_result"
    }
   ],
   "source": [
    "type(student_knowledges)         #So As you see,'Student knowledges ' is a function that we defined."
   ]
  },
  {
   "cell_type": "markdown",
   "id": "0acc9eea",
   "metadata": {},
   "source": [
    "#### If we want to write 'student name' as 'student_firstname' and 'student_second_name'. ####"
   ]
  },
  {
   "cell_type": "code",
   "execution_count": 217,
   "id": "34144ab4",
   "metadata": {},
   "outputs": [],
   "source": [
    "def student_firstname():\n",
    "    print('john')\n",
    "def student_secondname():\n",
    "    print('Kernel')"
   ]
  },
  {
   "cell_type": "code",
   "execution_count": 218,
   "id": "e632d5a8",
   "metadata": {},
   "outputs": [],
   "source": [
    "def student_name():\n",
    "    student_firstname()\n",
    "    student_secondname()"
   ]
  },
  {
   "cell_type": "code",
   "execution_count": 219,
   "id": "1dfde541",
   "metadata": {},
   "outputs": [
    {
     "name": "stdout",
     "output_type": "stream",
     "text": [
      "john\n",
      "Kernel\n",
      "age:15\n",
      "school:Newyork Univercity\n"
     ]
    }
   ],
   "source": [
    "student_knowledges()"
   ]
  },
  {
   "cell_type": "markdown",
   "id": "2b5a8dae",
   "metadata": {},
   "source": [
    "### Parametres ###"
   ]
  },
  {
   "cell_type": "markdown",
   "id": "af78d5ec",
   "metadata": {},
   "source": [
    "#### Mostly functions need parameters and parametres are inputs thah transfer themselves to run for functions. ####"
   ]
  },
  {
   "cell_type": "markdown",
   "id": "21791393",
   "metadata": {},
   "source": [
    "#### I want to write a function that squared the numbers. ####"
   ]
  },
  {
   "cell_type": "code",
   "execution_count": 220,
   "id": "2fefed37",
   "metadata": {},
   "outputs": [],
   "source": [
    "def square_write(number):           \n",
    "    square=number**2                       #Number is a parameter.\n",
    "    print(square)  "
   ]
  },
  {
   "cell_type": "markdown",
   "id": "7f0d54a6",
   "metadata": {},
   "source": [
    "#### Let's call this function with a paremeter. ####"
   ]
  },
  {
   "cell_type": "code",
   "execution_count": 221,
   "id": "19d7530d",
   "metadata": {},
   "outputs": [
    {
     "name": "stdout",
     "output_type": "stream",
     "text": [
      "25\n"
     ]
    }
   ],
   "source": [
    "square_write(5)"
   ]
  },
  {
   "cell_type": "code",
   "execution_count": 222,
   "id": "b0b90008",
   "metadata": {},
   "outputs": [
    {
     "name": "stdout",
     "output_type": "stream",
     "text": [
      "12321\n"
     ]
    }
   ],
   "source": [
    "square_write(111)"
   ]
  },
  {
   "cell_type": "markdown",
   "id": "eb9a536d",
   "metadata": {},
   "source": [
    "#### Now,Let's write a function with two parameters. ####"
   ]
  },
  {
   "cell_type": "code",
   "execution_count": 223,
   "id": "7a5a1cee",
   "metadata": {},
   "outputs": [],
   "source": [
    "def rectangle_calculate(short_cm, long_cm):\n",
    "    calculate=short_cm * long_cm\n",
    "    print(calculate)"
   ]
  },
  {
   "cell_type": "code",
   "execution_count": 224,
   "id": "10fa8032",
   "metadata": {},
   "outputs": [
    {
     "name": "stdout",
     "output_type": "stream",
     "text": [
      "24\n"
     ]
    }
   ],
   "source": [
    "rectangle_calculate(4, 6)"
   ]
  },
  {
   "cell_type": "code",
   "execution_count": 225,
   "id": "51c003a3",
   "metadata": {},
   "outputs": [
    {
     "name": "stdout",
     "output_type": "stream",
     "text": [
      "625\n"
     ]
    }
   ],
   "source": [
    "rectangle_calculate(5, 125)"
   ]
  },
  {
   "cell_type": "markdown",
   "id": "fa4f7208",
   "metadata": {},
   "source": [
    "#### If we do not know the number of the parameters,what happen ? ####"
   ]
  },
  {
   "cell_type": "markdown",
   "id": "74ef6f51",
   "metadata": {},
   "source": [
    "#### In this case,we use '*arqs' as parameter. ####"
   ]
  },
  {
   "cell_type": "code",
   "execution_count": 226,
   "id": "4603c22f",
   "metadata": {},
   "outputs": [],
   "source": [
    "def sum(*arqs):\n",
    "    print(arqs)"
   ]
  },
  {
   "cell_type": "code",
   "execution_count": 227,
   "id": "deb733d7",
   "metadata": {},
   "outputs": [
    {
     "name": "stdout",
     "output_type": "stream",
     "text": [
      "(1, 2, 3, 4)\n"
     ]
    }
   ],
   "source": [
    "sum(1,2,3,4)"
   ]
  },
  {
   "cell_type": "code",
   "execution_count": 228,
   "id": "09005509",
   "metadata": {},
   "outputs": [
    {
     "name": "stdout",
     "output_type": "stream",
     "text": [
      "(88, 125, 4596, 949, 74, 11)\n"
     ]
    }
   ],
   "source": [
    "sum(88,125,4596,949,74,11)"
   ]
  },
  {
   "cell_type": "code",
   "execution_count": 229,
   "id": "1b771a7b",
   "metadata": {},
   "outputs": [],
   "source": [
    "def parameters(*arqs):\n",
    "    print(arqs)"
   ]
  },
  {
   "cell_type": "code",
   "execution_count": 230,
   "id": "1fe27f00",
   "metadata": {},
   "outputs": [
    {
     "name": "stdout",
     "output_type": "stream",
     "text": [
      "('a', 88, True)\n"
     ]
    }
   ],
   "source": [
    "parameters('a', 88, True)                  #We can define as any type parameters."
   ]
  },
  {
   "cell_type": "markdown",
   "id": "bebcc9eb",
   "metadata": {},
   "source": [
    "### Lambda Expression ###"
   ]
  },
  {
   "cell_type": "markdown",
   "id": "60d71761",
   "metadata": {},
   "source": [
    "#### Sometimes we want to use without name directly.Here's we use 'Lambda Expression'. ####"
   ]
  },
  {
   "cell_type": "markdown",
   "id": "419a2f30",
   "metadata": {},
   "source": [
    "#### Let's define a lambda functions that doing aggregate. ####"
   ]
  },
  {
   "cell_type": "code",
   "execution_count": 231,
   "id": "9c6b8a34",
   "metadata": {},
   "outputs": [],
   "source": [
    "sum=lambda x,y : x+y      "
   ]
  },
  {
   "cell_type": "code",
   "execution_count": 232,
   "id": "0d005d8e",
   "metadata": {},
   "outputs": [
    {
     "data": {
      "text/plain": [
       "13"
      ]
     },
     "execution_count": 232,
     "metadata": {},
     "output_type": "execute_result"
    }
   ],
   "source": [
    "sum(5,8)"
   ]
  },
  {
   "cell_type": "code",
   "execution_count": 233,
   "id": "fea19304",
   "metadata": {},
   "outputs": [],
   "source": [
    "d=lambda x,y,z : (x/y)**z"
   ]
  },
  {
   "cell_type": "code",
   "execution_count": 234,
   "id": "274b2710",
   "metadata": {},
   "outputs": [
    {
     "data": {
      "text/plain": [
       "0.2621440000000001"
      ]
     },
     "execution_count": 234,
     "metadata": {},
     "output_type": "execute_result"
    }
   ],
   "source": [
    "d(4,5,6)"
   ]
  },
  {
   "cell_type": "code",
   "execution_count": 235,
   "id": "406d10d7",
   "metadata": {},
   "outputs": [],
   "source": [
    "exp= lambda a,b : a**b"
   ]
  },
  {
   "cell_type": "code",
   "execution_count": 236,
   "id": "3b03d298",
   "metadata": {},
   "outputs": [
    {
     "data": {
      "text/plain": [
       "65536"
      ]
     },
     "execution_count": 236,
     "metadata": {},
     "output_type": "execute_result"
    }
   ],
   "source": [
    "exp(4,8)"
   ]
  },
  {
   "cell_type": "markdown",
   "id": "fe1c895f",
   "metadata": {},
   "source": [
    "#### Function returning functions ####"
   ]
  },
  {
   "cell_type": "code",
   "execution_count": 237,
   "id": "9aff71a2",
   "metadata": {},
   "outputs": [],
   "source": [
    "def parameters2(n):\n",
    "    return lambda a : a*n"
   ]
  },
  {
   "cell_type": "code",
   "execution_count": 238,
   "id": "bb100eb4",
   "metadata": {},
   "outputs": [],
   "source": [
    "first=parameters2(1)"
   ]
  },
  {
   "cell_type": "code",
   "execution_count": 239,
   "id": "399dab14",
   "metadata": {},
   "outputs": [
    {
     "data": {
      "text/plain": [
       "5"
      ]
     },
     "execution_count": 239,
     "metadata": {},
     "output_type": "execute_result"
    }
   ],
   "source": [
    "first(5)"
   ]
  },
  {
   "cell_type": "markdown",
   "id": "de29fd2b",
   "metadata": {},
   "source": [
    "### Nested Function ###"
   ]
  },
  {
   "cell_type": "markdown",
   "id": "f8e44cd5",
   "metadata": {},
   "source": [
    "#### If need to define another function into the funtion; ####"
   ]
  },
  {
   "cell_type": "markdown",
   "id": "78c38239",
   "metadata": {},
   "source": [
    "#### Exp:Is any number common multiple of the 10 and 5. ? ####"
   ]
  },
  {
   "cell_type": "code",
   "execution_count": 240,
   "id": "d960373c",
   "metadata": {},
   "outputs": [],
   "source": [
    "def ısmultiple(n):\n",
    "    def five_multiple(n):\n",
    "        if n%5==0:\n",
    "            return True\n",
    "        else:\n",
    "            return False\n",
    "    def ten_multiple(n):\n",
    "        if n%10==0:\n",
    "            return True\n",
    "        else:\n",
    "            return False\n",
    "    if five_multiple(n) and ten_multiple(n):\n",
    "        return True\n",
    "    else:\n",
    "        return False\n",
    "    "
   ]
  },
  {
   "cell_type": "code",
   "execution_count": 241,
   "id": "448b1f48",
   "metadata": {},
   "outputs": [
    {
     "data": {
      "text/plain": [
       "False"
      ]
     },
     "execution_count": 241,
     "metadata": {},
     "output_type": "execute_result"
    }
   ],
   "source": [
    "ısmultiple(44)"
   ]
  },
  {
   "cell_type": "code",
   "execution_count": 242,
   "id": "fff94e9f",
   "metadata": {},
   "outputs": [
    {
     "data": {
      "text/plain": [
       "True"
      ]
     },
     "execution_count": 242,
     "metadata": {},
     "output_type": "execute_result"
    }
   ],
   "source": [
    "ısmultiple(824852486150)"
   ]
  },
  {
   "cell_type": "markdown",
   "id": "17240a63",
   "metadata": {},
   "source": [
    "#### May we write 'student_knowledges' with paremeters ####"
   ]
  },
  {
   "cell_type": "code",
   "execution_count": 243,
   "id": "829c205c",
   "metadata": {},
   "outputs": [],
   "source": [
    "def student_knowledges(firstname, secondname, age, school):\n",
    "    student_firstname(firstname)  \n",
    "    student_secondname(secondname)\n",
    "    student_age(age)\n",
    "    student_school(school)"
   ]
  },
  {
   "cell_type": "code",
   "execution_count": 244,
   "id": "cf18c0d1",
   "metadata": {},
   "outputs": [],
   "source": [
    "def student_firstname(firstname):       \n",
    "    print(firstname)\n",
    "def student_secondname(secondname):\n",
    "    print(secondname)\n",
    "def student_age(age):\n",
    "    print(age)\n",
    "def student_school(school):\n",
    "    print(school)"
   ]
  },
  {
   "cell_type": "code",
   "execution_count": 245,
   "id": "72dc75db",
   "metadata": {},
   "outputs": [],
   "source": [
    "firstname='maria'\n",
    "secondname='kernelness'\n",
    "age='25'\n",
    "school='high school'"
   ]
  },
  {
   "cell_type": "code",
   "execution_count": 246,
   "id": "fcd67968",
   "metadata": {},
   "outputs": [
    {
     "name": "stdout",
     "output_type": "stream",
     "text": [
      "maria\n",
      "kernelness\n",
      "25\n",
      "high school\n"
     ]
    }
   ],
   "source": [
    "student_knowledges(firstname, secondname, age, school)"
   ]
  },
  {
   "cell_type": "code",
   "execution_count": 247,
   "id": "6e9320e1",
   "metadata": {},
   "outputs": [],
   "source": [
    "firstname='ayşe'\n",
    "secondname='yılmaz'\n",
    "age='05'\n",
    "school='ilköğretim'"
   ]
  },
  {
   "cell_type": "code",
   "execution_count": 248,
   "id": "a4274434",
   "metadata": {},
   "outputs": [
    {
     "name": "stdout",
     "output_type": "stream",
     "text": [
      "ayşe\n",
      "yılmaz\n",
      "05\n",
      "ilköğretim\n"
     ]
    }
   ],
   "source": [
    "student_knowledges(firstname, secondname, age, school)"
   ]
  },
  {
   "cell_type": "markdown",
   "id": "993500d6",
   "metadata": {},
   "source": [
    "### Return Value ###"
   ]
  },
  {
   "cell_type": "markdown",
   "id": "de5828b3",
   "metadata": {},
   "source": [
    "#### A return statement is used to end the execution of the function call and “returns” the result (value of the expression following the return keyword) to the caller. ####"
   ]
  },
  {
   "cell_type": "markdown",
   "id": "ababb040",
   "metadata": {},
   "source": [
    "#### A number can been given us as a parameter that we calculate its cube and is being asked writing as return statement. ####"
   ]
  },
  {
   "cell_type": "code",
   "execution_count": 249,
   "id": "3a6003d3",
   "metadata": {},
   "outputs": [],
   "source": [
    "def cube(n):\n",
    "    n_cupe=n**3\n",
    "    return n_cupe"
   ]
  },
  {
   "cell_type": "code",
   "execution_count": 250,
   "id": "1ba4e1f5",
   "metadata": {},
   "outputs": [
    {
     "data": {
      "text/plain": [
       "125"
      ]
     },
     "execution_count": 250,
     "metadata": {},
     "output_type": "execute_result"
    }
   ],
   "source": [
    "cube(5)"
   ]
  },
  {
   "cell_type": "code",
   "execution_count": 251,
   "id": "ade5b199",
   "metadata": {},
   "outputs": [
    {
     "data": {
      "text/plain": [
       "1331"
      ]
     },
     "execution_count": 251,
     "metadata": {},
     "output_type": "execute_result"
    }
   ],
   "source": [
    "cube(11)"
   ]
  },
  {
   "cell_type": "code",
   "execution_count": 252,
   "id": "620f383d",
   "metadata": {},
   "outputs": [
    {
     "name": "stdout",
     "output_type": "stream",
     "text": [
      "125\n"
     ]
    }
   ],
   "source": [
    "cube1=cube(5)                # We defined a function as a value.\n",
    "print(cube1)"
   ]
  },
  {
   "cell_type": "code",
   "execution_count": 253,
   "id": "614c7808",
   "metadata": {},
   "outputs": [
    {
     "name": "stdout",
     "output_type": "stream",
     "text": [
      "64\n"
     ]
    }
   ],
   "source": [
    "cube2=cube(4)\n",
    "print(cube2)"
   ]
  },
  {
   "cell_type": "code",
   "execution_count": 254,
   "id": "9765f490",
   "metadata": {},
   "outputs": [
    {
     "name": "stdout",
     "output_type": "stream",
     "text": [
      "681472\n"
     ]
    }
   ],
   "source": [
    "n=6\n",
    "print(cube(88))        "
   ]
  },
  {
   "cell_type": "markdown",
   "id": "04b12dac",
   "metadata": {},
   "source": [
    "* It is 'Void' function that don't return the statement."
   ]
  },
  {
   "cell_type": "code",
   "execution_count": 255,
   "id": "a261bf1b",
   "metadata": {},
   "outputs": [],
   "source": [
    "import math"
   ]
  },
  {
   "cell_type": "code",
   "execution_count": 256,
   "id": "a659bf9b",
   "metadata": {},
   "outputs": [],
   "source": [
    "def circle(r):\n",
    "    x=math.pi * r ** 2            # We define this function with return.\n",
    "    return x                    "
   ]
  },
  {
   "cell_type": "code",
   "execution_count": 257,
   "id": "3fc7d336",
   "metadata": {},
   "outputs": [
    {
     "name": "stdout",
     "output_type": "stream",
     "text": [
      "78.53981633974483\n"
     ]
    }
   ],
   "source": [
    "circle_area = circle(5)             # We give the value to the function we defined.\n",
    "print(cycle_area)"
   ]
  },
  {
   "cell_type": "code",
   "execution_count": 258,
   "id": "b086d876",
   "metadata": {},
   "outputs": [
    {
     "name": "stdout",
     "output_type": "stream",
     "text": [
      "78.53981633974483\n"
     ]
    }
   ],
   "source": [
    "circle_area = circle(11)           \n",
    "print(cycle_area)"
   ]
  },
  {
   "cell_type": "markdown",
   "id": "1befb6b3",
   "metadata": {},
   "source": [
    "#### 'a ' is the temporary variable that is purpose to give to return.However I do not want to use the this valiable. ####"
   ]
  },
  {
   "cell_type": "code",
   "execution_count": 259,
   "id": "06f24798",
   "metadata": {},
   "outputs": [],
   "source": [
    "def circle(r):\n",
    "    return math.pi * r **2"
   ]
  },
  {
   "cell_type": "code",
   "execution_count": 260,
   "id": "b8ca1a7a",
   "metadata": {},
   "outputs": [
    {
     "name": "stdout",
     "output_type": "stream",
     "text": [
      "380.132711084365\n"
     ]
    }
   ],
   "source": [
    "circle_area = circle(11)                # You please take care us the same result.\n",
    "print(circle_area)"
   ]
  },
  {
   "cell_type": "markdown",
   "id": "2c7101f6",
   "metadata": {},
   "source": [
    "### Develop step by step ###"
   ]
  },
  {
   "cell_type": "markdown",
   "id": "99e9abf6",
   "metadata": {},
   "source": [
    "#### Exp:Lenght between two points. ####"
   ]
  },
  {
   "cell_type": "code",
   "execution_count": 261,
   "id": "8a458bf5",
   "metadata": {},
   "outputs": [],
   "source": [
    "def length(x1, y1, x2, y2):   # 1-We defined this function with four parameters\n",
    "    dx=x2-x1                  # 2-Firstly we must subtract among X values and again Y values\n",
    "    dy=y2-y1\n",
    "    sum=(dx**2)+(dy**2)       # 3-let's continue now,square and sum this dx and dy according the formula.\n",
    "    return math.sqrt(sum)     # 4-Finally may we returns the square root.\n",
    "                              # You please consider that all progress (step 1,2,3...) are written according to pisagor theory.\n",
    "                                               "
   ]
  },
  {
   "cell_type": "code",
   "execution_count": 262,
   "id": "c055ef62",
   "metadata": {},
   "outputs": [
    {
     "data": {
      "text/plain": [
       "4.123105625617661"
      ]
     },
     "execution_count": 262,
     "metadata": {},
     "output_type": "execute_result"
    }
   ],
   "source": [
    "length(5, 7, 4, 11)                   "
   ]
  },
  {
   "cell_type": "code",
   "execution_count": 263,
   "id": "7ee7e09c",
   "metadata": {},
   "outputs": [
    {
     "data": {
      "text/plain": [
       "6.324555320336759"
      ]
     },
     "execution_count": 263,
     "metadata": {},
     "output_type": "execute_result"
    }
   ],
   "source": [
    "length(9, 4, 3, 2)"
   ]
  },
  {
   "cell_type": "markdown",
   "id": "042155a1",
   "metadata": {},
   "source": [
    "### Using the functions together ###"
   ]
  },
  {
   "cell_type": "markdown",
   "id": "7b7c7051",
   "metadata": {},
   "source": [
    "#### Exp:the area of circle passing two points ####"
   ]
  },
  {
   "cell_type": "code",
   "execution_count": 264,
   "id": "bd94e680",
   "metadata": {},
   "outputs": [],
   "source": [
    "def circle_twopoints(x1, y1, x2, y2):              \n",
    "    r=length(x1, y1, x2, y2)                  # We defined this function with four parameters  \n",
    "    area=math.pi*r**2                         # The previous function 'lenght(x1, y1, x2, y2)' to define to the 'r'.\n",
    "                                              # We define 'area' that \n",
    "    return area"
   ]
  },
  {
   "cell_type": "code",
   "execution_count": 265,
   "id": "88c67983",
   "metadata": {},
   "outputs": [
    {
     "data": {
      "text/plain": [
       "31.41592653589794"
      ]
     },
     "execution_count": 265,
     "metadata": {},
     "output_type": "execute_result"
    }
   ],
   "source": [
    "circle_twopoints(1, 5, 4, 6)"
   ]
  }
 ],
 "metadata": {
  "kernelspec": {
   "display_name": "Python 3",
   "language": "python",
   "name": "python3"
  },
  "language_info": {
   "codemirror_mode": {
    "name": "ipython",
    "version": 3
   },
   "file_extension": ".py",
   "mimetype": "text/x-python",
   "name": "python",
   "nbconvert_exporter": "python",
   "pygments_lexer": "ipython3",
   "version": "3.7.0"
  }
 },
 "nbformat": 4,
 "nbformat_minor": 5
}
