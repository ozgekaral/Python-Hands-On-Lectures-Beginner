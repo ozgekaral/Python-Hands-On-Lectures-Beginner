{
 "cells": [
  {
   "cell_type": "markdown",
   "id": "30868eb1",
   "metadata": {},
   "source": [
    "### Value ###"
   ]
  },
  {
   "cell_type": "code",
   "execution_count": 27,
   "id": "5ad8775b",
   "metadata": {},
   "outputs": [],
   "source": [
    "i=1"
   ]
  },
  {
   "cell_type": "code",
   "execution_count": 28,
   "id": "2f623c93",
   "metadata": {},
   "outputs": [
    {
     "data": {
      "text/plain": [
       "1"
      ]
     },
     "execution_count": 28,
     "metadata": {},
     "output_type": "execute_result"
    }
   ],
   "source": [
    "i"
   ]
  },
  {
   "cell_type": "code",
   "execution_count": 29,
   "id": "aac99ea2",
   "metadata": {},
   "outputs": [
    {
     "data": {
      "text/plain": [
       "tuple"
      ]
     },
     "execution_count": 29,
     "metadata": {},
     "output_type": "execute_result"
    }
   ],
   "source": [
    "type(n)                       # i=1 is the integer."
   ]
  },
  {
   "cell_type": "code",
   "execution_count": 39,
   "id": "643134e5",
   "metadata": {},
   "outputs": [],
   "source": [
    "t=(1,2,3,5,6)                # n=(1,2,3,4,5,6) is the tuple."
   ]
  },
  {
   "cell_type": "code",
   "execution_count": 40,
   "id": "092c63ec",
   "metadata": {},
   "outputs": [
    {
     "data": {
      "text/plain": [
       "tuple"
      ]
     },
     "execution_count": 40,
     "metadata": {},
     "output_type": "execute_result"
    }
   ],
   "source": [
    "type(t)"
   ]
  },
  {
   "cell_type": "code",
   "execution_count": 41,
   "id": "5972845a",
   "metadata": {},
   "outputs": [],
   "source": [
    "l=[1,2,3,4,5,6]"
   ]
  },
  {
   "cell_type": "code",
   "execution_count": 42,
   "id": "3252e88c",
   "metadata": {},
   "outputs": [
    {
     "data": {
      "text/plain": [
       "list"
      ]
     },
     "execution_count": 42,
     "metadata": {},
     "output_type": "execute_result"
    }
   ],
   "source": [
    "type(l)                     # l=[1,2,3,4,5,6] is the list."
   ]
  },
  {
   "cell_type": "code",
   "execution_count": 51,
   "id": "c9cdc408",
   "metadata": {},
   "outputs": [],
   "source": [
    "s={1,2,3,4,5,6}             # s={1,2,3,4,5,6} is the set."
   ]
  },
  {
   "cell_type": "code",
   "execution_count": 52,
   "id": "e4b98ea1",
   "metadata": {},
   "outputs": [
    {
     "data": {
      "text/plain": [
       "set"
      ]
     },
     "execution_count": 52,
     "metadata": {},
     "output_type": "execute_result"
    }
   ],
   "source": [
    "type(s)"
   ]
  },
  {
   "cell_type": "code",
   "execution_count": 43,
   "id": "54efdb0f",
   "metadata": {},
   "outputs": [],
   "source": [
    "st='john comes'"
   ]
  },
  {
   "cell_type": "code",
   "execution_count": 44,
   "id": "b07814cd",
   "metadata": {},
   "outputs": [
    {
     "data": {
      "text/plain": [
       "'john comes'"
      ]
     },
     "execution_count": 44,
     "metadata": {},
     "output_type": "execute_result"
    }
   ],
   "source": [
    "st"
   ]
  },
  {
   "cell_type": "code",
   "execution_count": 45,
   "id": "e5e440de",
   "metadata": {},
   "outputs": [
    {
     "data": {
      "text/plain": [
       "str"
      ]
     },
     "execution_count": 45,
     "metadata": {},
     "output_type": "execute_result"
    }
   ],
   "source": [
    "type(st)"
   ]
  },
  {
   "cell_type": "code",
   "execution_count": 46,
   "id": "4fe6551f",
   "metadata": {},
   "outputs": [],
   "source": [
    "l1=['john','north']"
   ]
  },
  {
   "cell_type": "code",
   "execution_count": 47,
   "id": "35ecd1b2",
   "metadata": {},
   "outputs": [
    {
     "data": {
      "text/plain": [
       "list"
      ]
     },
     "execution_count": 47,
     "metadata": {},
     "output_type": "execute_result"
    }
   ],
   "source": [
    "type(l1)"
   ]
  },
  {
   "cell_type": "code",
   "execution_count": 49,
   "id": "2f11e05a",
   "metadata": {},
   "outputs": [],
   "source": [
    "t1=('john is a student','his mother is teacher.')"
   ]
  },
  {
   "cell_type": "code",
   "execution_count": 50,
   "id": "a401ab11",
   "metadata": {},
   "outputs": [
    {
     "data": {
      "text/plain": [
       "tuple"
      ]
     },
     "execution_count": 50,
     "metadata": {},
     "output_type": "execute_result"
    }
   ],
   "source": [
    "type(t1)"
   ]
  },
  {
   "cell_type": "code",
   "execution_count": 53,
   "id": "a73fafd9",
   "metadata": {},
   "outputs": [],
   "source": [
    "s1={'john','is','a','student'}"
   ]
  },
  {
   "cell_type": "code",
   "execution_count": 54,
   "id": "c0482bcb",
   "metadata": {},
   "outputs": [
    {
     "data": {
      "text/plain": [
       "set"
      ]
     },
     "execution_count": 54,
     "metadata": {},
     "output_type": "execute_result"
    }
   ],
   "source": [
    "type(s1)"
   ]
  },
  {
   "cell_type": "code",
   "execution_count": 59,
   "id": "9cd49cab",
   "metadata": {},
   "outputs": [],
   "source": [
    "d={\n",
    "    'name':'john'\n",
    "}"
   ]
  },
  {
   "cell_type": "code",
   "execution_count": 60,
   "id": "1fa3906d",
   "metadata": {},
   "outputs": [
    {
     "data": {
      "text/plain": [
       "{'name': 'john'}"
      ]
     },
     "execution_count": 60,
     "metadata": {},
     "output_type": "execute_result"
    }
   ],
   "source": [
    "d"
   ]
  },
  {
   "cell_type": "code",
   "execution_count": 61,
   "id": "164d9ca1",
   "metadata": {},
   "outputs": [
    {
     "data": {
      "text/plain": [
       "dict"
      ]
     },
     "execution_count": 61,
     "metadata": {},
     "output_type": "execute_result"
    }
   ],
   "source": [
    "type(d)"
   ]
  },
  {
   "cell_type": "code",
   "execution_count": 62,
   "id": "834544c9",
   "metadata": {},
   "outputs": [],
   "source": [
    "f=45.5"
   ]
  },
  {
   "cell_type": "code",
   "execution_count": 63,
   "id": "385218f1",
   "metadata": {},
   "outputs": [
    {
     "data": {
      "text/plain": [
       "45.5"
      ]
     },
     "execution_count": 63,
     "metadata": {},
     "output_type": "execute_result"
    }
   ],
   "source": [
    "f"
   ]
  },
  {
   "cell_type": "code",
   "execution_count": 56,
   "id": "d8ef4030",
   "metadata": {},
   "outputs": [
    {
     "data": {
      "text/plain": [
       "float"
      ]
     },
     "execution_count": 56,
     "metadata": {},
     "output_type": "execute_result"
    }
   ],
   "source": [
    "type(f)"
   ]
  },
  {
   "cell_type": "code",
   "execution_count": 17,
   "id": "c79068cb",
   "metadata": {},
   "outputs": [],
   "source": [
    "b=True"
   ]
  },
  {
   "cell_type": "code",
   "execution_count": 18,
   "id": "1553698e",
   "metadata": {},
   "outputs": [
    {
     "data": {
      "text/plain": [
       "True"
      ]
     },
     "execution_count": 18,
     "metadata": {},
     "output_type": "execute_result"
    }
   ],
   "source": [
    "b"
   ]
  },
  {
   "cell_type": "code",
   "execution_count": 57,
   "id": "9ab6e253",
   "metadata": {},
   "outputs": [
    {
     "data": {
      "text/plain": [
       "bool"
      ]
     },
     "execution_count": 57,
     "metadata": {},
     "output_type": "execute_result"
    }
   ],
   "source": [
    "type(b)"
   ]
  },
  {
   "cell_type": "markdown",
   "id": "aea43194",
   "metadata": {},
   "source": [
    "#### Built-in Data Types in Python ####"
   ]
  },
  {
   "cell_type": "markdown",
   "id": "83ebb138",
   "metadata": {},
   "source": [
    "* Binary Types: memoryview, bytearray, bytes\n",
    "* Boolean Type: bool\n",
    "* Set Types: frozenset, set\n",
    "* Mapping Type: dict\n",
    "* Sequence Types: range, tuple, list\n",
    "* Numeric Types: complex, float, int\n",
    "* Text Type: str"
   ]
  },
  {
   "cell_type": "markdown",
   "id": "f93480a0",
   "metadata": {},
   "source": [
    "### String ###"
   ]
  },
  {
   "cell_type": "code",
   "execution_count": 81,
   "id": "4bf13d07",
   "metadata": {},
   "outputs": [],
   "source": [
    "colour='pink'"
   ]
  },
  {
   "cell_type": "code",
   "execution_count": 82,
   "id": "94107712",
   "metadata": {},
   "outputs": [
    {
     "data": {
      "text/plain": [
       "'pink'"
      ]
     },
     "execution_count": 82,
     "metadata": {},
     "output_type": "execute_result"
    }
   ],
   "source": [
    "colour"
   ]
  },
  {
   "cell_type": "code",
   "execution_count": 83,
   "id": "ca861c60",
   "metadata": {},
   "outputs": [
    {
     "data": {
      "text/plain": [
       "str"
      ]
     },
     "execution_count": 83,
     "metadata": {},
     "output_type": "execute_result"
    }
   ],
   "source": [
    "type(colour)"
   ]
  },
  {
   "cell_type": "code",
   "execution_count": 87,
   "id": "cccf5db2",
   "metadata": {},
   "outputs": [
    {
     "data": {
      "text/plain": [
       "4"
      ]
     },
     "execution_count": 87,
     "metadata": {},
     "output_type": "execute_result"
    }
   ],
   "source": [
    "len(colour)"
   ]
  },
  {
   "cell_type": "markdown",
   "id": "58ad954b",
   "metadata": {},
   "source": []
  },
  {
   "cell_type": "code",
   "execution_count": 84,
   "id": "1f008c23",
   "metadata": {},
   "outputs": [],
   "source": [
    "colour1='pink','red'"
   ]
  },
  {
   "cell_type": "code",
   "execution_count": 85,
   "id": "25714fb6",
   "metadata": {},
   "outputs": [
    {
     "data": {
      "text/plain": [
       "('pink', 'red')"
      ]
     },
     "execution_count": 85,
     "metadata": {},
     "output_type": "execute_result"
    }
   ],
   "source": [
    "colour1"
   ]
  },
  {
   "cell_type": "code",
   "execution_count": 86,
   "id": "99938ab8",
   "metadata": {},
   "outputs": [
    {
     "data": {
      "text/plain": [
       "tuple"
      ]
     },
     "execution_count": 86,
     "metadata": {},
     "output_type": "execute_result"
    }
   ],
   "source": [
    "type(colour1)"
   ]
  },
  {
   "cell_type": "code",
   "execution_count": 88,
   "id": "64a60bd2",
   "metadata": {},
   "outputs": [
    {
     "data": {
      "text/plain": [
       "2"
      ]
     },
     "execution_count": 88,
     "metadata": {},
     "output_type": "execute_result"
    }
   ],
   "source": [
    "len(colour1)"
   ]
  },
  {
   "cell_type": "markdown",
   "id": "454d59aa",
   "metadata": {},
   "source": [
    "#### Built-in String Functions in Python ####"
   ]
  },
  {
   "cell_type": "code",
   "execution_count": 90,
   "id": "25f3c3ec",
   "metadata": {},
   "outputs": [
    {
     "ename": "SyntaxError",
     "evalue": "can't use starred expression here (<ipython-input-90-64d5379c6ebd>, line 4)",
     "output_type": "error",
     "traceback": [
      "\u001b[1;36m  File \u001b[1;32m\"<ipython-input-90-64d5379c6ebd>\"\u001b[1;36m, line \u001b[1;32m4\u001b[0m\n\u001b[1;31mSyntaxError\u001b[0m\u001b[1;31m:\u001b[0m can't use starred expression here\n"
     ]
    }
   ],
   "source": []
  },
  {
   "cell_type": "markdown",
   "id": "70f8543f",
   "metadata": {},
   "source": [
    "#### Index ####"
   ]
  },
  {
   "cell_type": "code",
   "execution_count": 103,
   "id": "3c7b31f3",
   "metadata": {},
   "outputs": [
    {
     "data": {
      "text/plain": [
       "'pink'"
      ]
     },
     "execution_count": 103,
     "metadata": {},
     "output_type": "execute_result"
    }
   ],
   "source": [
    "colour"
   ]
  },
  {
   "cell_type": "code",
   "execution_count": 104,
   "id": "cb15a593",
   "metadata": {},
   "outputs": [
    {
     "data": {
      "text/plain": [
       "4"
      ]
     },
     "execution_count": 104,
     "metadata": {},
     "output_type": "execute_result"
    }
   ],
   "source": [
    "len(colour)"
   ]
  },
  {
   "cell_type": "code",
   "execution_count": 91,
   "id": "5864c9d7",
   "metadata": {},
   "outputs": [
    {
     "data": {
      "text/plain": [
       "'p'"
      ]
     },
     "execution_count": 91,
     "metadata": {},
     "output_type": "execute_result"
    }
   ],
   "source": [
    "colour[0]                        # It starts from 0 and continues 1,2,30...."
   ]
  },
  {
   "cell_type": "code",
   "execution_count": 137,
   "id": "6d5265f1",
   "metadata": {},
   "outputs": [
    {
     "data": {
      "text/plain": [
       "('p', 'n')"
      ]
     },
     "execution_count": 137,
     "metadata": {},
     "output_type": "execute_result"
    }
   ],
   "source": [
    "colour[0],colour[2]              # It give us the tuple."
   ]
  },
  {
   "cell_type": "code",
   "execution_count": 138,
   "id": "59a64174",
   "metadata": {},
   "outputs": [
    {
     "data": {
      "text/plain": [
       "tuple"
      ]
     },
     "execution_count": 138,
     "metadata": {},
     "output_type": "execute_result"
    }
   ],
   "source": [
    "type(('p', 'n'))"
   ]
  },
  {
   "cell_type": "code",
   "execution_count": 92,
   "id": "5347ea8a",
   "metadata": {},
   "outputs": [
    {
     "data": {
      "text/plain": [
       "'i'"
      ]
     },
     "execution_count": 92,
     "metadata": {},
     "output_type": "execute_result"
    }
   ],
   "source": [
    "colour[1]"
   ]
  },
  {
   "cell_type": "code",
   "execution_count": 93,
   "id": "8e64be09",
   "metadata": {},
   "outputs": [
    {
     "data": {
      "text/plain": [
       "'n'"
      ]
     },
     "execution_count": 93,
     "metadata": {},
     "output_type": "execute_result"
    }
   ],
   "source": [
    "colour[2]"
   ]
  },
  {
   "cell_type": "code",
   "execution_count": 94,
   "id": "2e980d12",
   "metadata": {},
   "outputs": [
    {
     "data": {
      "text/plain": [
       "'k'"
      ]
     },
     "execution_count": 94,
     "metadata": {},
     "output_type": "execute_result"
    }
   ],
   "source": [
    "colour[3]"
   ]
  },
  {
   "cell_type": "code",
   "execution_count": 133,
   "id": "1366279e",
   "metadata": {},
   "outputs": [
    {
     "data": {
      "text/plain": [
       "'k'"
      ]
     },
     "execution_count": 133,
     "metadata": {},
     "output_type": "execute_result"
    }
   ],
   "source": [
    "colour[len(colour)-1]"
   ]
  },
  {
   "cell_type": "code",
   "execution_count": 134,
   "id": "52826009",
   "metadata": {},
   "outputs": [
    {
     "data": {
      "text/plain": [
       "4"
      ]
     },
     "execution_count": 134,
     "metadata": {},
     "output_type": "execute_result"
    }
   ],
   "source": [
    "len(colour)"
   ]
  },
  {
   "cell_type": "code",
   "execution_count": 135,
   "id": "ad1ac597",
   "metadata": {},
   "outputs": [
    {
     "data": {
      "text/plain": [
       "3"
      ]
     },
     "execution_count": 135,
     "metadata": {},
     "output_type": "execute_result"
    }
   ],
   "source": [
    "len(colour)-1"
   ]
  },
  {
   "cell_type": "code",
   "execution_count": 136,
   "id": "01e1c00e",
   "metadata": {},
   "outputs": [],
   "source": [
    "#len(colour)-1=colour[3]"
   ]
  },
  {
   "cell_type": "markdown",
   "id": "90d8fcb0",
   "metadata": {},
   "source": [
    "#### Negative Index ####"
   ]
  },
  {
   "cell_type": "code",
   "execution_count": 96,
   "id": "f30667f5",
   "metadata": {},
   "outputs": [
    {
     "data": {
      "text/plain": [
       "'k'"
      ]
     },
     "execution_count": 96,
     "metadata": {},
     "output_type": "execute_result"
    }
   ],
   "source": [
    "colour[-1]                         "
   ]
  },
  {
   "cell_type": "code",
   "execution_count": 97,
   "id": "0484bb06",
   "metadata": {},
   "outputs": [
    {
     "data": {
      "text/plain": [
       "'n'"
      ]
     },
     "execution_count": 97,
     "metadata": {},
     "output_type": "execute_result"
    }
   ],
   "source": [
    "colour[-2]                         "
   ]
  },
  {
   "cell_type": "code",
   "execution_count": 98,
   "id": "222808e5",
   "metadata": {},
   "outputs": [
    {
     "data": {
      "text/plain": [
       "'i'"
      ]
     },
     "execution_count": 98,
     "metadata": {},
     "output_type": "execute_result"
    }
   ],
   "source": [
    "colour[-3]"
   ]
  },
  {
   "cell_type": "code",
   "execution_count": 99,
   "id": "f02f029b",
   "metadata": {},
   "outputs": [
    {
     "data": {
      "text/plain": [
       "'p'"
      ]
     },
     "execution_count": 99,
     "metadata": {},
     "output_type": "execute_result"
    }
   ],
   "source": [
    "colour[-4]"
   ]
  },
  {
   "cell_type": "markdown",
   "id": "0fddf9c2",
   "metadata": {},
   "source": [
    "#### Slicing ####"
   ]
  },
  {
   "cell_type": "code",
   "execution_count": 100,
   "id": "0ebf6dc0",
   "metadata": {},
   "outputs": [
    {
     "data": {
      "text/plain": [
       "'in'"
      ]
     },
     "execution_count": 100,
     "metadata": {},
     "output_type": "execute_result"
    }
   ],
   "source": [
    "colour[1:3]                          # It slices from 1 to 3,you review that it does not contain third element"
   ]
  },
  {
   "cell_type": "code",
   "execution_count": 101,
   "id": "655bbbfa",
   "metadata": {},
   "outputs": [
    {
     "data": {
      "text/plain": [
       "'pink'"
      ]
     },
     "execution_count": 101,
     "metadata": {},
     "output_type": "execute_result"
    }
   ],
   "source": [
    "colour[:4]"
   ]
  },
  {
   "cell_type": "code",
   "execution_count": 105,
   "id": "0ba94e40",
   "metadata": {},
   "outputs": [
    {
     "data": {
      "text/plain": [
       "'pink'"
      ]
     },
     "execution_count": 105,
     "metadata": {},
     "output_type": "execute_result"
    }
   ],
   "source": [
    "colour[::]"
   ]
  },
  {
   "cell_type": "code",
   "execution_count": 106,
   "id": "45f1b9eb",
   "metadata": {},
   "outputs": [
    {
     "data": {
      "text/plain": [
       "'pink'"
      ]
     },
     "execution_count": 106,
     "metadata": {},
     "output_type": "execute_result"
    }
   ],
   "source": [
    "colour[0:]"
   ]
  },
  {
   "cell_type": "markdown",
   "id": "134d2665",
   "metadata": {},
   "source": [
    "#### Amount of Increase ####"
   ]
  },
  {
   "cell_type": "code",
   "execution_count": 107,
   "id": "9f78dc97",
   "metadata": {},
   "outputs": [
    {
     "data": {
      "text/plain": [
       "'pink'"
      ]
     },
     "execution_count": 107,
     "metadata": {},
     "output_type": "execute_result"
    }
   ],
   "source": [
    "colour[:4:1]"
   ]
  },
  {
   "cell_type": "code",
   "execution_count": 108,
   "id": "f2cf83c1",
   "metadata": {},
   "outputs": [
    {
     "data": {
      "text/plain": [
       "'pn'"
      ]
     },
     "execution_count": 108,
     "metadata": {},
     "output_type": "execute_result"
    }
   ],
   "source": [
    "colour[::2]"
   ]
  },
  {
   "cell_type": "code",
   "execution_count": 111,
   "id": "c138c3db",
   "metadata": {},
   "outputs": [
    {
     "data": {
      "text/plain": [
       "'p'"
      ]
     },
     "execution_count": 111,
     "metadata": {},
     "output_type": "execute_result"
    }
   ],
   "source": [
    "colour[:2:2]"
   ]
  },
  {
   "cell_type": "code",
   "execution_count": 109,
   "id": "f19e6673",
   "metadata": {},
   "outputs": [
    {
     "data": {
      "text/plain": [
       "'knip'"
      ]
     },
     "execution_count": 109,
     "metadata": {},
     "output_type": "execute_result"
    }
   ],
   "source": [
    "colour[::-1]"
   ]
  },
  {
   "cell_type": "code",
   "execution_count": 113,
   "id": "7139a826",
   "metadata": {},
   "outputs": [
    {
     "data": {
      "text/plain": [
       "'k'"
      ]
     },
     "execution_count": 113,
     "metadata": {},
     "output_type": "execute_result"
    }
   ],
   "source": [
    "colour[:2:-2]"
   ]
  },
  {
   "cell_type": "code",
   "execution_count": 114,
   "id": "8ce5f8df",
   "metadata": {},
   "outputs": [
    {
     "data": {
      "text/plain": [
       "''"
      ]
     },
     "execution_count": 114,
     "metadata": {},
     "output_type": "execute_result"
    }
   ],
   "source": [
    "colour[0:2:-2]                         # Because "
   ]
  },
  {
   "cell_type": "code",
   "execution_count": 115,
   "id": "aa400e5a",
   "metadata": {},
   "outputs": [
    {
     "data": {
      "text/plain": [
       "'PINK'"
      ]
     },
     "execution_count": 115,
     "metadata": {},
     "output_type": "execute_result"
    }
   ],
   "source": [
    "colour.upper()"
   ]
  },
  {
   "cell_type": "code",
   "execution_count": 116,
   "id": "de5db753",
   "metadata": {},
   "outputs": [
    {
     "data": {
      "text/plain": [
       "'pink'"
      ]
     },
     "execution_count": 116,
     "metadata": {},
     "output_type": "execute_result"
    }
   ],
   "source": [
    "colour.lower()"
   ]
  },
  {
   "cell_type": "code",
   "execution_count": 119,
   "id": "ab00ca6d",
   "metadata": {},
   "outputs": [
    {
     "data": {
      "text/plain": [
       "'Pink'"
      ]
     },
     "execution_count": 119,
     "metadata": {},
     "output_type": "execute_result"
    }
   ],
   "source": [
    "colour.title()"
   ]
  },
  {
   "cell_type": "code",
   "execution_count": 120,
   "id": "3b40527c",
   "metadata": {},
   "outputs": [
    {
     "data": {
      "text/plain": [
       "'Pink'"
      ]
     },
     "execution_count": 120,
     "metadata": {},
     "output_type": "execute_result"
    }
   ],
   "source": [
    "colour.capitalize()"
   ]
  },
  {
   "cell_type": "code",
   "execution_count": 121,
   "id": "d3c1848c",
   "metadata": {},
   "outputs": [
    {
     "data": {
      "text/plain": [
       "'ink'"
      ]
     },
     "execution_count": 121,
     "metadata": {},
     "output_type": "execute_result"
    }
   ],
   "source": [
    "colour.strip('p')"
   ]
  },
  {
   "cell_type": "code",
   "execution_count": 126,
   "id": "b00792a1",
   "metadata": {},
   "outputs": [
    {
     "data": {
      "text/plain": [
       "'pink'"
      ]
     },
     "execution_count": 126,
     "metadata": {},
     "output_type": "execute_result"
    }
   ],
   "source": [
    "colour.strip()                # If ( ) is emty ,ıt strip all spaces"
   ]
  },
  {
   "cell_type": "code",
   "execution_count": 129,
   "id": "0bf45ffe",
   "metadata": {},
   "outputs": [],
   "source": [
    "colour_ex=' john comes and her mother comes   '"
   ]
  },
  {
   "cell_type": "code",
   "execution_count": 130,
   "id": "0a6c9a7c",
   "metadata": {},
   "outputs": [
    {
     "data": {
      "text/plain": [
       "'john comes and her mother comes'"
      ]
     },
     "execution_count": 130,
     "metadata": {},
     "output_type": "execute_result"
    }
   ],
   "source": [
    "colour_ex.strip()"
   ]
  },
  {
   "cell_type": "code",
   "execution_count": 122,
   "id": "6c439bc3",
   "metadata": {},
   "outputs": [
    {
     "data": {
      "text/plain": [
       "'pink'"
      ]
     },
     "execution_count": 122,
     "metadata": {},
     "output_type": "execute_result"
    }
   ],
   "source": [
    "colour"
   ]
  },
  {
   "cell_type": "code",
   "execution_count": 124,
   "id": "ec2ff0e0",
   "metadata": {},
   "outputs": [
    {
     "data": {
      "text/plain": [
       "'ink'"
      ]
     },
     "execution_count": 124,
     "metadata": {},
     "output_type": "execute_result"
    }
   ],
   "source": [
    "colour.lstrip('p')"
   ]
  },
  {
   "cell_type": "code",
   "execution_count": 131,
   "id": "22f87ab8",
   "metadata": {},
   "outputs": [
    {
     "data": {
      "text/plain": [
       "'pink'"
      ]
     },
     "execution_count": 131,
     "metadata": {},
     "output_type": "execute_result"
    }
   ],
   "source": [
    "colour.lstrip('a')             #There is not 'a' on the left."
   ]
  },
  {
   "cell_type": "code",
   "execution_count": 125,
   "id": "044c39a1",
   "metadata": {},
   "outputs": [
    {
     "data": {
      "text/plain": [
       "'pin'"
      ]
     },
     "execution_count": 125,
     "metadata": {},
     "output_type": "execute_result"
    }
   ],
   "source": [
    "colour.rstrip('k')"
   ]
  },
  {
   "cell_type": "code",
   "execution_count": 140,
   "id": "81db03ea",
   "metadata": {},
   "outputs": [
    {
     "data": {
      "text/plain": [
       "False"
      ]
     },
     "execution_count": 140,
     "metadata": {},
     "output_type": "execute_result"
    }
   ],
   "source": [
    "colour.isdigit()"
   ]
  },
  {
   "cell_type": "code",
   "execution_count": 141,
   "id": "6cf23c39",
   "metadata": {},
   "outputs": [
    {
     "data": {
      "text/plain": [
       "False"
      ]
     },
     "execution_count": 141,
     "metadata": {},
     "output_type": "execute_result"
    }
   ],
   "source": [
    "colour.startswith('a')"
   ]
  },
  {
   "cell_type": "code",
   "execution_count": 142,
   "id": "bd416ac3",
   "metadata": {},
   "outputs": [
    {
     "data": {
      "text/plain": [
       "False"
      ]
     },
     "execution_count": 142,
     "metadata": {},
     "output_type": "execute_result"
    }
   ],
   "source": [
    "colour.endswith('b')"
   ]
  },
  {
   "cell_type": "code",
   "execution_count": 143,
   "id": "4a789b42",
   "metadata": {},
   "outputs": [
    {
     "data": {
      "text/plain": [
       "'pxnk'"
      ]
     },
     "execution_count": 143,
     "metadata": {},
     "output_type": "execute_result"
    }
   ],
   "source": [
    "colour.replace('i','x')"
   ]
  },
  {
   "cell_type": "code",
   "execution_count": 147,
   "id": "55a18566",
   "metadata": {},
   "outputs": [
    {
     "data": {
      "text/plain": [
       "'pink'"
      ]
     },
     "execution_count": 147,
     "metadata": {},
     "output_type": "execute_result"
    }
   ],
   "source": [
    "colour"
   ]
  },
  {
   "cell_type": "code",
   "execution_count": 148,
   "id": "700b8558",
   "metadata": {},
   "outputs": [
    {
     "data": {
      "text/plain": [
       "-1"
      ]
     },
     "execution_count": 148,
     "metadata": {},
     "output_type": "execute_result"
    }
   ],
   "source": [
    "colour.find('i',4)"
   ]
  },
  {
   "cell_type": "code",
   "execution_count": 146,
   "id": "0c1ea0fa",
   "metadata": {},
   "outputs": [
    {
     "data": {
      "text/plain": [
       "-1"
      ]
     },
     "execution_count": 146,
     "metadata": {},
     "output_type": "execute_result"
    }
   ],
   "source": [
    "colour.find('p',2)"
   ]
  },
  {
   "cell_type": "markdown",
   "id": "da9dd1fc",
   "metadata": {},
   "source": [
    "#### In operation ####"
   ]
  },
  {
   "cell_type": "code",
   "execution_count": 149,
   "id": "da58bf5f",
   "metadata": {},
   "outputs": [
    {
     "data": {
      "text/plain": [
       "True"
      ]
     },
     "execution_count": 149,
     "metadata": {},
     "output_type": "execute_result"
    }
   ],
   "source": [
    "'p' in colour"
   ]
  },
  {
   "cell_type": "code",
   "execution_count": 150,
   "id": "82a1a739",
   "metadata": {},
   "outputs": [
    {
     "data": {
      "text/plain": [
       "False"
      ]
     },
     "execution_count": 150,
     "metadata": {},
     "output_type": "execute_result"
    }
   ],
   "source": [
    "'y' in colour"
   ]
  },
  {
   "cell_type": "code",
   "execution_count": 154,
   "id": "941b87fa",
   "metadata": {},
   "outputs": [
    {
     "name": "stdout",
     "output_type": "stream",
     "text": [
      "john is a student in the school.\n"
     ]
    }
   ],
   "source": [
    "if 'p' in colour:\n",
    "    print('john is a student'+' in the school.')\n",
    "else:\n",
    "    print('No'+ colour)"
   ]
  },
  {
   "cell_type": "code",
   "execution_count": 155,
   "id": "4b50035f",
   "metadata": {},
   "outputs": [
    {
     "name": "stdout",
     "output_type": "stream",
     "text": [
      "Nopink\n"
     ]
    }
   ],
   "source": [
    "if 'x' in colour:\n",
    "    print('john is a student'+' in the school.')\n",
    "else:\n",
    "    print('No'+colour)"
   ]
  },
  {
   "cell_type": "markdown",
   "id": "852d7d6d",
   "metadata": {},
   "source": [
    "#### Compare ####"
   ]
  },
  {
   "cell_type": "markdown",
   "id": "aaf0221d",
   "metadata": {},
   "source": [
    "#### Look at the example, it compares them according to alphabet,'j' comes more previous than 'p'.It mean 'colour is smaller than 'colour_ex'. ####"
   ]
  },
  {
   "cell_type": "code",
   "execution_count": 156,
   "id": "782f00ee",
   "metadata": {},
   "outputs": [
    {
     "data": {
      "text/plain": [
       "'pink'"
      ]
     },
     "execution_count": 156,
     "metadata": {},
     "output_type": "execute_result"
    }
   ],
   "source": [
    "colour"
   ]
  },
  {
   "cell_type": "code",
   "execution_count": 157,
   "id": "5f7cc813",
   "metadata": {},
   "outputs": [
    {
     "data": {
      "text/plain": [
       "' john comes and her mother comes   '"
      ]
     },
     "execution_count": 157,
     "metadata": {},
     "output_type": "execute_result"
    }
   ],
   "source": [
    "colour_ex"
   ]
  },
  {
   "cell_type": "code",
   "execution_count": 161,
   "id": "055525d7",
   "metadata": {},
   "outputs": [
    {
     "name": "stdout",
     "output_type": "stream",
     "text": [
      " JOHN COMES AND HER MOTHER COMES   \n"
     ]
    }
   ],
   "source": [
    "if colour<colour_ex:\n",
    "    print(colour.upper())\n",
    "else:\n",
    "    print(colour_ex.upper())"
   ]
  },
  {
   "cell_type": "code",
   "execution_count": 162,
   "id": "d1e87916",
   "metadata": {},
   "outputs": [
    {
     "data": {
      "text/plain": [
       "'pink'"
      ]
     },
     "execution_count": 162,
     "metadata": {},
     "output_type": "execute_result"
    }
   ],
   "source": [
    "colour"
   ]
  },
  {
   "cell_type": "code",
   "execution_count": 163,
   "id": "c47737c4",
   "metadata": {},
   "outputs": [
    {
     "data": {
      "text/plain": [
       "'p'"
      ]
     },
     "execution_count": 163,
     "metadata": {},
     "output_type": "execute_result"
    }
   ],
   "source": [
    "colour[0]"
   ]
  },
  {
   "cell_type": "code",
   "execution_count": null,
   "id": "cfbcc9f9",
   "metadata": {},
   "outputs": [],
   "source": []
  },
  {
   "cell_type": "markdown",
   "id": "50a8d3bb",
   "metadata": {},
   "source": [
    "#### Set ####"
   ]
  },
  {
   "cell_type": "code",
   "execution_count": 167,
   "id": "4207f162",
   "metadata": {},
   "outputs": [],
   "source": [
    "cluester={'ali',1,True,5,'ali gel'}"
   ]
  },
  {
   "cell_type": "code",
   "execution_count": 168,
   "id": "e71862e3",
   "metadata": {},
   "outputs": [
    {
     "data": {
      "text/plain": [
       "set"
      ]
     },
     "execution_count": 168,
     "metadata": {},
     "output_type": "execute_result"
    }
   ],
   "source": [
    "type(cluester)"
   ]
  },
  {
   "cell_type": "code",
   "execution_count": 171,
   "id": "90162ff0",
   "metadata": {},
   "outputs": [],
   "source": [
    "cluester1={'ali',1,False,2,3,4}"
   ]
  },
  {
   "cell_type": "code",
   "execution_count": 172,
   "id": "57931390",
   "metadata": {},
   "outputs": [
    {
     "data": {
      "text/plain": [
       "{1, 'ali'}"
      ]
     },
     "execution_count": 172,
     "metadata": {},
     "output_type": "execute_result"
    }
   ],
   "source": [
    "cluester.intersection(cluester1)"
   ]
  },
  {
   "cell_type": "code",
   "execution_count": 174,
   "id": "8621cbcb",
   "metadata": {},
   "outputs": [
    {
     "data": {
      "text/plain": [
       "{1, 2, 3, 4, 5, False, 'ali', 'ali gel'}"
      ]
     },
     "execution_count": 174,
     "metadata": {},
     "output_type": "execute_result"
    }
   ],
   "source": [
    "cluester.union(cluester1)"
   ]
  },
  {
   "cell_type": "code",
   "execution_count": 177,
   "id": "4d392ef2",
   "metadata": {},
   "outputs": [
    {
     "data": {
      "text/plain": [
       "{5, 'ali gel'}"
      ]
     },
     "execution_count": 177,
     "metadata": {},
     "output_type": "execute_result"
    }
   ],
   "source": [
    "cluester.difference(cluester1)"
   ]
  },
  {
   "cell_type": "code",
   "execution_count": 178,
   "id": "8c8792d2",
   "metadata": {},
   "outputs": [
    {
     "data": {
      "text/plain": [
       "{False, 2, 3, 4}"
      ]
     },
     "execution_count": 178,
     "metadata": {},
     "output_type": "execute_result"
    }
   ],
   "source": [
    "cluester1.difference(cluester)"
   ]
  },
  {
   "cell_type": "code",
   "execution_count": 180,
   "id": "5dd44443",
   "metadata": {},
   "outputs": [
    {
     "data": {
      "text/plain": [
       "{2, 3, 4, 5, False, 'ali gel'}"
      ]
     },
     "execution_count": 180,
     "metadata": {},
     "output_type": "execute_result"
    }
   ],
   "source": [
    "cluester.symmetric_difference(cluester1)"
   ]
  },
  {
   "cell_type": "code",
   "execution_count": 182,
   "id": "574ebcad",
   "metadata": {},
   "outputs": [
    {
     "data": {
      "text/plain": [
       "{1, 5, 'ali', 'ali gel'}"
      ]
     },
     "execution_count": 182,
     "metadata": {},
     "output_type": "execute_result"
    }
   ],
   "source": [
    "cluester"
   ]
  },
  {
   "cell_type": "markdown",
   "id": "dafbb8a4",
   "metadata": {},
   "source": [
    "#### We add a new element but do not add one more elements and a set ,list or tuple. ####"
   ]
  },
  {
   "cell_type": "code",
   "execution_count": 184,
   "id": "fcc6135a",
   "metadata": {},
   "outputs": [],
   "source": [
    "cluester.add('veli')"
   ]
  },
  {
   "cell_type": "code",
   "execution_count": 213,
   "id": "6f336c89",
   "metadata": {},
   "outputs": [],
   "source": [
    "cluester.update('jale','umut')           #We add one more elements and list ,set, or tuple."
   ]
  },
  {
   "cell_type": "code",
   "execution_count": 215,
   "id": "405eede4",
   "metadata": {},
   "outputs": [
    {
     "data": {
      "text/plain": [
       "{1, 5, 'a', 'ali', 'e', 'j', 'l', 'm', 't', 'u', 'veli'}"
      ]
     },
     "execution_count": 215,
     "metadata": {},
     "output_type": "execute_result"
    }
   ],
   "source": [
    "cluester"
   ]
  },
  {
   "cell_type": "code",
   "execution_count": 224,
   "id": "92b69cc9",
   "metadata": {},
   "outputs": [],
   "source": [
    "name='x','y'"
   ]
  },
  {
   "cell_type": "code",
   "execution_count": 225,
   "id": "d19223cf",
   "metadata": {},
   "outputs": [],
   "source": [
    "cluester.update(name)"
   ]
  },
  {
   "cell_type": "code",
   "execution_count": 226,
   "id": "146d155b",
   "metadata": {},
   "outputs": [
    {
     "data": {
      "text/plain": [
       "{1, 2, 3, 4, 5, 99, 'a', 'ali', 'e', 'j', 'l', 'm', 't', 'u', 'veli', 'x', 'y'}"
      ]
     },
     "execution_count": 226,
     "metadata": {},
     "output_type": "execute_result"
    }
   ],
   "source": [
    "cluester"
   ]
  },
  {
   "cell_type": "code",
   "execution_count": 227,
   "id": "73a8d888",
   "metadata": {},
   "outputs": [],
   "source": [
    "name1=[999999]"
   ]
  },
  {
   "cell_type": "code",
   "execution_count": 228,
   "id": "90e3ccbd",
   "metadata": {},
   "outputs": [],
   "source": [
    "cluester.update(name1)"
   ]
  },
  {
   "cell_type": "code",
   "execution_count": 229,
   "id": "efd44315",
   "metadata": {},
   "outputs": [
    {
     "data": {
      "text/plain": [
       "{1,\n",
       " 2,\n",
       " 3,\n",
       " 4,\n",
       " 5,\n",
       " 99,\n",
       " 999999,\n",
       " 'a',\n",
       " 'ali',\n",
       " 'e',\n",
       " 'j',\n",
       " 'l',\n",
       " 'm',\n",
       " 't',\n",
       " 'u',\n",
       " 'veli',\n",
       " 'x',\n",
       " 'y'}"
      ]
     },
     "execution_count": 229,
     "metadata": {},
     "output_type": "execute_result"
    }
   ],
   "source": [
    "cluester"
   ]
  },
  {
   "cell_type": "code",
   "execution_count": 216,
   "id": "c9c681cd",
   "metadata": {},
   "outputs": [],
   "source": [
    "cluester.update([1,2,3,4,5,99])"
   ]
  },
  {
   "cell_type": "code",
   "execution_count": 217,
   "id": "680fa86b",
   "metadata": {},
   "outputs": [
    {
     "data": {
      "text/plain": [
       "{1, 2, 3, 4, 5, 99, 'a', 'ali', 'e', 'j', 'l', 'm', 't', 'u', 'veli'}"
      ]
     },
     "execution_count": 217,
     "metadata": {},
     "output_type": "execute_result"
    }
   ],
   "source": [
    "cluester"
   ]
  },
  {
   "cell_type": "code",
   "execution_count": 185,
   "id": "97f7b630",
   "metadata": {},
   "outputs": [
    {
     "data": {
      "text/plain": [
       "{1, 5, 'ali', 'ali gel', 'veli'}"
      ]
     },
     "execution_count": 185,
     "metadata": {},
     "output_type": "execute_result"
    }
   ],
   "source": [
    "cluester"
   ]
  },
  {
   "cell_type": "code",
   "execution_count": 200,
   "id": "78487074",
   "metadata": {},
   "outputs": [
    {
     "ename": "TypeError",
     "evalue": "add() takes exactly one argument (2 given)",
     "output_type": "error",
     "traceback": [
      "\u001b[1;31m---------------------------------------------------------------------------\u001b[0m",
      "\u001b[1;31mTypeError\u001b[0m                                 Traceback (most recent call last)",
      "\u001b[1;32m<ipython-input-200-7c131e802f81>\u001b[0m in \u001b[0;36m<module>\u001b[1;34m\u001b[0m\n\u001b[1;32m----> 1\u001b[1;33m \u001b[0mcluester\u001b[0m\u001b[1;33m.\u001b[0m\u001b[0madd\u001b[0m\u001b[1;33m(\u001b[0m\u001b[1;34m'ayse'\u001b[0m\u001b[1;33m,\u001b[0m\u001b[1;34m'emine'\u001b[0m\u001b[1;33m)\u001b[0m\u001b[1;33m\u001b[0m\u001b[0m\n\u001b[0m",
      "\u001b[1;31mTypeError\u001b[0m: add() takes exactly one argument (2 given)"
     ]
    }
   ],
   "source": [
    "cluester.add('ayse','emine')            #We do not add one more elements"
   ]
  },
  {
   "cell_type": "code",
   "execution_count": 196,
   "id": "2f0ef85c",
   "metadata": {},
   "outputs": [
    {
     "ename": "TypeError",
     "evalue": "unhashable type: 'list'",
     "output_type": "error",
     "traceback": [
      "\u001b[1;31m---------------------------------------------------------------------------\u001b[0m",
      "\u001b[1;31mTypeError\u001b[0m                                 Traceback (most recent call last)",
      "\u001b[1;32m<ipython-input-196-2d67e64b8f24>\u001b[0m in \u001b[0;36m<module>\u001b[1;34m\u001b[0m\n\u001b[1;32m----> 1\u001b[1;33m \u001b[0mcluester\u001b[0m\u001b[1;33m.\u001b[0m\u001b[0madd\u001b[0m\u001b[1;33m(\u001b[0m\u001b[0mcluester2\u001b[0m\u001b[1;33m)\u001b[0m\u001b[1;33m\u001b[0m\u001b[0m\n\u001b[0m",
      "\u001b[1;31mTypeError\u001b[0m: unhashable type: 'list'"
     ]
    }
   ],
   "source": [
    "cluester.add(cluester2)                #We do not add a list,set and  tuple"
   ]
  },
  {
   "cell_type": "markdown",
   "id": "2ce815ab",
   "metadata": {},
   "source": [
    "#### We remove a element or elements but do not add a set ,list or tuple. ####"
   ]
  },
  {
   "cell_type": "code",
   "execution_count": 188,
   "id": "c3555ca5",
   "metadata": {},
   "outputs": [
    {
     "ename": "KeyError",
     "evalue": "'ali gel'",
     "output_type": "error",
     "traceback": [
      "\u001b[1;31m---------------------------------------------------------------------------\u001b[0m",
      "\u001b[1;31mKeyError\u001b[0m                                  Traceback (most recent call last)",
      "\u001b[1;32m<ipython-input-188-bd5322f8f33e>\u001b[0m in \u001b[0;36m<module>\u001b[1;34m\u001b[0m\n\u001b[1;32m----> 1\u001b[1;33m \u001b[0mcluester\u001b[0m\u001b[1;33m.\u001b[0m\u001b[0mremove\u001b[0m\u001b[1;33m(\u001b[0m\u001b[1;34m'ali gel'\u001b[0m\u001b[1;33m)\u001b[0m\u001b[1;33m\u001b[0m\u001b[0m\n\u001b[0m",
      "\u001b[1;31mKeyError\u001b[0m: 'ali gel'"
     ]
    }
   ],
   "source": [
    "cluester.remove('ali gel')      #Do not run 'remove' because ıt already remove the element at one times."
   ]
  },
  {
   "cell_type": "code",
   "execution_count": 197,
   "id": "8c41ad0c",
   "metadata": {},
   "outputs": [
    {
     "data": {
      "text/plain": [
       "{1, 5, 'ali', 'veli'}"
      ]
     },
     "execution_count": 197,
     "metadata": {},
     "output_type": "execute_result"
    }
   ],
   "source": [
    "cluester"
   ]
  },
  {
   "cell_type": "code",
   "execution_count": 198,
   "id": "9e4ea958",
   "metadata": {},
   "outputs": [
    {
     "ename": "TypeError",
     "evalue": "remove() takes exactly one argument (2 given)",
     "output_type": "error",
     "traceback": [
      "\u001b[1;31m---------------------------------------------------------------------------\u001b[0m",
      "\u001b[1;31mTypeError\u001b[0m                                 Traceback (most recent call last)",
      "\u001b[1;32m<ipython-input-198-5d938f4557aa>\u001b[0m in \u001b[0;36m<module>\u001b[1;34m\u001b[0m\n\u001b[1;32m----> 1\u001b[1;33m \u001b[0mcluester\u001b[0m\u001b[1;33m.\u001b[0m\u001b[0mremove\u001b[0m\u001b[1;33m(\u001b[0m\u001b[1;34m'ali'\u001b[0m\u001b[1;33m,\u001b[0m\u001b[1;34m'veli'\u001b[0m\u001b[1;33m)\u001b[0m\u001b[1;33m\u001b[0m\u001b[0m\n\u001b[0m",
      "\u001b[1;31mTypeError\u001b[0m: remove() takes exactly one argument (2 given)"
     ]
    }
   ],
   "source": [
    "cluester.remove('ali','veli') "
   ]
  },
  {
   "cell_type": "code",
   "execution_count": 189,
   "id": "d04ee2db",
   "metadata": {},
   "outputs": [
    {
     "data": {
      "text/plain": [
       "{1, 5, 'ali', 'veli'}"
      ]
     },
     "execution_count": 189,
     "metadata": {},
     "output_type": "execute_result"
    }
   ],
   "source": [
    "cluester"
   ]
  },
  {
   "cell_type": "code",
   "execution_count": 191,
   "id": "b704ae0a",
   "metadata": {},
   "outputs": [
    {
     "data": {
      "text/plain": [
       "False"
      ]
     },
     "execution_count": 191,
     "metadata": {},
     "output_type": "execute_result"
    }
   ],
   "source": [
    "cluester.issubset(cluester1)"
   ]
  },
  {
   "cell_type": "code",
   "execution_count": 192,
   "id": "c88d103f",
   "metadata": {},
   "outputs": [
    {
     "data": {
      "text/plain": [
       "False"
      ]
     },
     "execution_count": 192,
     "metadata": {},
     "output_type": "execute_result"
    }
   ],
   "source": [
    "cluester.issuperset(cluester1)"
   ]
  },
  {
   "cell_type": "markdown",
   "id": "7af4626f",
   "metadata": {},
   "source": [
    "### List ###"
   ]
  },
  {
   "cell_type": "code",
   "execution_count": 202,
   "id": "cb9100f2",
   "metadata": {},
   "outputs": [],
   "source": [
    "l=[1,2,3,4,5,6]"
   ]
  },
  {
   "cell_type": "code",
   "execution_count": 203,
   "id": "1e8a9818",
   "metadata": {},
   "outputs": [
    {
     "data": {
      "text/plain": [
       "list"
      ]
     },
     "execution_count": 203,
     "metadata": {},
     "output_type": "execute_result"
    }
   ],
   "source": [
    "type(l)"
   ]
  },
  {
   "cell_type": "code",
   "execution_count": 204,
   "id": "c22cc12a",
   "metadata": {},
   "outputs": [
    {
     "data": {
      "text/plain": [
       "1"
      ]
     },
     "execution_count": 204,
     "metadata": {},
     "output_type": "execute_result"
    }
   ],
   "source": [
    "l[0]"
   ]
  },
  {
   "cell_type": "code",
   "execution_count": 205,
   "id": "f27c64b1",
   "metadata": {},
   "outputs": [
    {
     "data": {
      "text/plain": [
       "2"
      ]
     },
     "execution_count": 205,
     "metadata": {},
     "output_type": "execute_result"
    }
   ],
   "source": [
    "l[1]"
   ]
  },
  {
   "cell_type": "code",
   "execution_count": 206,
   "id": "89067d19",
   "metadata": {},
   "outputs": [
    {
     "data": {
      "text/plain": [
       "4"
      ]
     },
     "execution_count": 206,
     "metadata": {},
     "output_type": "execute_result"
    }
   ],
   "source": [
    "l[3]"
   ]
  },
  {
   "cell_type": "code",
   "execution_count": 208,
   "id": "37e241c8",
   "metadata": {},
   "outputs": [
    {
     "data": {
      "text/plain": [
       "[1, 2, 3, 4, 5, 6]"
      ]
     },
     "execution_count": 208,
     "metadata": {},
     "output_type": "execute_result"
    }
   ],
   "source": [
    "l[::]"
   ]
  },
  {
   "cell_type": "code",
   "execution_count": 209,
   "id": "f2fef4c4",
   "metadata": {},
   "outputs": [
    {
     "data": {
      "text/plain": [
       "[1, 2, 3, 4]"
      ]
     },
     "execution_count": 209,
     "metadata": {},
     "output_type": "execute_result"
    }
   ],
   "source": [
    "l[:4]"
   ]
  },
  {
   "cell_type": "code",
   "execution_count": 211,
   "id": "1c32a1da",
   "metadata": {},
   "outputs": [
    {
     "data": {
      "text/plain": [
       "[3, 4, 5]"
      ]
     },
     "execution_count": 211,
     "metadata": {},
     "output_type": "execute_result"
    }
   ],
   "source": [
    "l[2:5]"
   ]
  },
  {
   "cell_type": "code",
   "execution_count": 212,
   "id": "16f9e5d9",
   "metadata": {},
   "outputs": [
    {
     "data": {
      "text/plain": [
       "[2, 4]"
      ]
     },
     "execution_count": 212,
     "metadata": {},
     "output_type": "execute_result"
    }
   ],
   "source": [
    "l[1:5:2]"
   ]
  },
  {
   "cell_type": "code",
   "execution_count": 325,
   "id": "19308d3f",
   "metadata": {},
   "outputs": [],
   "source": [
    "l_needed=[12,45,1,2,4523,[1,25,999,75]]"
   ]
  },
  {
   "cell_type": "code",
   "execution_count": 327,
   "id": "3be97c7b",
   "metadata": {},
   "outputs": [
    {
     "data": {
      "text/plain": [
       "999"
      ]
     },
     "execution_count": 327,
     "metadata": {},
     "output_type": "execute_result"
    }
   ],
   "source": [
    "l_needed[5][2]"
   ]
  },
  {
   "cell_type": "code",
   "execution_count": 284,
   "id": "bb1692ea",
   "metadata": {},
   "outputs": [],
   "source": [
    "l.insert(1,'a')                  # We want to add a element with index ,use 'insert'."
   ]
  },
  {
   "cell_type": "code",
   "execution_count": 285,
   "id": "e9889761",
   "metadata": {},
   "outputs": [
    {
     "data": {
      "text/plain": [
       "[1,\n",
       " 'a',\n",
       " 1,\n",
       " 2,\n",
       " 3,\n",
       " 4,\n",
       " 5,\n",
       " 5,\n",
       " 6,\n",
       " 'ali',\n",
       " 'veli',\n",
       " 5,\n",
       " 8888,\n",
       " 'a',\n",
       " 'l',\n",
       " 'i',\n",
       " 7777,\n",
       " 8888,\n",
       " 66666]"
      ]
     },
     "execution_count": 285,
     "metadata": {},
     "output_type": "execute_result"
    }
   ],
   "source": [
    "l"
   ]
  },
  {
   "cell_type": "code",
   "execution_count": 231,
   "id": "186043df",
   "metadata": {},
   "outputs": [],
   "source": [
    "l.append(99999)"
   ]
  },
  {
   "cell_type": "code",
   "execution_count": 232,
   "id": "a62c1b12",
   "metadata": {},
   "outputs": [
    {
     "data": {
      "text/plain": [
       "[1, 2, 3, 4, 5, 6, 5, 99999]"
      ]
     },
     "execution_count": 232,
     "metadata": {},
     "output_type": "execute_result"
    }
   ],
   "source": [
    "l"
   ]
  },
  {
   "cell_type": "code",
   "execution_count": 249,
   "id": "9fea31c0",
   "metadata": {},
   "outputs": [
    {
     "ename": "TypeError",
     "evalue": "append() takes exactly one argument (2 given)",
     "output_type": "error",
     "traceback": [
      "\u001b[1;31m---------------------------------------------------------------------------\u001b[0m",
      "\u001b[1;31mTypeError\u001b[0m                                 Traceback (most recent call last)",
      "\u001b[1;32m<ipython-input-249-b07b4b42fda3>\u001b[0m in \u001b[0;36m<module>\u001b[1;34m\u001b[0m\n\u001b[1;32m----> 1\u001b[1;33m \u001b[0ml\u001b[0m\u001b[1;33m.\u001b[0m\u001b[0mappend\u001b[0m\u001b[1;33m(\u001b[0m\u001b[1;36m333333\u001b[0m\u001b[1;33m,\u001b[0m\u001b[1;36m444444\u001b[0m\u001b[1;33m)\u001b[0m\u001b[1;33m\u001b[0m\u001b[0m\n\u001b[0m",
      "\u001b[1;31mTypeError\u001b[0m: append() takes exactly one argument (2 given)"
     ]
    }
   ],
   "source": [
    "l.append(333333,444444)                "
   ]
  },
  {
   "cell_type": "markdown",
   "id": "97843e5e",
   "metadata": {},
   "source": [
    "#### We do not add one more element 'append',we have to create a set,list,or tuple.One of them is appended with 'extend' ####"
   ]
  },
  {
   "cell_type": "code",
   "execution_count": 237,
   "id": "06649127",
   "metadata": {},
   "outputs": [],
   "source": [
    "l1=[1,'ali','veli',5,8888]"
   ]
  },
  {
   "cell_type": "code",
   "execution_count": 238,
   "id": "ef086b54",
   "metadata": {},
   "outputs": [],
   "source": [
    "l.extend(l1)                             #We want to add a list,tuple or set, we add with 'extend'"
   ]
  },
  {
   "cell_type": "code",
   "execution_count": 239,
   "id": "6fd8fd22",
   "metadata": {},
   "outputs": [
    {
     "data": {
      "text/plain": [
       "[1, 2, 3, 4, 5, 6, 5, 1, 'ali', 'veli', 5, 8888]"
      ]
     },
     "execution_count": 239,
     "metadata": {},
     "output_type": "execute_result"
    }
   ],
   "source": [
    "l"
   ]
  },
  {
   "cell_type": "code",
   "execution_count": 248,
   "id": "b2486ef7",
   "metadata": {},
   "outputs": [
    {
     "ename": "TypeError",
     "evalue": "extend() takes exactly one argument (2 given)",
     "output_type": "error",
     "traceback": [
      "\u001b[1;31m---------------------------------------------------------------------------\u001b[0m",
      "\u001b[1;31mTypeError\u001b[0m                                 Traceback (most recent call last)",
      "\u001b[1;32m<ipython-input-248-90f5ff8947ae>\u001b[0m in \u001b[0;36m<module>\u001b[1;34m\u001b[0m\n\u001b[1;32m----> 1\u001b[1;33m \u001b[0ml\u001b[0m\u001b[1;33m.\u001b[0m\u001b[0mextend\u001b[0m\u001b[1;33m(\u001b[0m\u001b[1;36m11111\u001b[0m\u001b[1;33m,\u001b[0m\u001b[1;36m22222\u001b[0m\u001b[1;33m)\u001b[0m\u001b[1;33m\u001b[0m\u001b[0m\n\u001b[0m",
      "\u001b[1;31mTypeError\u001b[0m: extend() takes exactly one argument (2 given)"
     ]
    }
   ],
   "source": [
    "l.extend(11111,22222)                   #But we do not add one more element with 'extend'"
   ]
  },
  {
   "cell_type": "code",
   "execution_count": 242,
   "id": "e6c4f362",
   "metadata": {},
   "outputs": [],
   "source": [
    "tu=(7777,8888)"
   ]
  },
  {
   "cell_type": "code",
   "execution_count": 243,
   "id": "1911117b",
   "metadata": {},
   "outputs": [],
   "source": [
    "l.extend(tu)"
   ]
  },
  {
   "cell_type": "code",
   "execution_count": 244,
   "id": "ada8f10b",
   "metadata": {},
   "outputs": [
    {
     "data": {
      "text/plain": [
       "[1, 2, 3, 4, 5, 6, 5, 1, 'ali', 'veli', 5, 8888, 'a', 'l', 'i', 7777, 8888]"
      ]
     },
     "execution_count": 244,
     "metadata": {},
     "output_type": "execute_result"
    }
   ],
   "source": [
    "l"
   ]
  },
  {
   "cell_type": "code",
   "execution_count": 245,
   "id": "0dff305d",
   "metadata": {},
   "outputs": [],
   "source": [
    "se={5555,66666}"
   ]
  },
  {
   "cell_type": "code",
   "execution_count": 246,
   "id": "42c76c81",
   "metadata": {},
   "outputs": [],
   "source": [
    "l.extend(se)"
   ]
  },
  {
   "cell_type": "code",
   "execution_count": 247,
   "id": "1e49a6f5",
   "metadata": {},
   "outputs": [
    {
     "data": {
      "text/plain": [
       "[1,\n",
       " 2,\n",
       " 3,\n",
       " 4,\n",
       " 5,\n",
       " 6,\n",
       " 5,\n",
       " 1,\n",
       " 'ali',\n",
       " 'veli',\n",
       " 5,\n",
       " 8888,\n",
       " 'a',\n",
       " 'l',\n",
       " 'i',\n",
       " 7777,\n",
       " 8888,\n",
       " 66666,\n",
       " 5555]"
      ]
     },
     "execution_count": 247,
     "metadata": {},
     "output_type": "execute_result"
    }
   ],
   "source": [
    "l"
   ]
  },
  {
   "cell_type": "code",
   "execution_count": 251,
   "id": "92583428",
   "metadata": {},
   "outputs": [],
   "source": [
    "l.remove(5555)"
   ]
  },
  {
   "cell_type": "code",
   "execution_count": 252,
   "id": "6a195d61",
   "metadata": {},
   "outputs": [
    {
     "data": {
      "text/plain": [
       "[1,\n",
       " 2,\n",
       " 3,\n",
       " 4,\n",
       " 5,\n",
       " 6,\n",
       " 5,\n",
       " 1,\n",
       " 'ali',\n",
       " 'veli',\n",
       " 5,\n",
       " 8888,\n",
       " 'a',\n",
       " 'l',\n",
       " 'i',\n",
       " 7777,\n",
       " 8888,\n",
       " 66666]"
      ]
     },
     "execution_count": 252,
     "metadata": {},
     "output_type": "execute_result"
    }
   ],
   "source": [
    "l"
   ]
  },
  {
   "cell_type": "markdown",
   "id": "3664078e",
   "metadata": {},
   "source": [
    "#### We do not remove one more element with 'remove'. ####"
   ]
  },
  {
   "cell_type": "code",
   "execution_count": 253,
   "id": "d70402fd",
   "metadata": {},
   "outputs": [
    {
     "ename": "TypeError",
     "evalue": "remove() takes exactly one argument (2 given)",
     "output_type": "error",
     "traceback": [
      "\u001b[1;31m---------------------------------------------------------------------------\u001b[0m",
      "\u001b[1;31mTypeError\u001b[0m                                 Traceback (most recent call last)",
      "\u001b[1;32m<ipython-input-253-bba5d3f8b8cc>\u001b[0m in \u001b[0;36m<module>\u001b[1;34m\u001b[0m\n\u001b[1;32m----> 1\u001b[1;33m \u001b[0ml\u001b[0m\u001b[1;33m.\u001b[0m\u001b[0mremove\u001b[0m\u001b[1;33m(\u001b[0m\u001b[1;36m1\u001b[0m\u001b[1;33m,\u001b[0m\u001b[1;36m2\u001b[0m\u001b[1;33m)\u001b[0m\u001b[1;33m\u001b[0m\u001b[0m\n\u001b[0m",
      "\u001b[1;31mTypeError\u001b[0m: remove() takes exactly one argument (2 given)"
     ]
    }
   ],
   "source": [
    "l.remove(1,2)                     "
   ]
  },
  {
   "cell_type": "code",
   "execution_count": 254,
   "id": "55a5eddd",
   "metadata": {},
   "outputs": [
    {
     "data": {
      "text/plain": [
       "[1,\n",
       " 2,\n",
       " 3,\n",
       " 4,\n",
       " 5,\n",
       " 6,\n",
       " 5,\n",
       " 1,\n",
       " 'ali',\n",
       " 'veli',\n",
       " 5,\n",
       " 8888,\n",
       " 'a',\n",
       " 'l',\n",
       " 'i',\n",
       " 7777,\n",
       " 8888,\n",
       " 66666]"
      ]
     },
     "execution_count": 254,
     "metadata": {},
     "output_type": "execute_result"
    }
   ],
   "source": [
    "l"
   ]
  },
  {
   "cell_type": "code",
   "execution_count": 270,
   "id": "2b9d251b",
   "metadata": {},
   "outputs": [],
   "source": [
    "l2=[125,8952,46222,68748,123,455,985]"
   ]
  },
  {
   "cell_type": "code",
   "execution_count": 272,
   "id": "dbd468e5",
   "metadata": {},
   "outputs": [],
   "source": [
    "l2.sort()"
   ]
  },
  {
   "cell_type": "code",
   "execution_count": 273,
   "id": "2160dce5",
   "metadata": {},
   "outputs": [
    {
     "data": {
      "text/plain": [
       "[123, 125, 455, 985, 8952, 46222, 68748]"
      ]
     },
     "execution_count": 273,
     "metadata": {},
     "output_type": "execute_result"
    }
   ],
   "source": [
    "l2"
   ]
  },
  {
   "cell_type": "markdown",
   "id": "9407a4b0",
   "metadata": {},
   "source": [
    "#### 'pop' delete with element or index. ####"
   ]
  },
  {
   "cell_type": "code",
   "execution_count": 275,
   "id": "c7bb6ef2",
   "metadata": {},
   "outputs": [
    {
     "data": {
      "text/plain": [
       "68748"
      ]
     },
     "execution_count": 275,
     "metadata": {},
     "output_type": "execute_result"
    }
   ],
   "source": [
    "l2.pop()"
   ]
  },
  {
   "cell_type": "code",
   "execution_count": 276,
   "id": "bf63063a",
   "metadata": {},
   "outputs": [
    {
     "data": {
      "text/plain": [
       "[123, 125, 455, 985, 8952, 46222]"
      ]
     },
     "execution_count": 276,
     "metadata": {},
     "output_type": "execute_result"
    }
   ],
   "source": [
    "l2"
   ]
  },
  {
   "cell_type": "code",
   "execution_count": 277,
   "id": "59ac5f5f",
   "metadata": {},
   "outputs": [
    {
     "ename": "TypeError",
     "evalue": "pop() takes at most 1 argument (2 given)",
     "output_type": "error",
     "traceback": [
      "\u001b[1;31m---------------------------------------------------------------------------\u001b[0m",
      "\u001b[1;31mTypeError\u001b[0m                                 Traceback (most recent call last)",
      "\u001b[1;32m<ipython-input-277-1d698d969538>\u001b[0m in \u001b[0;36m<module>\u001b[1;34m\u001b[0m\n\u001b[1;32m----> 1\u001b[1;33m \u001b[0ml2\u001b[0m\u001b[1;33m.\u001b[0m\u001b[0mpop\u001b[0m\u001b[1;33m(\u001b[0m\u001b[1;36m125\u001b[0m\u001b[1;33m,\u001b[0m\u001b[1;36m46222\u001b[0m\u001b[1;33m)\u001b[0m\u001b[1;33m\u001b[0m\u001b[0m\n\u001b[0m",
      "\u001b[1;31mTypeError\u001b[0m: pop() takes at most 1 argument (2 given)"
     ]
    }
   ],
   "source": [
    "l2.pop(125,46222)                               #'pop' takes at most 1 element."
   ]
  },
  {
   "cell_type": "code",
   "execution_count": 317,
   "id": "4045a233",
   "metadata": {},
   "outputs": [
    {
     "data": {
      "text/plain": [
       "[123, 125, 455, 985, 8952, 46222]"
      ]
     },
     "execution_count": 317,
     "metadata": {},
     "output_type": "execute_result"
    }
   ],
   "source": [
    "l2"
   ]
  },
  {
   "cell_type": "code",
   "execution_count": 318,
   "id": "bc835852",
   "metadata": {},
   "outputs": [
    {
     "data": {
      "text/plain": [
       "455"
      ]
     },
     "execution_count": 318,
     "metadata": {},
     "output_type": "execute_result"
    }
   ],
   "source": [
    "l2.pop(2)                  "
   ]
  },
  {
   "cell_type": "code",
   "execution_count": 283,
   "id": "5d528273",
   "metadata": {},
   "outputs": [
    {
     "data": {
      "text/plain": [
       "1"
      ]
     },
     "execution_count": 283,
     "metadata": {},
     "output_type": "execute_result"
    }
   ],
   "source": [
    "l1.count(1)"
   ]
  },
  {
   "cell_type": "code",
   "execution_count": 289,
   "id": "fec6d7eb",
   "metadata": {},
   "outputs": [
    {
     "data": {
      "text/plain": [
       "[1, 5]"
      ]
     },
     "execution_count": 289,
     "metadata": {},
     "output_type": "execute_result"
    }
   ],
   "source": [
    "l1"
   ]
  },
  {
   "cell_type": "code",
   "execution_count": 290,
   "id": "4237634e",
   "metadata": {},
   "outputs": [],
   "source": [
    "l1.reverse()"
   ]
  },
  {
   "cell_type": "code",
   "execution_count": 291,
   "id": "1ce77efa",
   "metadata": {},
   "outputs": [
    {
     "data": {
      "text/plain": [
       "[5, 1]"
      ]
     },
     "execution_count": 291,
     "metadata": {},
     "output_type": "execute_result"
    }
   ],
   "source": [
    "l1"
   ]
  },
  {
   "cell_type": "code",
   "execution_count": 293,
   "id": "fe29fe4f",
   "metadata": {},
   "outputs": [
    {
     "data": {
      "text/plain": [
       "[5, 1]"
      ]
     },
     "execution_count": 293,
     "metadata": {},
     "output_type": "execute_result"
    }
   ],
   "source": [
    "l1"
   ]
  },
  {
   "cell_type": "code",
   "execution_count": 294,
   "id": "4b9cae01",
   "metadata": {},
   "outputs": [],
   "source": [
    "l_copy=l1.copy()"
   ]
  },
  {
   "cell_type": "code",
   "execution_count": 306,
   "id": "a7a717b1",
   "metadata": {},
   "outputs": [
    {
     "data": {
      "text/plain": [
       "[5, 1]"
      ]
     },
     "execution_count": 306,
     "metadata": {},
     "output_type": "execute_result"
    }
   ],
   "source": [
    "l1"
   ]
  },
  {
   "cell_type": "code",
   "execution_count": 307,
   "id": "8da4d3e0",
   "metadata": {},
   "outputs": [],
   "source": [
    "del l1[0]"
   ]
  },
  {
   "cell_type": "code",
   "execution_count": 308,
   "id": "906e5002",
   "metadata": {},
   "outputs": [
    {
     "data": {
      "text/plain": [
       "[1]"
      ]
     },
     "execution_count": 308,
     "metadata": {},
     "output_type": "execute_result"
    }
   ],
   "source": [
    "l1"
   ]
  },
  {
   "cell_type": "code",
   "execution_count": 309,
   "id": "eafca9cb",
   "metadata": {},
   "outputs": [
    {
     "ename": "SyntaxError",
     "evalue": "can't delete function call (<ipython-input-309-6ccf9d119080>, line 1)",
     "output_type": "error",
     "traceback": [
      "\u001b[1;36m  File \u001b[1;32m\"<ipython-input-309-6ccf9d119080>\"\u001b[1;36m, line \u001b[1;32m1\u001b[0m\n\u001b[1;33m    del l1(1)\u001b[0m\n\u001b[1;37m       ^\u001b[0m\n\u001b[1;31mSyntaxError\u001b[0m\u001b[1;31m:\u001b[0m can't delete function call\n"
     ]
    }
   ],
   "source": [
    "del l1(1)                        # We do not 'del' function with ()-only run with index. []"
   ]
  },
  {
   "cell_type": "code",
   "execution_count": 311,
   "id": "2d46bcb7",
   "metadata": {},
   "outputs": [
    {
     "data": {
      "text/plain": [
       "[66666,\n",
       " 8888,\n",
       " 7777,\n",
       " 'i',\n",
       " 'l',\n",
       " 'a',\n",
       " 8888,\n",
       " 5,\n",
       " 'veli',\n",
       " 'ali',\n",
       " 6,\n",
       " 5,\n",
       " 5,\n",
       " 4,\n",
       " 3,\n",
       " 2,\n",
       " 1,\n",
       " 'a',\n",
       " 1]"
      ]
     },
     "execution_count": 311,
     "metadata": {},
     "output_type": "execute_result"
    }
   ],
   "source": [
    "l"
   ]
  },
  {
   "cell_type": "code",
   "execution_count": 312,
   "id": "14822bd9",
   "metadata": {},
   "outputs": [
    {
     "data": {
      "text/plain": [
       "True"
      ]
     },
     "execution_count": 312,
     "metadata": {},
     "output_type": "execute_result"
    }
   ],
   "source": [
    "'veli' in l"
   ]
  },
  {
   "cell_type": "code",
   "execution_count": 314,
   "id": "ad5569ed",
   "metadata": {},
   "outputs": [
    {
     "data": {
      "text/plain": [
       "[1]"
      ]
     },
     "execution_count": 314,
     "metadata": {},
     "output_type": "execute_result"
    }
   ],
   "source": [
    "l1"
   ]
  },
  {
   "cell_type": "code",
   "execution_count": 315,
   "id": "09659e6b",
   "metadata": {},
   "outputs": [
    {
     "data": {
      "text/plain": [
       "[66666,\n",
       " 8888,\n",
       " 7777,\n",
       " 'i',\n",
       " 'l',\n",
       " 'a',\n",
       " 8888,\n",
       " 5,\n",
       " 'veli',\n",
       " 'ali',\n",
       " 6,\n",
       " 5,\n",
       " 5,\n",
       " 4,\n",
       " 3,\n",
       " 2,\n",
       " 1,\n",
       " 'a',\n",
       " 1]"
      ]
     },
     "execution_count": 315,
     "metadata": {},
     "output_type": "execute_result"
    }
   ],
   "source": [
    "l"
   ]
  },
  {
   "cell_type": "code",
   "execution_count": 313,
   "id": "47e9615b",
   "metadata": {},
   "outputs": [
    {
     "data": {
      "text/plain": [
       "False"
      ]
     },
     "execution_count": 313,
     "metadata": {},
     "output_type": "execute_result"
    }
   ],
   "source": [
    "l1>l"
   ]
  },
  {
   "cell_type": "code",
   "execution_count": 316,
   "id": "42538afa",
   "metadata": {},
   "outputs": [
    {
     "name": "stdout",
     "output_type": "stream",
     "text": [
      "smaller\n"
     ]
    }
   ],
   "source": [
    "if l1<l:\n",
    "    print('smaller')\n",
    "else:\n",
    "    print('')"
   ]
  },
  {
   "cell_type": "markdown",
   "id": "69db348a",
   "metadata": {},
   "source": [
    "#### Operatıon ####\n",
    "* '+'\n",
    "* '*'"
   ]
  },
  {
   "cell_type": "code",
   "execution_count": 319,
   "id": "e8f7dc50",
   "metadata": {},
   "outputs": [
    {
     "data": {
      "text/plain": [
       "[1, 123, 125, 985, 8952, 46222]"
      ]
     },
     "execution_count": 319,
     "metadata": {},
     "output_type": "execute_result"
    }
   ],
   "source": [
    "l1+l2"
   ]
  },
  {
   "cell_type": "code",
   "execution_count": 322,
   "id": "e3fbf49c",
   "metadata": {},
   "outputs": [
    {
     "data": {
      "text/plain": [
       "[1]"
      ]
     },
     "execution_count": 322,
     "metadata": {},
     "output_type": "execute_result"
    }
   ],
   "source": [
    "l1"
   ]
  },
  {
   "cell_type": "code",
   "execution_count": 321,
   "id": "8849b0d5",
   "metadata": {},
   "outputs": [
    {
     "data": {
      "text/plain": [
       "[1, 1, 1, 1, 1]"
      ]
     },
     "execution_count": 321,
     "metadata": {},
     "output_type": "execute_result"
    }
   ],
   "source": [
    "l1*5"
   ]
  },
  {
   "cell_type": "code",
   "execution_count": 323,
   "id": "8694721c",
   "metadata": {},
   "outputs": [
    {
     "data": {
      "text/plain": [
       "[123, 125, 985, 8952, 46222]"
      ]
     },
     "execution_count": 323,
     "metadata": {},
     "output_type": "execute_result"
    }
   ],
   "source": [
    "l2"
   ]
  },
  {
   "cell_type": "markdown",
   "id": "34ef9a62",
   "metadata": {},
   "source": [
    "#### Joining end of list twice times. ####"
   ]
  },
  {
   "cell_type": "code",
   "execution_count": 324,
   "id": "91826d6d",
   "metadata": {},
   "outputs": [
    {
     "data": {
      "text/plain": [
       "[123, 125, 985, 8952, 46222, 123, 125, 985, 8952, 46222]"
      ]
     },
     "execution_count": 324,
     "metadata": {},
     "output_type": "execute_result"
    }
   ],
   "source": [
    "l2*2                                "
   ]
  },
  {
   "cell_type": "code",
   "execution_count": null,
   "id": "3d415690",
   "metadata": {},
   "outputs": [],
   "source": []
  }
 ],
 "metadata": {
  "kernelspec": {
   "display_name": "Python 3",
   "language": "python",
   "name": "python3"
  },
  "language_info": {
   "codemirror_mode": {
    "name": "ipython",
    "version": 3
   },
   "file_extension": ".py",
   "mimetype": "text/x-python",
   "name": "python",
   "nbconvert_exporter": "python",
   "pygments_lexer": "ipython3",
   "version": "3.7.0"
  }
 },
 "nbformat": 4,
 "nbformat_minor": 5
}
